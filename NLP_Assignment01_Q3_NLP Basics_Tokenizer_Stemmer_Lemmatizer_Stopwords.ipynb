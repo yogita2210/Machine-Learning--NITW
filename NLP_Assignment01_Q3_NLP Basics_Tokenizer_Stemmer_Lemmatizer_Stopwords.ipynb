{
 "cells": [
  {
   "cell_type": "code",
   "execution_count": 12,
   "metadata": {},
   "outputs": [
    {
     "name": "stderr",
     "output_type": "stream",
     "text": [
      "[nltk_data] Downloading package punkt to\n",
      "[nltk_data]     C:\\Users\\YOGITA\\AppData\\Roaming\\nltk_data...\n",
      "[nltk_data]   Package punkt is already up-to-date!\n",
      "[nltk_data] Downloading package wordnet to\n",
      "[nltk_data]     C:\\Users\\YOGITA\\AppData\\Roaming\\nltk_data...\n",
      "[nltk_data]   Package wordnet is already up-to-date!\n"
     ]
    }
   ],
   "source": [
    "#import libraries\n",
    "import nltk\n",
    "nltk.download('punkt')\n",
    "nltk.download('wordnet')\n",
    "from nltk.corpus import wordnet\n",
    "from nltk.tokenize import word_tokenize\n",
    "from nltk import FreqDist\n",
    "from operator import itemgetter\n",
    "\n",
    "import pandas as pd\n",
    "import numpy as np"
   ]
  },
  {
   "cell_type": "code",
   "execution_count": 16,
   "metadata": {},
   "outputs": [
    {
     "name": "stdout",
     "output_type": "stream",
     "text": [
      "Overwriting tokenizer_func.py\n"
     ]
    }
   ],
   "source": [
    "%%writefile tokenizer_func.py\n",
    "\n",
    "#import libraries\n",
    "import nltk\n",
    "from nltk.tokenize import word_tokenize\n",
    "from nltk import FreqDist\n",
    "from operator import itemgetter\n",
    "\n",
    "#define tokenize function\n",
    "def Tokenize():\n",
    "    text = input()\n",
    "    tokens = word_tokenize(text) #tokenize the words\n",
    "    fdist = FreqDist(tokens) #find the frequency of words\n",
    "    for f in fdist:\n",
    "        print(f, fdist[f])\n",
    "    min_5 = dict(sorted(fdist.items(), key=itemgetter(1))[:5]) #find the least 5 occuring words\n",
    "    print(\"Least 5 occurring tokens:\", min_5)\n",
    "    return tokens"
   ]
  },
  {
   "cell_type": "code",
   "execution_count": 17,
   "metadata": {},
   "outputs": [
    {
     "ename": "NameError",
     "evalue": "name 'raw_input' is not defined",
     "output_type": "error",
     "traceback": [
      "\u001b[1;31m---------------------------------------------------------------------------\u001b[0m",
      "\u001b[1;31mNameError\u001b[0m                                 Traceback (most recent call last)",
      "\u001b[1;32m<ipython-input-17-9ed1fc93ce42>\u001b[0m in \u001b[0;36m<module>\u001b[1;34m\u001b[0m\n\u001b[0;32m      1\u001b[0m \u001b[1;31m#run the Tokenize function\u001b[0m\u001b[1;33m\u001b[0m\u001b[1;33m\u001b[0m\u001b[1;33m\u001b[0m\u001b[0m\n\u001b[0;32m      2\u001b[0m \u001b[1;32mfrom\u001b[0m \u001b[0mtokenizer_func\u001b[0m \u001b[1;32mimport\u001b[0m \u001b[0mTokenize\u001b[0m\u001b[1;33m\u001b[0m\u001b[1;33m\u001b[0m\u001b[0m\n\u001b[1;32m----> 3\u001b[1;33m \u001b[0mTokenize\u001b[0m\u001b[1;33m(\u001b[0m\u001b[1;33m)\u001b[0m\u001b[1;33m\u001b[0m\u001b[1;33m\u001b[0m\u001b[0m\n\u001b[0m",
      "\u001b[1;32m~\\Python\\desktop\\YS\\NITW\\Module-07 NLP\\Assignment 01\\tokenizer_func.py\u001b[0m in \u001b[0;36mTokenize\u001b[1;34m()\u001b[0m\n\u001b[0;32m      8\u001b[0m \u001b[1;31m#define tokenize function\u001b[0m\u001b[1;33m\u001b[0m\u001b[1;33m\u001b[0m\u001b[1;33m\u001b[0m\u001b[0m\n\u001b[0;32m      9\u001b[0m \u001b[1;32mdef\u001b[0m \u001b[0mTokenize\u001b[0m\u001b[1;33m(\u001b[0m\u001b[1;33m)\u001b[0m\u001b[1;33m:\u001b[0m\u001b[1;33m\u001b[0m\u001b[1;33m\u001b[0m\u001b[0m\n\u001b[1;32m---> 10\u001b[1;33m     \u001b[0mtext\u001b[0m \u001b[1;33m=\u001b[0m \u001b[0minput\u001b[0m\u001b[1;33m(\u001b[0m\u001b[1;33m)\u001b[0m\u001b[1;33m\u001b[0m\u001b[1;33m\u001b[0m\u001b[0m\n\u001b[0m\u001b[0;32m     11\u001b[0m     \u001b[0mtokens\u001b[0m \u001b[1;33m=\u001b[0m \u001b[0mword_tokenize\u001b[0m\u001b[1;33m(\u001b[0m\u001b[0mtext\u001b[0m\u001b[1;33m)\u001b[0m \u001b[1;31m#tokenize the words\u001b[0m\u001b[1;33m\u001b[0m\u001b[1;33m\u001b[0m\u001b[0m\n\u001b[0;32m     12\u001b[0m     \u001b[0mfdist\u001b[0m \u001b[1;33m=\u001b[0m \u001b[0mFreqDist\u001b[0m\u001b[1;33m(\u001b[0m\u001b[0mtokens\u001b[0m\u001b[1;33m)\u001b[0m \u001b[1;31m#find the frequency of words\u001b[0m\u001b[1;33m\u001b[0m\u001b[1;33m\u001b[0m\u001b[0m\n",
      "\u001b[1;31mNameError\u001b[0m: name 'raw_input' is not defined"
     ]
    }
   ],
   "source": [
    "#run the Tokenize function\n",
    "from tokenizer_func import Tokenize\n",
    "Tokenize()"
   ]
  },
  {
   "cell_type": "code",
   "execution_count": 18,
   "metadata": {},
   "outputs": [
    {
     "name": "stdout",
     "output_type": "stream",
     "text": [
      "Overwriting removestopwords.py\n"
     ]
    }
   ],
   "source": [
    "%%writefile removestopwords.py\n",
    "#Remove stop words function\n",
    "import nltk\n",
    "nltk.download('stopwords')\n",
    "from nltk.corpus import stopwords\n",
    "def RemoveStopWords(token_list):\n",
    "    stop_words = set(stopwords.words('english')) #copy stopwords to a list\n",
    "    stop_removed = [w for w in token_list if w not in stop_words] #for loop to append the words to a list except stopwords\n",
    "    return stop_removed"
   ]
  },
  {
   "cell_type": "code",
   "execution_count": 19,
   "metadata": {},
   "outputs": [
    {
     "name": "stderr",
     "output_type": "stream",
     "text": [
      "[nltk_data] Downloading package punkt to\n",
      "[nltk_data]     C:\\Users\\YOGITA\\AppData\\Roaming\\nltk_data...\n",
      "[nltk_data]   Package punkt is already up-to-date!\n"
     ]
    },
    {
     "name": "stdout",
     "output_type": "stream",
     "text": [
      "Natural language processing (NLP) is a subfield of linguistics, computer science, and artificial intelligence concerned with the interactions between computers and human language, in particular how to program computers to process and analyze large amounts of natural language data.\n",
      "['is', 'a', 'of', 'and', 'with', 'the', 'between', 'and', 'in', 'how', 'to', 'to', 'and', 'of'] \n",
      "==========================================\n",
      "Frequency Distribution of Stop Words:\n",
      "==========================================\n",
      "and: 3\n",
      "of: 2\n",
      "to: 2\n",
      "is: 1\n",
      "a: 1\n",
      "with: 1\n",
      "the: 1\n",
      "between: 1\n",
      "in: 1\n",
      "how: 1\n"
     ]
    },
    {
     "name": "stderr",
     "output_type": "stream",
     "text": [
      "[nltk_data] Downloading package stopwords to\n",
      "[nltk_data]     C:\\Users\\YOGITA\\AppData\\Roaming\\nltk_data...\n",
      "[nltk_data]   Package stopwords is already up-to-date!\n"
     ]
    }
   ],
   "source": [
    "#counting frequency of stop words in a string\n",
    "import nltk\n",
    "nltk.download('punkt')\n",
    "from nltk import FreqDist\n",
    "from nltk.tokenize import word_tokenize\n",
    "string = input()\n",
    "from removestopwords import RemoveStopWords\n",
    "\n",
    "tokens = word_tokenize(string) #tokenize\n",
    "stop_removed = RemoveStopWords(tokens) #remove stopwords\n",
    "\n",
    "stop_present = [word for word in tokens if word not in stop_removed] #save stop words to a list\n",
    "print(stop_present,'\\n==========================================')\n",
    "\n",
    "swfdist = FreqDist(stop_present) #find the frequency of stop words\n",
    "print(\"Frequency Distribution of Stop Words:\\n==========================================\")\n",
    "for f in swfdist:\n",
    "    print(\"{}: {}\".format(f, swfdist[f]))"
   ]
  },
  {
   "cell_type": "code",
   "execution_count": 7,
   "metadata": {},
   "outputs": [
    {
     "data": {
      "text/plain": [
       "Text(0.5, 1.0, 'Frequency of Stop words in the input')"
      ]
     },
     "execution_count": 7,
     "metadata": {},
     "output_type": "execute_result"
    },
    {
     "data": {
      "image/png": "[encoded data removed]",
      "text/plain": [
       "<Figure size 720x360 with 1 Axes>"
      ]
     },
     "metadata": {
      "needs_background": "light"
     },
     "output_type": "display_data"
    }
   ],
   "source": [
    "#plot a bar graph depicting frequency of stop words\n",
    "import matplotlib.pyplot as plt\n",
    "%matplotlib inline\n",
    "\n",
    "plt.figure(figsize=(10, 5))\n",
    "plt.bar(swfdist.keys(), swfdist.values())\n",
    "plt.title(\"Frequency of Stop words in the input\")"
   ]
  },
  {
   "cell_type": "markdown",
   "metadata": {},
   "source": [
    "## TASK02"
   ]
  },
  {
   "cell_type": "code",
   "execution_count": 8,
   "metadata": {},
   "outputs": [
    {
     "name": "stdout",
     "output_type": "stream",
     "text": [
      "Writing lemma_stem.py\n"
     ]
    }
   ],
   "source": [
    "%%writefile lemma_stem.py\n",
    "#lemmatize and stemming\n",
    "#import libraries\n",
    "import nltk\n",
    "nltk.download('wordnet')\n",
    "from nltk.corpus import wordnet\n",
    "from nltk.stem import PorterStemmer, WordNetLemmatizer\n",
    "\n",
    "#define lemmatize function\n",
    "def Lemmatize(token_list):\n",
    "    lemmatizer = WordNetLemmatizer()\n",
    "    lemmatized = [lemmatizer.lemmatize(word) for word in token_list]\n",
    "    return lemmatized\n",
    "\n",
    "#define stemming function\n",
    "def Stemmed(token_list):\n",
    "    stemmer = PorterStemmer()\n",
    "    stemmed = [stemmer.stem(word) for word in token_list]\n",
    "    return stemmed"
   ]
  },
  {
   "cell_type": "code",
   "execution_count": 9,
   "metadata": {},
   "outputs": [
    {
     "name": "stderr",
     "output_type": "stream",
     "text": [
      "[nltk_data] Downloading package wordnet to\n",
      "[nltk_data]     C:\\Users\\YOGITA\\AppData\\Roaming\\nltk_data...\n",
      "[nltk_data]   Package wordnet is already up-to-date!\n"
     ]
    },
    {
     "name": "stdout",
     "output_type": "stream",
     "text": [
      "   Original Word Lemmatized Form Stemmed Form\n",
      "0          cries             cry          cri\n",
      "1        studies           study        studi\n",
      "2        studied         studied        studi\n",
      "3          cried           cried          cri\n",
      "4          hurry           hurry        hurri\n",
      "5        hurried         hurried        hurri\n",
      "6        hurries           hurry        hurri\n",
      "7           jump            jump         jump\n",
      "8         jumped          jumped         jump\n",
      "9        jumping         jumping         jump\n",
      "10         jumps            jump         jump\n"
     ]
    }
   ],
   "source": [
    "#implement lemmatizer and stemmer\n",
    "text = \"cries studies studied cried hurry hurried hurries jump jumped jumping jumps\"\n",
    "tokens = word_tokenize(text)\n",
    "\n",
    "import lemma_stem\n",
    "from lemma_stem import Lemmatize, Stemmed\n",
    "lemma = Lemmatize(tokens)\n",
    "stem = Stemmed(tokens)\n",
    "\n",
    "#write the results to a Pandas dataframe\n",
    "import pandas as pd\n",
    "df = pd.DataFrame()\n",
    "df['Original Word'] = tokens\n",
    "df['Lemmatized Form'] = lemma\n",
    "df['Stemmed Form'] = stem\n",
    "\n",
    "print(df)\n",
    "df.to_csv(\"StemmedAndLemmatizedResults.csv\") #save the results to CSV file"
   ]
  },
  {
   "cell_type": "code",
   "execution_count": 10,
   "metadata": {},
   "outputs": [
    {
     "name": "stdout",
     "output_type": "stream",
     "text": [
      "Writing PreProcess.py\n"
     ]
    }
   ],
   "source": [
    "%%writefile PreProcess.py\n",
    "#creating a PreProcess file\n",
    "from tokenizer_func import Tokenize\n",
    "from removestopwords import RemoveStopWords\n",
    "from lemma_stem import Lemmatize\n",
    "\n",
    "#defining Refine function to carry out the processing\n",
    "def Refine():\n",
    "    tokens = Tokenize()\n",
    "    stop_remove = RemoveStopWords(tokens)\n",
    "    lemmatized_words = Lemmatize(stop_remove)\n",
    "    print('Tokenized: ', tokens)\n",
    "    print('Stop Words Removed Copy: ', stop_remove)\n",
    "    print('Lemmatized Words: ', lemmatized_words)"
   ]
  },
  {
   "cell_type": "code",
   "execution_count": 11,
   "metadata": {},
   "outputs": [
    {
     "name": "stdout",
     "output_type": "stream",
     "text": [
      "Natural language processing (NLP) is a subfield of linguistics, computer science, and artificial intelligence concerned with the interactions between computers and human language, in particular how to program computers to process and analyze large amounts of natural language data.\n",
      "language 3\n",
      ", 3\n",
      "and 3\n",
      "of 2\n",
      "computers 2\n",
      "to 2\n",
      "Natural 1\n",
      "processing 1\n",
      "( 1\n",
      "NLP 1\n",
      ") 1\n",
      "is 1\n",
      "a 1\n",
      "subfield 1\n",
      "linguistics 1\n",
      "computer 1\n",
      "science 1\n",
      "artificial 1\n",
      "intelligence 1\n",
      "concerned 1\n",
      "with 1\n",
      "the 1\n",
      "interactions 1\n",
      "between 1\n",
      "human 1\n",
      "in 1\n",
      "particular 1\n",
      "how 1\n",
      "program 1\n",
      "process 1\n",
      "analyze 1\n",
      "large 1\n",
      "amounts 1\n",
      "natural 1\n",
      "data 1\n",
      ". 1\n",
      "Least 5 occurring tokens: {'Natural': 1, 'processing': 1, '(': 1, 'NLP': 1, ')': 1}\n",
      "Tokenized:  ['Natural', 'language', 'processing', '(', 'NLP', ')', 'is', 'a', 'subfield', 'of', 'linguistics', ',', 'computer', 'science', ',', 'and', 'artificial', 'intelligence', 'concerned', 'with', 'the', 'interactions', 'between', 'computers', 'and', 'human', 'language', ',', 'in', 'particular', 'how', 'to', 'program', 'computers', 'to', 'process', 'and', 'analyze', 'large', 'amounts', 'of', 'natural', 'language', 'data', '.']\n",
      "Stop Words Removed Copy:  ['Natural', 'language', 'processing', '(', 'NLP', ')', 'subfield', 'linguistics', ',', 'computer', 'science', ',', 'artificial', 'intelligence', 'concerned', 'interactions', 'computers', 'human', 'language', ',', 'particular', 'program', 'computers', 'process', 'analyze', 'large', 'amounts', 'natural', 'language', 'data', '.']\n",
      "Lemmatized Words:  ['Natural', 'language', 'processing', '(', 'NLP', ')', 'subfield', 'linguistics', ',', 'computer', 'science', ',', 'artificial', 'intelligence', 'concerned', 'interaction', 'computer', 'human', 'language', ',', 'particular', 'program', 'computer', 'process', 'analyze', 'large', 'amount', 'natural', 'language', 'data', '.']\n"
     ]
    }
   ],
   "source": [
    "#runt the refine function\n",
    "from PreProcess import Refine\n",
    "Refine()"
   ]
  },
  {
   "cell_type": "code",
   "execution_count": null,
   "metadata": {},
   "outputs": [],
   "source": []
  }
 ],
 "metadata": {
  "kernelspec": {
   "display_name": "Python 3",
   "language": "python",
   "name": "python3"
  },
  "language_info": {
   "codemirror_mode": {
    "name": "ipython",
    "version": 3
   },
   "file_extension": ".py",
   "mimetype": "text/x-python",
   "name": "python",
   "nbconvert_exporter": "python",
   "pygments_lexer": "ipython3",
   "version": "3.8.3"
  }
 },
 "nbformat": 4,
 "nbformat_minor": 4
}
