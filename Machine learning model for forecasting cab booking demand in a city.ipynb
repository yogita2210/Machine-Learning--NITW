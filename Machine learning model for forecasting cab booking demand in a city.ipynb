{
 "cells": [
  {
   "cell_type": "markdown",
   "metadata": {},
   "source": [
    "#### Task 0 -Loading Libraries"
   ]
  },
  {
   "cell_type": "code",
   "execution_count": 1,
   "metadata": {},
   "outputs": [
    {
     "name": "stdout",
     "output_type": "stream",
     "text": [
      "Current working directory: C:\\Users\\YOGITA\\Python\\desktop\\YS\\NITW\\Mid-proj 01\n"
     ]
    }
   ],
   "source": [
    "import pandas as pd\n",
    "\n",
    "from sklearn.preprocessing import LabelEncoder\n",
    "from sklearn import preprocessing\n",
    "\n",
    "import matplotlib.pyplot as plt\n",
    "import numpy as np\n",
    "from sklearn.linear_model import LinearRegression\n",
    "from sklearn import metrics\n",
    "from sklearn.ensemble import RandomForestRegressor\n",
    "from sklearn.ensemble import AdaBoostRegressor\n",
    "from sklearn.model_selection import cross_val_score\n",
    "from sklearn.model_selection import RepeatedKFold\n",
    "from sklearn.svm import SVR\n"
   ]
  },
  {
   "cell_type": "markdown",
   "metadata": {},
   "source": [
    "### Task 1\n",
    "\n",
    "#### 1) Preparing data\n",
    "\n"
   ]
  },
  {
   "cell_type": "markdown",
   "metadata": {},
   "source": [
    "#### 1.1) Loading Training and Testing data"
   ]
  },
  {
   "cell_type": "code",
   "execution_count": 227,
   "metadata": {},
   "outputs": [],
   "source": [
    "cab_train = pd.read_csv(r'C:\\Users\\YOGITA\\Python\\desktop\\YS\\NITW\\Mid-proj 01\\Dataset\\train.csv')\n",
    "cab_test = pd.read_csv(r'C:\\Users\\YOGITA\\Python\\desktop\\YS\\NITW\\Mid-proj 01\\Dataset\\test.csv')\n",
    "\n",
    "cab_train_label=pd.read_csv(r'C:\\Users\\YOGITA\\Python\\desktop\\YS\\NITW\\Mid-proj 01\\Dataset\\train_label.csv',names=['Total_booking'])\n",
    "cab_test_label=pd.read_csv(r'C:\\Users\\YOGITA\\Python\\desktop\\YS\\NITW\\Mid-proj 01\\Dataset\\test_label.csv',names=['Total_booking'])"
   ]
  },
  {
   "cell_type": "markdown",
   "metadata": {},
   "source": [
    "#### 1.2) Overview of the data"
   ]
  },
  {
   "cell_type": "code",
   "execution_count": 228,
   "metadata": {},
   "outputs": [
    {
     "name": "stdout",
     "output_type": "stream",
     "text": [
      "           datetime  season  holiday  workingday              weather   temp  \\\n",
      "0    5/2/2012 19:00  Summer        0           1   Clear + Few clouds  22.14   \n",
      "1     9/5/2012 4:00    Fall        0           1   Clear + Few clouds  28.70   \n",
      "2    1/13/2011 9:00  Spring        0           1   Clear + Few clouds   5.74   \n",
      "3  11/18/2011 16:00  Winter        0           1   Clear + Few clouds  13.94   \n",
      "4   9/13/2011 13:00    Fall        0           1   Clear + Few clouds  30.34   \n",
      "\n",
      "    atemp  humidity  windspeed  \n",
      "0  25.760        77    16.9979  \n",
      "1  33.335        79    19.0012  \n",
      "2   6.060        50    22.0028  \n",
      "3  16.665        29     8.9981  \n",
      "4  33.335        51    19.0012  \n"
     ]
    },
    {
     "data": {
      "text/html": [
       "<div>\n",
       "<style scoped>\n",
       "    .dataframe tbody tr th:only-of-type {\n",
       "        vertical-align: middle;\n",
       "    }\n",
       "\n",
       "    .dataframe tbody tr th {\n",
       "        vertical-align: top;\n",
       "    }\n",
       "\n",
       "    .dataframe thead th {\n",
       "        text-align: right;\n",
       "    }\n",
       "</style>\n",
       "<table border=\"1\" class=\"dataframe\">\n",
       "  <thead>\n",
       "    <tr style=\"text-align: right;\">\n",
       "      <th></th>\n",
       "      <th>Total_booking</th>\n",
       "    </tr>\n",
       "  </thead>\n",
       "  <tbody>\n",
       "    <tr>\n",
       "      <th>0</th>\n",
       "      <td>504</td>\n",
       "    </tr>\n",
       "    <tr>\n",
       "      <th>1</th>\n",
       "      <td>5</td>\n",
       "    </tr>\n",
       "    <tr>\n",
       "      <th>2</th>\n",
       "      <td>139</td>\n",
       "    </tr>\n",
       "    <tr>\n",
       "      <th>3</th>\n",
       "      <td>209</td>\n",
       "    </tr>\n",
       "    <tr>\n",
       "      <th>4</th>\n",
       "      <td>184</td>\n",
       "    </tr>\n",
       "  </tbody>\n",
       "</table>\n",
       "</div>"
      ],
      "text/plain": [
       "   Total_booking\n",
       "0            504\n",
       "1              5\n",
       "2            139\n",
       "3            209\n",
       "4            184"
      ]
     },
     "execution_count": 228,
     "metadata": {},
     "output_type": "execute_result"
    }
   ],
   "source": [
    "print(cab_train.head())\n",
    "cab_train_label.head()"
   ]
  },
  {
   "cell_type": "code",
   "execution_count": 229,
   "metadata": {},
   "outputs": [
    {
     "name": "stdout",
     "output_type": "stream",
     "text": [
      "78372\n",
      "8708\n"
     ]
    }
   ],
   "source": [
    "## size of df =total number of elements = num of rows * num of columns\n",
    "\n",
    "print(cab_train.size)\n",
    "print(cab_train_label.size)"
   ]
  },
  {
   "cell_type": "code",
   "execution_count": 230,
   "metadata": {},
   "outputs": [
    {
     "name": "stdout",
     "output_type": "stream",
     "text": [
      "(8708, 9)\n",
      "(8708, 1)\n"
     ]
    }
   ],
   "source": [
    "#shape of df =(rows, columns)\n",
    "\n",
    "print(cab_train.shape)\n",
    "print(cab_train_label.shape)"
   ]
  },
  {
   "cell_type": "code",
   "execution_count": 231,
   "metadata": {},
   "outputs": [
    {
     "name": "stdout",
     "output_type": "stream",
     "text": [
      "   Total_booking\n",
      "0            504\n",
      "1              5\n",
      "2            139\n",
      "3            209\n",
      "4            184\n",
      "   Total_booking\n",
      "0            256\n",
      "1             87\n",
      "2             11\n",
      "3             84\n",
      "4            668\n"
     ]
    }
   ],
   "source": [
    "#Here we expect- number of rows =num of labels\n",
    "#But as we have header row in cab_train but not in cab_Train_label, thus we can see this discrepancy.\n",
    "#(8708, 9)\n",
    "#(8707, 1)\n",
    "#Best way is to add names while loading csv file.\n",
    "\n",
    "print(cab_train_label.head())\n",
    "print(cab_test_label.head())"
   ]
  },
  {
   "cell_type": "code",
   "execution_count": 232,
   "metadata": {},
   "outputs": [
    {
     "name": "stdout",
     "output_type": "stream",
     "text": [
      "2\n",
      "2\n"
     ]
    }
   ],
   "source": [
    "# dimension of df - Returns dimension of dataframe/series. 1 for one dimension (series- as it have 1 column and all rows),\n",
    "#2 for two dimension (dataframe)\n",
    "\n",
    "print(cab_train.ndim)\n",
    "print(cab_train_label.ndim)"
   ]
  },
  {
   "cell_type": "code",
   "execution_count": 233,
   "metadata": {},
   "outputs": [
    {
     "name": "stdout",
     "output_type": "stream",
     "text": [
      "19602\n",
      "2178\n",
      "(2178, 9)\n",
      "(2178, 1)\n",
      "2\n",
      "2\n"
     ]
    }
   ],
   "source": [
    "# similarly we can check for test data\n",
    "\n",
    "#size\n",
    "print(cab_test.size)\n",
    "print(cab_test_label.size)\n",
    "\n",
    "#shape\n",
    "print(cab_test.shape)\n",
    "print(cab_test_label.shape)\n",
    "\n",
    "#dimension\n",
    "print(cab_test.ndim)\n",
    "print(cab_test_label.ndim)"
   ]
  },
  {
   "cell_type": "markdown",
   "metadata": {},
   "source": [
    "#### 1.3) Add cab_train_label column to cab_train df and cab_test_label column to cab_test df to create a new df"
   ]
  },
  {
   "cell_type": "code",
   "execution_count": 234,
   "metadata": {},
   "outputs": [
    {
     "name": "stdout",
     "output_type": "stream",
     "text": [
      "           datetime  season  holiday  workingday              weather   temp  \\\n",
      "0    5/2/2012 19:00  Summer        0           1   Clear + Few clouds  22.14   \n",
      "1     9/5/2012 4:00    Fall        0           1   Clear + Few clouds  28.70   \n",
      "2    1/13/2011 9:00  Spring        0           1   Clear + Few clouds   5.74   \n",
      "3  11/18/2011 16:00  Winter        0           1   Clear + Few clouds  13.94   \n",
      "4   9/13/2011 13:00    Fall        0           1   Clear + Few clouds  30.34   \n",
      "\n",
      "    atemp  humidity  windspeed  Total_booking  \n",
      "0  25.760        77    16.9979            504  \n",
      "1  33.335        79    19.0012              5  \n",
      "2   6.060        50    22.0028            139  \n",
      "3  16.665        29     8.9981            209  \n",
      "4  33.335        51    19.0012            184  \n",
      "Index(['datetime', 'season', 'holiday', 'workingday', 'weather', 'temp',\n",
      "       'atemp', 'humidity', 'windspeed', 'Total_booking'],\n",
      "      dtype='object')\n",
      "           datetime  season  holiday  workingday                  weather  \\\n",
      "0   5/10/2012 11:00  Summer        0           1       Clear + Few clouds   \n",
      "1     6/9/2012 7:00  Summer        0           0       Clear + Few clouds   \n",
      "2    3/6/2011 20:00  Spring        0           0   Light Snow, Light Rain   \n",
      "3  10/13/2011 11:00  Winter        0           1           Mist + Cloudy    \n",
      "4    6/2/2012 12:00  Summer        0           0       Clear + Few clouds   \n",
      "\n",
      "    temp   atemp  humidity  windspeed  Total_booking  \n",
      "0  21.32  25.000        48    35.0008            256  \n",
      "1  23.78  27.275        64     7.0015             87  \n",
      "2  11.48  12.120       100    27.9993             11  \n",
      "3  25.42  28.790        83     0.0000             84  \n",
      "4  25.42  31.060        43    23.9994            668  \n",
      "Index(['datetime', 'season', 'holiday', 'workingday', 'weather', 'temp',\n",
      "       'atemp', 'humidity', 'windspeed', 'Total_booking'],\n",
      "      dtype='object')\n"
     ]
    }
   ],
   "source": [
    "cab_train = pd.concat([cab_train,cab_train_label], axis=1)\n",
    "\n",
    "print(cab_train.head())\n",
    "print(cab_train.columns)\n",
    "\n",
    "cab_test_01 = pd.concat([cab_test,cab_test_label], axis=1)\n",
    "\n",
    "print(cab_test_01.head())\n",
    "print(cab_test_01.columns)\n",
    "\n"
   ]
  },
  {
   "cell_type": "markdown",
   "metadata": {},
   "source": [
    "#### 1.4) Convert datetime column to proper python datetime type"
   ]
  },
  {
   "cell_type": "code",
   "execution_count": 235,
   "metadata": {},
   "outputs": [
    {
     "name": "stdout",
     "output_type": "stream",
     "text": [
      "datetime          object\n",
      "season            object\n",
      "holiday            int64\n",
      "workingday         int64\n",
      "weather           object\n",
      "temp             float64\n",
      "atemp            float64\n",
      "humidity           int64\n",
      "windspeed        float64\n",
      "Total_booking      int64\n",
      "dtype: object\n"
     ]
    },
    {
     "data": {
      "text/plain": [
       "datetime       object\n",
       "season         object\n",
       "holiday         int64\n",
       "workingday      int64\n",
       "weather        object\n",
       "temp          float64\n",
       "atemp         float64\n",
       "humidity        int64\n",
       "windspeed     float64\n",
       "dtype: object"
      ]
     },
     "execution_count": 235,
     "metadata": {},
     "output_type": "execute_result"
    }
   ],
   "source": [
    "#datetime column is present as string or object, so we will first convert it to datetime dtype\n",
    "\n",
    "#as we can see, diff date formats (all as object) are used in 1 column, so we will convert them all in one datetime format.\n",
    "\n",
    "print(cab_train.dtypes)\n",
    "cab_test.dtypes"
   ]
  },
  {
   "cell_type": "code",
   "execution_count": 236,
   "metadata": {},
   "outputs": [
    {
     "name": "stdout",
     "output_type": "stream",
     "text": [
      "datetime          object\n",
      "season            object\n",
      "holiday            int64\n",
      "workingday         int64\n",
      "weather           object\n",
      "temp             float64\n",
      "atemp            float64\n",
      "humidity           int64\n",
      "windspeed        float64\n",
      "Total_booking      int64\n",
      "dtype: object\n"
     ]
    },
    {
     "data": {
      "text/plain": [
       "datetime         datetime64[ns]\n",
       "season                   object\n",
       "holiday                   int64\n",
       "workingday                int64\n",
       "weather                  object\n",
       "temp                    float64\n",
       "atemp                   float64\n",
       "humidity                  int64\n",
       "windspeed               float64\n",
       "Total_booking             int64\n",
       "dtype: object"
      ]
     },
     "execution_count": 236,
     "metadata": {},
     "output_type": "execute_result"
    }
   ],
   "source": [
    "cab_train['datetime'] = cab_train['datetime'].apply(pd.to_datetime)\n",
    "cab_test['datetime'] = cab_test['datetime'].apply(pd.to_datetime)\n",
    "\n",
    "print(cab_test_01.dtypes)\n",
    "cab_train.dtypes"
   ]
  },
  {
   "cell_type": "code",
   "execution_count": 146,
   "metadata": {},
   "outputs": [
    {
     "data": {
      "text/plain": [
       "0    2012-05-02 19:00:00\n",
       "1    2012-09-05 04:00:00\n",
       "2    2011-01-13 09:00:00\n",
       "3    2011-11-18 16:00:00\n",
       "4    2011-09-13 13:00:00\n",
       "5    2012-08-17 17:00:00\n",
       "6    2012-10-06 09:00:00\n",
       "7    2012-09-10 04:00:00\n",
       "8    2012-07-14 04:00:00\n",
       "9    2011-02-06 18:00:00\n",
       "10   2012-01-17 15:00:00\n",
       "11   2012-09-10 20:00:00\n",
       "12   2011-03-13 13:00:00\n",
       "13   2012-06-14 09:00:00\n",
       "14   2012-02-09 14:00:00\n",
       "15   2011-09-19 23:00:00\n",
       "16   2012-10-06 11:00:00\n",
       "17   2011-02-18 08:00:00\n",
       "18   2011-10-09 19:00:00\n",
       "19   2012-06-12 01:00:00\n",
       "Name: datetime, dtype: datetime64[ns]"
      ]
     },
     "execution_count": 146,
     "metadata": {},
     "output_type": "execute_result"
    }
   ],
   "source": [
    "##above method have converted all dates to one format\n",
    "\n",
    "cab_train['datetime'].head(20)"
   ]
  },
  {
   "cell_type": "markdown",
   "metadata": {},
   "source": [
    "#### 1.5) Add Features which can help in predicition (hour, weekday, month)"
   ]
  },
  {
   "cell_type": "code",
   "execution_count": 237,
   "metadata": {},
   "outputs": [
    {
     "name": "stdout",
     "output_type": "stream",
     "text": [
      "datetime         datetime64[ns]\n",
      "season                   object\n",
      "holiday                   int64\n",
      "workingday                int64\n",
      "weather                  object\n",
      "temp                    float64\n",
      "atemp                   float64\n",
      "humidity                  int64\n",
      "windspeed               float64\n",
      "Total_booking             int64\n",
      "Hour                      int64\n",
      "Weekday                  object\n",
      "Month                    object\n",
      "dtype: object\n"
     ]
    },
    {
     "data": {
      "text/plain": [
       "datetime      datetime64[ns]\n",
       "season                object\n",
       "holiday                int64\n",
       "workingday             int64\n",
       "weather               object\n",
       "temp                 float64\n",
       "atemp                float64\n",
       "humidity               int64\n",
       "windspeed            float64\n",
       "Hour                   int64\n",
       "Weekday               object\n",
       "Month                 object\n",
       "dtype: object"
      ]
     },
     "execution_count": 237,
     "metadata": {},
     "output_type": "execute_result"
    }
   ],
   "source": [
    "cab_train['Hour'] = cab_train['datetime'].dt.hour\n",
    "cab_train['Weekday']=cab_train['datetime'].dt.day_name()\n",
    "\n",
    "cab_train['Month']=cab_train['datetime'].dt.month_name()\n",
    "\n",
    "print(cab_train.dtypes)\n",
    "\n",
    "##test\n",
    "\n",
    "cab_test['Hour'] = cab_test['datetime'].dt.hour\n",
    "cab_test['Weekday']=cab_test['datetime'].dt.day_name()\n",
    "\n",
    "cab_test['Month']=cab_test['datetime'].dt.month_name()\n",
    "\n",
    "cab_test.dtypes"
   ]
  },
  {
   "cell_type": "markdown",
   "metadata": {},
   "source": [
    "### Task 2\n",
    "\n",
    "#### 2.1) Missing value analysis"
   ]
  },
  {
   "cell_type": "code",
   "execution_count": 238,
   "metadata": {},
   "outputs": [
    {
     "name": "stdout",
     "output_type": "stream",
     "text": [
      "datetime         0\n",
      "season           0\n",
      "holiday          0\n",
      "workingday       0\n",
      "weather          0\n",
      "temp             0\n",
      "atemp            0\n",
      "humidity         0\n",
      "windspeed        0\n",
      "Total_booking    0\n",
      "Hour             0\n",
      "Weekday          0\n",
      "Month            0\n",
      "dtype: int64\n"
     ]
    },
    {
     "data": {
      "text/plain": [
       "datetime      0\n",
       "season        0\n",
       "holiday       0\n",
       "workingday    0\n",
       "weather       0\n",
       "temp          0\n",
       "atemp         0\n",
       "humidity      0\n",
       "windspeed     0\n",
       "Hour          0\n",
       "Weekday       0\n",
       "Month         0\n",
       "dtype: int64"
      ]
     },
     "execution_count": 238,
     "metadata": {},
     "output_type": "execute_result"
    }
   ],
   "source": [
    "print(cab_train.isnull().sum())\n",
    "\n",
    "cab_test.isnull().sum()"
   ]
  },
  {
   "cell_type": "code",
   "execution_count": null,
   "metadata": {},
   "outputs": [],
   "source": [
    "# as we can see, none of the column have null values."
   ]
  },
  {
   "cell_type": "markdown",
   "metadata": {},
   "source": [
    "#### 2.2) Outlier Analysis\n",
    "\n",
    "##### 2.2.1) Box plot"
   ]
  },
  {
   "cell_type": "code",
   "execution_count": 148,
   "metadata": {},
   "outputs": [
    {
     "data": {
      "image/png": "[encoded data removed]",
      "text/plain": [
       "<Figure size 720x2160 with 1 Axes>"
      ]
     },
     "metadata": {
      "needs_background": "light"
     },
     "output_type": "display_data"
    }
   ],
   "source": [
    "fig = plt.figure(figsize =(10, 30))\n",
    " \n",
    "# Creating plot\n",
    "plt.boxplot(cab_train['Total_booking'])\n",
    " \n",
    "# show plot\n",
    "plt.show()"
   ]
  },
  {
   "cell_type": "code",
   "execution_count": 149,
   "metadata": {},
   "outputs": [
    {
     "data": {
      "text/html": [
       "<div>\n",
       "<style scoped>\n",
       "    .dataframe tbody tr th:only-of-type {\n",
       "        vertical-align: middle;\n",
       "    }\n",
       "\n",
       "    .dataframe tbody tr th {\n",
       "        vertical-align: top;\n",
       "    }\n",
       "\n",
       "    .dataframe thead th {\n",
       "        text-align: right;\n",
       "    }\n",
       "</style>\n",
       "<table border=\"1\" class=\"dataframe\">\n",
       "  <thead>\n",
       "    <tr style=\"text-align: right;\">\n",
       "      <th></th>\n",
       "      <th>datetime</th>\n",
       "      <th>season</th>\n",
       "      <th>holiday</th>\n",
       "      <th>workingday</th>\n",
       "      <th>weather</th>\n",
       "      <th>temp</th>\n",
       "      <th>atemp</th>\n",
       "      <th>humidity</th>\n",
       "      <th>windspeed</th>\n",
       "      <th>Total_booking</th>\n",
       "      <th>Hour</th>\n",
       "      <th>Weekday</th>\n",
       "      <th>Month</th>\n",
       "    </tr>\n",
       "  </thead>\n",
       "  <tbody>\n",
       "    <tr>\n",
       "      <th>0</th>\n",
       "      <td>2012-05-02 19:00:00</td>\n",
       "      <td>Summer</td>\n",
       "      <td>0</td>\n",
       "      <td>1</td>\n",
       "      <td>Clear + Few clouds</td>\n",
       "      <td>22.14</td>\n",
       "      <td>25.760</td>\n",
       "      <td>77</td>\n",
       "      <td>16.9979</td>\n",
       "      <td>504</td>\n",
       "      <td>19</td>\n",
       "      <td>Wednesday</td>\n",
       "      <td>May</td>\n",
       "    </tr>\n",
       "    <tr>\n",
       "      <th>1</th>\n",
       "      <td>2012-09-05 04:00:00</td>\n",
       "      <td>Fall</td>\n",
       "      <td>0</td>\n",
       "      <td>1</td>\n",
       "      <td>Clear + Few clouds</td>\n",
       "      <td>28.70</td>\n",
       "      <td>33.335</td>\n",
       "      <td>79</td>\n",
       "      <td>19.0012</td>\n",
       "      <td>5</td>\n",
       "      <td>4</td>\n",
       "      <td>Wednesday</td>\n",
       "      <td>September</td>\n",
       "    </tr>\n",
       "    <tr>\n",
       "      <th>2</th>\n",
       "      <td>2011-01-13 09:00:00</td>\n",
       "      <td>Spring</td>\n",
       "      <td>0</td>\n",
       "      <td>1</td>\n",
       "      <td>Clear + Few clouds</td>\n",
       "      <td>5.74</td>\n",
       "      <td>6.060</td>\n",
       "      <td>50</td>\n",
       "      <td>22.0028</td>\n",
       "      <td>139</td>\n",
       "      <td>9</td>\n",
       "      <td>Thursday</td>\n",
       "      <td>January</td>\n",
       "    </tr>\n",
       "    <tr>\n",
       "      <th>3</th>\n",
       "      <td>2011-11-18 16:00:00</td>\n",
       "      <td>Winter</td>\n",
       "      <td>0</td>\n",
       "      <td>1</td>\n",
       "      <td>Clear + Few clouds</td>\n",
       "      <td>13.94</td>\n",
       "      <td>16.665</td>\n",
       "      <td>29</td>\n",
       "      <td>8.9981</td>\n",
       "      <td>209</td>\n",
       "      <td>16</td>\n",
       "      <td>Friday</td>\n",
       "      <td>November</td>\n",
       "    </tr>\n",
       "    <tr>\n",
       "      <th>4</th>\n",
       "      <td>2011-09-13 13:00:00</td>\n",
       "      <td>Fall</td>\n",
       "      <td>0</td>\n",
       "      <td>1</td>\n",
       "      <td>Clear + Few clouds</td>\n",
       "      <td>30.34</td>\n",
       "      <td>33.335</td>\n",
       "      <td>51</td>\n",
       "      <td>19.0012</td>\n",
       "      <td>184</td>\n",
       "      <td>13</td>\n",
       "      <td>Tuesday</td>\n",
       "      <td>September</td>\n",
       "    </tr>\n",
       "    <tr>\n",
       "      <th>...</th>\n",
       "      <td>...</td>\n",
       "      <td>...</td>\n",
       "      <td>...</td>\n",
       "      <td>...</td>\n",
       "      <td>...</td>\n",
       "      <td>...</td>\n",
       "      <td>...</td>\n",
       "      <td>...</td>\n",
       "      <td>...</td>\n",
       "      <td>...</td>\n",
       "      <td>...</td>\n",
       "      <td>...</td>\n",
       "      <td>...</td>\n",
       "    </tr>\n",
       "    <tr>\n",
       "      <th>8703</th>\n",
       "      <td>2012-01-16 06:00:00</td>\n",
       "      <td>Spring</td>\n",
       "      <td>1</td>\n",
       "      <td>0</td>\n",
       "      <td>Clear + Few clouds</td>\n",
       "      <td>4.10</td>\n",
       "      <td>6.820</td>\n",
       "      <td>54</td>\n",
       "      <td>6.0032</td>\n",
       "      <td>13</td>\n",
       "      <td>6</td>\n",
       "      <td>Monday</td>\n",
       "      <td>January</td>\n",
       "    </tr>\n",
       "    <tr>\n",
       "      <th>8704</th>\n",
       "      <td>2011-11-10 01:00:00</td>\n",
       "      <td>Winter</td>\n",
       "      <td>0</td>\n",
       "      <td>1</td>\n",
       "      <td>Mist + Cloudy</td>\n",
       "      <td>16.40</td>\n",
       "      <td>20.455</td>\n",
       "      <td>87</td>\n",
       "      <td>0.0000</td>\n",
       "      <td>11</td>\n",
       "      <td>1</td>\n",
       "      <td>Thursday</td>\n",
       "      <td>November</td>\n",
       "    </tr>\n",
       "    <tr>\n",
       "      <th>8705</th>\n",
       "      <td>2011-04-12 03:00:00</td>\n",
       "      <td>Summer</td>\n",
       "      <td>0</td>\n",
       "      <td>1</td>\n",
       "      <td>Mist + Cloudy</td>\n",
       "      <td>23.78</td>\n",
       "      <td>27.275</td>\n",
       "      <td>56</td>\n",
       "      <td>8.9981</td>\n",
       "      <td>1</td>\n",
       "      <td>3</td>\n",
       "      <td>Tuesday</td>\n",
       "      <td>April</td>\n",
       "    </tr>\n",
       "    <tr>\n",
       "      <th>8706</th>\n",
       "      <td>2012-11-07 01:00:00</td>\n",
       "      <td>Winter</td>\n",
       "      <td>0</td>\n",
       "      <td>1</td>\n",
       "      <td>Mist + Cloudy</td>\n",
       "      <td>11.48</td>\n",
       "      <td>13.635</td>\n",
       "      <td>61</td>\n",
       "      <td>16.9979</td>\n",
       "      <td>92</td>\n",
       "      <td>1</td>\n",
       "      <td>Wednesday</td>\n",
       "      <td>November</td>\n",
       "    </tr>\n",
       "    <tr>\n",
       "      <th>8707</th>\n",
       "      <td>2011-01-10 10:00:00</td>\n",
       "      <td>Spring</td>\n",
       "      <td>0</td>\n",
       "      <td>1</td>\n",
       "      <td>Mist + Cloudy</td>\n",
       "      <td>5.74</td>\n",
       "      <td>6.060</td>\n",
       "      <td>50</td>\n",
       "      <td>19.9995</td>\n",
       "      <td>31</td>\n",
       "      <td>10</td>\n",
       "      <td>Monday</td>\n",
       "      <td>January</td>\n",
       "    </tr>\n",
       "  </tbody>\n",
       "</table>\n",
       "<p>8465 rows × 13 columns</p>\n",
       "</div>"
      ],
      "text/plain": [
       "                datetime  season  holiday  workingday              weather  \\\n",
       "0    2012-05-02 19:00:00  Summer        0           1   Clear + Few clouds   \n",
       "1    2012-09-05 04:00:00    Fall        0           1   Clear + Few clouds   \n",
       "2    2011-01-13 09:00:00  Spring        0           1   Clear + Few clouds   \n",
       "3    2011-11-18 16:00:00  Winter        0           1   Clear + Few clouds   \n",
       "4    2011-09-13 13:00:00    Fall        0           1   Clear + Few clouds   \n",
       "...                  ...     ...      ...         ...                  ...   \n",
       "8703 2012-01-16 06:00:00  Spring        1           0   Clear + Few clouds   \n",
       "8704 2011-11-10 01:00:00  Winter        0           1       Mist + Cloudy    \n",
       "8705 2011-04-12 03:00:00  Summer        0           1       Mist + Cloudy    \n",
       "8706 2012-11-07 01:00:00  Winter        0           1       Mist + Cloudy    \n",
       "8707 2011-01-10 10:00:00  Spring        0           1       Mist + Cloudy    \n",
       "\n",
       "       temp   atemp  humidity  windspeed  Total_booking  Hour    Weekday  \\\n",
       "0     22.14  25.760        77    16.9979            504    19  Wednesday   \n",
       "1     28.70  33.335        79    19.0012              5     4  Wednesday   \n",
       "2      5.74   6.060        50    22.0028            139     9   Thursday   \n",
       "3     13.94  16.665        29     8.9981            209    16     Friday   \n",
       "4     30.34  33.335        51    19.0012            184    13    Tuesday   \n",
       "...     ...     ...       ...        ...            ...   ...        ...   \n",
       "8703   4.10   6.820        54     6.0032             13     6     Monday   \n",
       "8704  16.40  20.455        87     0.0000             11     1   Thursday   \n",
       "8705  23.78  27.275        56     8.9981              1     3    Tuesday   \n",
       "8706  11.48  13.635        61    16.9979             92     1  Wednesday   \n",
       "8707   5.74   6.060        50    19.9995             31    10     Monday   \n",
       "\n",
       "          Month  \n",
       "0           May  \n",
       "1     September  \n",
       "2       January  \n",
       "3      November  \n",
       "4     September  \n",
       "...         ...  \n",
       "8703    January  \n",
       "8704   November  \n",
       "8705      April  \n",
       "8706   November  \n",
       "8707    January  \n",
       "\n",
       "[8465 rows x 13 columns]"
      ]
     },
     "execution_count": 149,
     "metadata": {},
     "output_type": "execute_result"
    }
   ],
   "source": [
    "## as we can see from this box plot, values above 650 seems to be outlier\n",
    "\n",
    "cab_train[cab_train['Total_booking']<650]"
   ]
  },
  {
   "cell_type": "code",
   "execution_count": 150,
   "metadata": {},
   "outputs": [
    {
     "data": {
      "text/html": [
       "<div>\n",
       "<style scoped>\n",
       "    .dataframe tbody tr th:only-of-type {\n",
       "        vertical-align: middle;\n",
       "    }\n",
       "\n",
       "    .dataframe tbody tr th {\n",
       "        vertical-align: top;\n",
       "    }\n",
       "\n",
       "    .dataframe thead th {\n",
       "        text-align: right;\n",
       "    }\n",
       "</style>\n",
       "<table border=\"1\" class=\"dataframe\">\n",
       "  <thead>\n",
       "    <tr style=\"text-align: right;\">\n",
       "      <th></th>\n",
       "      <th>datetime</th>\n",
       "      <th>season</th>\n",
       "      <th>holiday</th>\n",
       "      <th>workingday</th>\n",
       "      <th>weather</th>\n",
       "      <th>temp</th>\n",
       "      <th>atemp</th>\n",
       "      <th>humidity</th>\n",
       "      <th>windspeed</th>\n",
       "      <th>Total_booking</th>\n",
       "      <th>Hour</th>\n",
       "      <th>Weekday</th>\n",
       "      <th>Month</th>\n",
       "    </tr>\n",
       "  </thead>\n",
       "  <tbody>\n",
       "    <tr>\n",
       "      <th>5</th>\n",
       "      <td>2012-08-17 17:00:00</td>\n",
       "      <td>Fall</td>\n",
       "      <td>0</td>\n",
       "      <td>1</td>\n",
       "      <td>Clear + Few clouds</td>\n",
       "      <td>33.62</td>\n",
       "      <td>12.120</td>\n",
       "      <td>36</td>\n",
       "      <td>22.0028</td>\n",
       "      <td>791</td>\n",
       "      <td>17</td>\n",
       "      <td>Friday</td>\n",
       "      <td>August</td>\n",
       "    </tr>\n",
       "    <tr>\n",
       "      <th>27</th>\n",
       "      <td>2012-05-02 18:00:00</td>\n",
       "      <td>Summer</td>\n",
       "      <td>0</td>\n",
       "      <td>1</td>\n",
       "      <td>Clear + Few clouds</td>\n",
       "      <td>22.96</td>\n",
       "      <td>26.515</td>\n",
       "      <td>73</td>\n",
       "      <td>15.0013</td>\n",
       "      <td>813</td>\n",
       "      <td>18</td>\n",
       "      <td>Wednesday</td>\n",
       "      <td>May</td>\n",
       "    </tr>\n",
       "    <tr>\n",
       "      <th>30</th>\n",
       "      <td>2012-07-10 17:00:00</td>\n",
       "      <td>Fall</td>\n",
       "      <td>0</td>\n",
       "      <td>1</td>\n",
       "      <td>Clear + Few clouds</td>\n",
       "      <td>31.98</td>\n",
       "      <td>35.605</td>\n",
       "      <td>49</td>\n",
       "      <td>12.9980</td>\n",
       "      <td>872</td>\n",
       "      <td>17</td>\n",
       "      <td>Tuesday</td>\n",
       "      <td>July</td>\n",
       "    </tr>\n",
       "    <tr>\n",
       "      <th>52</th>\n",
       "      <td>2012-06-05 18:00:00</td>\n",
       "      <td>Summer</td>\n",
       "      <td>0</td>\n",
       "      <td>1</td>\n",
       "      <td>Clear + Few clouds</td>\n",
       "      <td>24.60</td>\n",
       "      <td>31.060</td>\n",
       "      <td>43</td>\n",
       "      <td>12.9980</td>\n",
       "      <td>790</td>\n",
       "      <td>18</td>\n",
       "      <td>Tuesday</td>\n",
       "      <td>June</td>\n",
       "    </tr>\n",
       "    <tr>\n",
       "      <th>70</th>\n",
       "      <td>2012-05-18 18:00:00</td>\n",
       "      <td>Summer</td>\n",
       "      <td>0</td>\n",
       "      <td>1</td>\n",
       "      <td>Clear + Few clouds</td>\n",
       "      <td>26.24</td>\n",
       "      <td>31.060</td>\n",
       "      <td>38</td>\n",
       "      <td>15.0013</td>\n",
       "      <td>669</td>\n",
       "      <td>18</td>\n",
       "      <td>Friday</td>\n",
       "      <td>May</td>\n",
       "    </tr>\n",
       "    <tr>\n",
       "      <th>...</th>\n",
       "      <td>...</td>\n",
       "      <td>...</td>\n",
       "      <td>...</td>\n",
       "      <td>...</td>\n",
       "      <td>...</td>\n",
       "      <td>...</td>\n",
       "      <td>...</td>\n",
       "      <td>...</td>\n",
       "      <td>...</td>\n",
       "      <td>...</td>\n",
       "      <td>...</td>\n",
       "      <td>...</td>\n",
       "      <td>...</td>\n",
       "    </tr>\n",
       "    <tr>\n",
       "      <th>8478</th>\n",
       "      <td>2012-03-14 08:00:00</td>\n",
       "      <td>Spring</td>\n",
       "      <td>0</td>\n",
       "      <td>1</td>\n",
       "      <td>Clear + Few clouds</td>\n",
       "      <td>18.04</td>\n",
       "      <td>21.970</td>\n",
       "      <td>82</td>\n",
       "      <td>0.0000</td>\n",
       "      <td>662</td>\n",
       "      <td>8</td>\n",
       "      <td>Wednesday</td>\n",
       "      <td>March</td>\n",
       "    </tr>\n",
       "    <tr>\n",
       "      <th>8582</th>\n",
       "      <td>2012-10-15 08:00:00</td>\n",
       "      <td>Winter</td>\n",
       "      <td>0</td>\n",
       "      <td>1</td>\n",
       "      <td>Mist + Cloudy</td>\n",
       "      <td>24.60</td>\n",
       "      <td>30.305</td>\n",
       "      <td>64</td>\n",
       "      <td>26.0027</td>\n",
       "      <td>737</td>\n",
       "      <td>8</td>\n",
       "      <td>Monday</td>\n",
       "      <td>October</td>\n",
       "    </tr>\n",
       "    <tr>\n",
       "      <th>8676</th>\n",
       "      <td>2012-05-12 13:00:00</td>\n",
       "      <td>Summer</td>\n",
       "      <td>0</td>\n",
       "      <td>0</td>\n",
       "      <td>Clear + Few clouds</td>\n",
       "      <td>26.24</td>\n",
       "      <td>31.060</td>\n",
       "      <td>36</td>\n",
       "      <td>12.9980</td>\n",
       "      <td>659</td>\n",
       "      <td>13</td>\n",
       "      <td>Saturday</td>\n",
       "      <td>May</td>\n",
       "    </tr>\n",
       "    <tr>\n",
       "      <th>8681</th>\n",
       "      <td>2012-08-08 17:00:00</td>\n",
       "      <td>Fall</td>\n",
       "      <td>0</td>\n",
       "      <td>1</td>\n",
       "      <td>Mist + Cloudy</td>\n",
       "      <td>32.80</td>\n",
       "      <td>37.880</td>\n",
       "      <td>55</td>\n",
       "      <td>19.0012</td>\n",
       "      <td>858</td>\n",
       "      <td>17</td>\n",
       "      <td>Wednesday</td>\n",
       "      <td>August</td>\n",
       "    </tr>\n",
       "    <tr>\n",
       "      <th>8695</th>\n",
       "      <td>2012-10-11 17:00:00</td>\n",
       "      <td>Winter</td>\n",
       "      <td>0</td>\n",
       "      <td>1</td>\n",
       "      <td>Clear + Few clouds</td>\n",
       "      <td>20.50</td>\n",
       "      <td>24.240</td>\n",
       "      <td>39</td>\n",
       "      <td>19.0012</td>\n",
       "      <td>827</td>\n",
       "      <td>17</td>\n",
       "      <td>Thursday</td>\n",
       "      <td>October</td>\n",
       "    </tr>\n",
       "  </tbody>\n",
       "</table>\n",
       "<p>242 rows × 13 columns</p>\n",
       "</div>"
      ],
      "text/plain": [
       "                datetime  season  holiday  workingday              weather  \\\n",
       "5    2012-08-17 17:00:00    Fall        0           1   Clear + Few clouds   \n",
       "27   2012-05-02 18:00:00  Summer        0           1   Clear + Few clouds   \n",
       "30   2012-07-10 17:00:00    Fall        0           1   Clear + Few clouds   \n",
       "52   2012-06-05 18:00:00  Summer        0           1   Clear + Few clouds   \n",
       "70   2012-05-18 18:00:00  Summer        0           1   Clear + Few clouds   \n",
       "...                  ...     ...      ...         ...                  ...   \n",
       "8478 2012-03-14 08:00:00  Spring        0           1   Clear + Few clouds   \n",
       "8582 2012-10-15 08:00:00  Winter        0           1       Mist + Cloudy    \n",
       "8676 2012-05-12 13:00:00  Summer        0           0   Clear + Few clouds   \n",
       "8681 2012-08-08 17:00:00    Fall        0           1       Mist + Cloudy    \n",
       "8695 2012-10-11 17:00:00  Winter        0           1   Clear + Few clouds   \n",
       "\n",
       "       temp   atemp  humidity  windspeed  Total_booking  Hour    Weekday  \\\n",
       "5     33.62  12.120        36    22.0028            791    17     Friday   \n",
       "27    22.96  26.515        73    15.0013            813    18  Wednesday   \n",
       "30    31.98  35.605        49    12.9980            872    17    Tuesday   \n",
       "52    24.60  31.060        43    12.9980            790    18    Tuesday   \n",
       "70    26.24  31.060        38    15.0013            669    18     Friday   \n",
       "...     ...     ...       ...        ...            ...   ...        ...   \n",
       "8478  18.04  21.970        82     0.0000            662     8  Wednesday   \n",
       "8582  24.60  30.305        64    26.0027            737     8     Monday   \n",
       "8676  26.24  31.060        36    12.9980            659    13   Saturday   \n",
       "8681  32.80  37.880        55    19.0012            858    17  Wednesday   \n",
       "8695  20.50  24.240        39    19.0012            827    17   Thursday   \n",
       "\n",
       "        Month  \n",
       "5      August  \n",
       "27        May  \n",
       "30       July  \n",
       "52       June  \n",
       "70        May  \n",
       "...       ...  \n",
       "8478    March  \n",
       "8582  October  \n",
       "8676      May  \n",
       "8681   August  \n",
       "8695  October  \n",
       "\n",
       "[242 rows x 13 columns]"
      ]
     },
     "execution_count": 150,
     "metadata": {},
     "output_type": "execute_result"
    }
   ],
   "source": [
    "cab_train[cab_train['Total_booking']>650]"
   ]
  },
  {
   "cell_type": "code",
   "execution_count": null,
   "metadata": {},
   "outputs": [],
   "source": [
    "#242 rows are quite large and i don't think it will be wise to remove them all!!!!!\n",
    "\n",
    "#we are not very sure here, about how to handle these outlier values.\n",
    "#so let's do some more analysis.\n",
    "\n"
   ]
  },
  {
   "cell_type": "code",
   "execution_count": 151,
   "metadata": {},
   "outputs": [
    {
     "data": {
      "image/png": "[encoded data removed]",
      "text/plain": [
       "<Figure size 1296x720 with 1 Axes>"
      ]
     },
     "metadata": {
      "needs_background": "light"
     },
     "output_type": "display_data"
    }
   ],
   "source": [
    "## scatter plot between Total_booking and season\n",
    "# Scatter plot\n",
    "fig, ax = plt.subplots(figsize = (18,10))\n",
    "ax.scatter(cab_train['season'],cab_train['Total_booking'])\n",
    "\n",
    "# x-axis label\n",
    "ax.set_ylabel('Total_booking')\n",
    "\n",
    "# y-axis label\n",
    "ax.set_xlabel('season')\n",
    "plt.show()\n"
   ]
  },
  {
   "cell_type": "code",
   "execution_count": 152,
   "metadata": {},
   "outputs": [
    {
     "data": {
      "image/png": "[encoded data removed]",
      "text/plain": [
       "<Figure size 1296x720 with 1 Axes>"
      ]
     },
     "metadata": {
      "needs_background": "light"
     },
     "output_type": "display_data"
    }
   ],
   "source": [
    "## scatter plot between Total_booking and weather\n",
    "\n",
    "# Scatter plot\n",
    "fig, ax = plt.subplots(figsize = (18,10))\n",
    "ax.scatter(cab_train['weather'],cab_train['Total_booking'])\n",
    "\n",
    "# x-axis label\n",
    "ax.set_ylabel('Total_booking')\n",
    "\n",
    "# y-axis label\n",
    "ax.set_xlabel('weather')\n",
    "plt.show()"
   ]
  },
  {
   "cell_type": "code",
   "execution_count": 153,
   "metadata": {},
   "outputs": [
    {
     "data": {
      "image/png": "[encoded data removed]",
      "text/plain": [
       "<Figure size 1296x720 with 1 Axes>"
      ]
     },
     "metadata": {
      "needs_background": "light"
     },
     "output_type": "display_data"
    }
   ],
   "source": [
    "## scatter plot between Total_booking and holiday\n",
    "\n",
    "# Scatter plot\n",
    "fig, ax = plt.subplots(figsize = (18,10))\n",
    "ax.scatter(cab_train['holiday'],cab_train['Total_booking'])\n",
    "\n",
    "# x-axis label\n",
    "ax.set_ylabel('Total_booking')\n",
    "\n",
    "# y-axis label\n",
    "ax.set_xlabel('holiday')\n",
    "plt.show()"
   ]
  },
  {
   "cell_type": "code",
   "execution_count": 154,
   "metadata": {},
   "outputs": [
    {
     "data": {
      "image/png": "[encoded data removed]",
      "text/plain": [
       "<Figure size 1296x720 with 1 Axes>"
      ]
     },
     "metadata": {
      "needs_background": "light"
     },
     "output_type": "display_data"
    }
   ],
   "source": [
    "## scatter plot between Total_booking and working day\n",
    "\n",
    "# Scatter plot\n",
    "fig, ax = plt.subplots(figsize = (18,10))\n",
    "ax.scatter(cab_train['workingday'],cab_train['Total_booking'])\n",
    "\n",
    "# x-axis label\n",
    "ax.set_ylabel('Total_booking')\n",
    "\n",
    "# y-axis label\n",
    "ax.set_xlabel('workingday')\n",
    "plt.show()"
   ]
  },
  {
   "cell_type": "code",
   "execution_count": 155,
   "metadata": {},
   "outputs": [
    {
     "data": {
      "text/html": [
       "<div>\n",
       "<style scoped>\n",
       "    .dataframe tbody tr th:only-of-type {\n",
       "        vertical-align: middle;\n",
       "    }\n",
       "\n",
       "    .dataframe tbody tr th {\n",
       "        vertical-align: top;\n",
       "    }\n",
       "\n",
       "    .dataframe thead th {\n",
       "        text-align: right;\n",
       "    }\n",
       "</style>\n",
       "<table border=\"1\" class=\"dataframe\">\n",
       "  <thead>\n",
       "    <tr style=\"text-align: right;\">\n",
       "      <th></th>\n",
       "      <th>datetime</th>\n",
       "      <th>season</th>\n",
       "      <th>holiday</th>\n",
       "      <th>workingday</th>\n",
       "      <th>weather</th>\n",
       "      <th>temp</th>\n",
       "      <th>atemp</th>\n",
       "      <th>humidity</th>\n",
       "      <th>windspeed</th>\n",
       "      <th>Total_booking</th>\n",
       "      <th>Hour</th>\n",
       "      <th>Weekday</th>\n",
       "      <th>Month</th>\n",
       "    </tr>\n",
       "  </thead>\n",
       "  <tbody>\n",
       "    <tr>\n",
       "      <th>566</th>\n",
       "      <td>2012-09-12 18:00:00</td>\n",
       "      <td>Fall</td>\n",
       "      <td>0</td>\n",
       "      <td>1</td>\n",
       "      <td>Clear + Few clouds</td>\n",
       "      <td>27.06</td>\n",
       "      <td>31.06</td>\n",
       "      <td>44</td>\n",
       "      <td>16.9979</td>\n",
       "      <td>977</td>\n",
       "      <td>18</td>\n",
       "      <td>Wednesday</td>\n",
       "      <td>September</td>\n",
       "    </tr>\n",
       "    <tr>\n",
       "      <th>3441</th>\n",
       "      <td>2012-09-10 18:00:00</td>\n",
       "      <td>Fall</td>\n",
       "      <td>0</td>\n",
       "      <td>1</td>\n",
       "      <td>Clear + Few clouds</td>\n",
       "      <td>25.42</td>\n",
       "      <td>31.06</td>\n",
       "      <td>35</td>\n",
       "      <td>19.9995</td>\n",
       "      <td>968</td>\n",
       "      <td>18</td>\n",
       "      <td>Monday</td>\n",
       "      <td>September</td>\n",
       "    </tr>\n",
       "    <tr>\n",
       "      <th>8299</th>\n",
       "      <td>2012-09-11 17:00:00</td>\n",
       "      <td>Fall</td>\n",
       "      <td>0</td>\n",
       "      <td>1</td>\n",
       "      <td>Clear + Few clouds</td>\n",
       "      <td>28.70</td>\n",
       "      <td>31.82</td>\n",
       "      <td>28</td>\n",
       "      <td>0.0000</td>\n",
       "      <td>970</td>\n",
       "      <td>17</td>\n",
       "      <td>Tuesday</td>\n",
       "      <td>September</td>\n",
       "    </tr>\n",
       "  </tbody>\n",
       "</table>\n",
       "</div>"
      ],
      "text/plain": [
       "                datetime season  holiday  workingday              weather  \\\n",
       "566  2012-09-12 18:00:00   Fall        0           1   Clear + Few clouds   \n",
       "3441 2012-09-10 18:00:00   Fall        0           1   Clear + Few clouds   \n",
       "8299 2012-09-11 17:00:00   Fall        0           1   Clear + Few clouds   \n",
       "\n",
       "       temp  atemp  humidity  windspeed  Total_booking  Hour    Weekday  \\\n",
       "566   27.06  31.06        44    16.9979            977    18  Wednesday   \n",
       "3441  25.42  31.06        35    19.9995            968    18     Monday   \n",
       "8299  28.70  31.82        28     0.0000            970    17    Tuesday   \n",
       "\n",
       "          Month  \n",
       "566   September  \n",
       "3441  September  \n",
       "8299  September  "
      ]
     },
     "execution_count": 155,
     "metadata": {},
     "output_type": "execute_result"
    }
   ],
   "source": [
    "cab_train[cab_train['Total_booking']>950]"
   ]
  },
  {
   "cell_type": "code",
   "execution_count": 156,
   "metadata": {},
   "outputs": [
    {
     "data": {
      "text/html": [
       "<div>\n",
       "<style scoped>\n",
       "    .dataframe tbody tr th:only-of-type {\n",
       "        vertical-align: middle;\n",
       "    }\n",
       "\n",
       "    .dataframe tbody tr th {\n",
       "        vertical-align: top;\n",
       "    }\n",
       "\n",
       "    .dataframe thead th {\n",
       "        text-align: right;\n",
       "    }\n",
       "</style>\n",
       "<table border=\"1\" class=\"dataframe\">\n",
       "  <thead>\n",
       "    <tr style=\"text-align: right;\">\n",
       "      <th></th>\n",
       "      <th>datetime</th>\n",
       "      <th>season</th>\n",
       "      <th>holiday</th>\n",
       "      <th>workingday</th>\n",
       "      <th>weather</th>\n",
       "      <th>temp</th>\n",
       "      <th>atemp</th>\n",
       "      <th>humidity</th>\n",
       "      <th>windspeed</th>\n",
       "      <th>Total_booking</th>\n",
       "      <th>Hour</th>\n",
       "      <th>Weekday</th>\n",
       "      <th>Month</th>\n",
       "    </tr>\n",
       "  </thead>\n",
       "  <tbody>\n",
       "    <tr>\n",
       "      <th>510</th>\n",
       "      <td>2012-10-16 17:00:00</td>\n",
       "      <td>Winter</td>\n",
       "      <td>0</td>\n",
       "      <td>1</td>\n",
       "      <td>Clear + Few clouds</td>\n",
       "      <td>21.32</td>\n",
       "      <td>25.000</td>\n",
       "      <td>39</td>\n",
       "      <td>12.9980</td>\n",
       "      <td>943</td>\n",
       "      <td>17</td>\n",
       "      <td>Tuesday</td>\n",
       "      <td>October</td>\n",
       "    </tr>\n",
       "    <tr>\n",
       "      <th>566</th>\n",
       "      <td>2012-09-12 18:00:00</td>\n",
       "      <td>Fall</td>\n",
       "      <td>0</td>\n",
       "      <td>1</td>\n",
       "      <td>Clear + Few clouds</td>\n",
       "      <td>27.06</td>\n",
       "      <td>31.060</td>\n",
       "      <td>44</td>\n",
       "      <td>16.9979</td>\n",
       "      <td>977</td>\n",
       "      <td>18</td>\n",
       "      <td>Wednesday</td>\n",
       "      <td>September</td>\n",
       "    </tr>\n",
       "    <tr>\n",
       "      <th>2963</th>\n",
       "      <td>2012-09-12 17:00:00</td>\n",
       "      <td>Fall</td>\n",
       "      <td>0</td>\n",
       "      <td>1</td>\n",
       "      <td>Clear + Few clouds</td>\n",
       "      <td>28.70</td>\n",
       "      <td>31.820</td>\n",
       "      <td>41</td>\n",
       "      <td>19.9995</td>\n",
       "      <td>925</td>\n",
       "      <td>17</td>\n",
       "      <td>Wednesday</td>\n",
       "      <td>September</td>\n",
       "    </tr>\n",
       "    <tr>\n",
       "      <th>3441</th>\n",
       "      <td>2012-09-10 18:00:00</td>\n",
       "      <td>Fall</td>\n",
       "      <td>0</td>\n",
       "      <td>1</td>\n",
       "      <td>Clear + Few clouds</td>\n",
       "      <td>25.42</td>\n",
       "      <td>31.060</td>\n",
       "      <td>35</td>\n",
       "      <td>19.9995</td>\n",
       "      <td>968</td>\n",
       "      <td>18</td>\n",
       "      <td>Monday</td>\n",
       "      <td>September</td>\n",
       "    </tr>\n",
       "    <tr>\n",
       "      <th>4773</th>\n",
       "      <td>2012-10-03 17:00:00</td>\n",
       "      <td>Winter</td>\n",
       "      <td>0</td>\n",
       "      <td>1</td>\n",
       "      <td>Clear + Few clouds</td>\n",
       "      <td>28.70</td>\n",
       "      <td>32.575</td>\n",
       "      <td>65</td>\n",
       "      <td>0.0000</td>\n",
       "      <td>917</td>\n",
       "      <td>17</td>\n",
       "      <td>Wednesday</td>\n",
       "      <td>October</td>\n",
       "    </tr>\n",
       "    <tr>\n",
       "      <th>4853</th>\n",
       "      <td>2012-10-10 17:00:00</td>\n",
       "      <td>Winter</td>\n",
       "      <td>0</td>\n",
       "      <td>1</td>\n",
       "      <td>Clear + Few clouds</td>\n",
       "      <td>23.78</td>\n",
       "      <td>27.275</td>\n",
       "      <td>43</td>\n",
       "      <td>15.0013</td>\n",
       "      <td>948</td>\n",
       "      <td>17</td>\n",
       "      <td>Wednesday</td>\n",
       "      <td>October</td>\n",
       "    </tr>\n",
       "    <tr>\n",
       "      <th>8299</th>\n",
       "      <td>2012-09-11 17:00:00</td>\n",
       "      <td>Fall</td>\n",
       "      <td>0</td>\n",
       "      <td>1</td>\n",
       "      <td>Clear + Few clouds</td>\n",
       "      <td>28.70</td>\n",
       "      <td>31.820</td>\n",
       "      <td>28</td>\n",
       "      <td>0.0000</td>\n",
       "      <td>970</td>\n",
       "      <td>17</td>\n",
       "      <td>Tuesday</td>\n",
       "      <td>September</td>\n",
       "    </tr>\n",
       "  </tbody>\n",
       "</table>\n",
       "</div>"
      ],
      "text/plain": [
       "                datetime  season  holiday  workingday              weather  \\\n",
       "510  2012-10-16 17:00:00  Winter        0           1   Clear + Few clouds   \n",
       "566  2012-09-12 18:00:00    Fall        0           1   Clear + Few clouds   \n",
       "2963 2012-09-12 17:00:00    Fall        0           1   Clear + Few clouds   \n",
       "3441 2012-09-10 18:00:00    Fall        0           1   Clear + Few clouds   \n",
       "4773 2012-10-03 17:00:00  Winter        0           1   Clear + Few clouds   \n",
       "4853 2012-10-10 17:00:00  Winter        0           1   Clear + Few clouds   \n",
       "8299 2012-09-11 17:00:00    Fall        0           1   Clear + Few clouds   \n",
       "\n",
       "       temp   atemp  humidity  windspeed  Total_booking  Hour    Weekday  \\\n",
       "510   21.32  25.000        39    12.9980            943    17    Tuesday   \n",
       "566   27.06  31.060        44    16.9979            977    18  Wednesday   \n",
       "2963  28.70  31.820        41    19.9995            925    17  Wednesday   \n",
       "3441  25.42  31.060        35    19.9995            968    18     Monday   \n",
       "4773  28.70  32.575        65     0.0000            917    17  Wednesday   \n",
       "4853  23.78  27.275        43    15.0013            948    17  Wednesday   \n",
       "8299  28.70  31.820        28     0.0000            970    17    Tuesday   \n",
       "\n",
       "          Month  \n",
       "510     October  \n",
       "566   September  \n",
       "2963  September  \n",
       "3441  September  \n",
       "4773    October  \n",
       "4853    October  \n",
       "8299  September  "
      ]
     },
     "execution_count": 156,
     "metadata": {},
     "output_type": "execute_result"
    }
   ],
   "source": [
    "cab_train[cab_train['Total_booking']>900]"
   ]
  },
  {
   "cell_type": "code",
   "execution_count": 157,
   "metadata": {},
   "outputs": [
    {
     "data": {
      "text/plain": [
       "(8700, 13)"
      ]
     },
     "execution_count": 157,
     "metadata": {},
     "output_type": "execute_result"
    }
   ],
   "source": [
    "## so we conclude that values of total_booking are outliers\n",
    "cab_train_01=cab_train[cab_train['Total_booking']<900]\n",
    "cab_train_01.shape"
   ]
  },
  {
   "cell_type": "code",
   "execution_count": 158,
   "metadata": {},
   "outputs": [
    {
     "data": {
      "image/png": "[encoded data removed]",
      "text/plain": [
       "<Figure size 720x504 with 1 Axes>"
      ]
     },
     "metadata": {
      "needs_background": "light"
     },
     "output_type": "display_data"
    }
   ],
   "source": [
    "## Box plot for temp, atemp, windspeed,humidity\n",
    "\n",
    "data=[cab_train_01['temp'],cab_train_01['atemp'],cab_train_01['windspeed'],cab_train_01['humidity']]\n",
    "\n",
    "fig = plt.figure(figsize =(10, 7))\n",
    " \n",
    "# Creating axes instance\n",
    "ax = fig.add_axes([0, 0, 1, 1])\n",
    " \n",
    "# Creating plot\n",
    "bp = ax.boxplot(data)\n",
    " \n",
    "# show plot\n",
    "plt.show()"
   ]
  },
  {
   "cell_type": "code",
   "execution_count": 159,
   "metadata": {},
   "outputs": [
    {
     "data": {
      "text/html": [
       "<div>\n",
       "<style scoped>\n",
       "    .dataframe tbody tr th:only-of-type {\n",
       "        vertical-align: middle;\n",
       "    }\n",
       "\n",
       "    .dataframe tbody tr th {\n",
       "        vertical-align: top;\n",
       "    }\n",
       "\n",
       "    .dataframe thead th {\n",
       "        text-align: right;\n",
       "    }\n",
       "</style>\n",
       "<table border=\"1\" class=\"dataframe\">\n",
       "  <thead>\n",
       "    <tr style=\"text-align: right;\">\n",
       "      <th></th>\n",
       "      <th>datetime</th>\n",
       "      <th>season</th>\n",
       "      <th>holiday</th>\n",
       "      <th>workingday</th>\n",
       "      <th>weather</th>\n",
       "      <th>temp</th>\n",
       "      <th>atemp</th>\n",
       "      <th>humidity</th>\n",
       "      <th>windspeed</th>\n",
       "      <th>Total_booking</th>\n",
       "      <th>Hour</th>\n",
       "      <th>Weekday</th>\n",
       "      <th>Month</th>\n",
       "    </tr>\n",
       "  </thead>\n",
       "  <tbody>\n",
       "    <tr>\n",
       "      <th>105</th>\n",
       "      <td>2012-09-18 08:00:00</td>\n",
       "      <td>Fall</td>\n",
       "      <td>0</td>\n",
       "      <td>1</td>\n",
       "      <td>Mist + Cloudy</td>\n",
       "      <td>27.06</td>\n",
       "      <td>30.305</td>\n",
       "      <td>83</td>\n",
       "      <td>36.9974</td>\n",
       "      <td>672</td>\n",
       "      <td>8</td>\n",
       "      <td>Tuesday</td>\n",
       "      <td>September</td>\n",
       "    </tr>\n",
       "    <tr>\n",
       "      <th>182</th>\n",
       "      <td>2012-01-18 06:00:00</td>\n",
       "      <td>Spring</td>\n",
       "      <td>0</td>\n",
       "      <td>1</td>\n",
       "      <td>Clear + Few clouds</td>\n",
       "      <td>13.94</td>\n",
       "      <td>14.395</td>\n",
       "      <td>36</td>\n",
       "      <td>35.0008</td>\n",
       "      <td>88</td>\n",
       "      <td>6</td>\n",
       "      <td>Wednesday</td>\n",
       "      <td>January</td>\n",
       "    </tr>\n",
       "    <tr>\n",
       "      <th>279</th>\n",
       "      <td>2012-04-09 12:00:00</td>\n",
       "      <td>Summer</td>\n",
       "      <td>0</td>\n",
       "      <td>1</td>\n",
       "      <td>Clear + Few clouds</td>\n",
       "      <td>22.14</td>\n",
       "      <td>25.760</td>\n",
       "      <td>28</td>\n",
       "      <td>47.9988</td>\n",
       "      <td>280</td>\n",
       "      <td>12</td>\n",
       "      <td>Monday</td>\n",
       "      <td>April</td>\n",
       "    </tr>\n",
       "    <tr>\n",
       "      <th>288</th>\n",
       "      <td>2011-02-19 10:00:00</td>\n",
       "      <td>Spring</td>\n",
       "      <td>0</td>\n",
       "      <td>0</td>\n",
       "      <td>Clear + Few clouds</td>\n",
       "      <td>17.22</td>\n",
       "      <td>21.210</td>\n",
       "      <td>16</td>\n",
       "      <td>39.0007</td>\n",
       "      <td>106</td>\n",
       "      <td>10</td>\n",
       "      <td>Saturday</td>\n",
       "      <td>February</td>\n",
       "    </tr>\n",
       "    <tr>\n",
       "      <th>316</th>\n",
       "      <td>2012-01-18 04:00:00</td>\n",
       "      <td>Spring</td>\n",
       "      <td>0</td>\n",
       "      <td>1</td>\n",
       "      <td>Clear + Few clouds</td>\n",
       "      <td>13.94</td>\n",
       "      <td>14.395</td>\n",
       "      <td>46</td>\n",
       "      <td>35.0008</td>\n",
       "      <td>1</td>\n",
       "      <td>4</td>\n",
       "      <td>Wednesday</td>\n",
       "      <td>January</td>\n",
       "    </tr>\n",
       "    <tr>\n",
       "      <th>...</th>\n",
       "      <td>...</td>\n",
       "      <td>...</td>\n",
       "      <td>...</td>\n",
       "      <td>...</td>\n",
       "      <td>...</td>\n",
       "      <td>...</td>\n",
       "      <td>...</td>\n",
       "      <td>...</td>\n",
       "      <td>...</td>\n",
       "      <td>...</td>\n",
       "      <td>...</td>\n",
       "      <td>...</td>\n",
       "      <td>...</td>\n",
       "    </tr>\n",
       "    <tr>\n",
       "      <th>8460</th>\n",
       "      <td>2012-04-09 14:00:00</td>\n",
       "      <td>Summer</td>\n",
       "      <td>0</td>\n",
       "      <td>1</td>\n",
       "      <td>Clear + Few clouds</td>\n",
       "      <td>22.96</td>\n",
       "      <td>26.515</td>\n",
       "      <td>28</td>\n",
       "      <td>36.9974</td>\n",
       "      <td>218</td>\n",
       "      <td>14</td>\n",
       "      <td>Monday</td>\n",
       "      <td>April</td>\n",
       "    </tr>\n",
       "    <tr>\n",
       "      <th>8468</th>\n",
       "      <td>2011-02-19 21:00:00</td>\n",
       "      <td>Spring</td>\n",
       "      <td>0</td>\n",
       "      <td>0</td>\n",
       "      <td>Clear + Few clouds</td>\n",
       "      <td>13.12</td>\n",
       "      <td>13.635</td>\n",
       "      <td>26</td>\n",
       "      <td>36.9974</td>\n",
       "      <td>33</td>\n",
       "      <td>21</td>\n",
       "      <td>Saturday</td>\n",
       "      <td>February</td>\n",
       "    </tr>\n",
       "    <tr>\n",
       "      <th>8555</th>\n",
       "      <td>2011-02-08 10:00:00</td>\n",
       "      <td>Spring</td>\n",
       "      <td>0</td>\n",
       "      <td>1</td>\n",
       "      <td>Clear + Few clouds</td>\n",
       "      <td>9.02</td>\n",
       "      <td>9.090</td>\n",
       "      <td>47</td>\n",
       "      <td>36.9974</td>\n",
       "      <td>48</td>\n",
       "      <td>10</td>\n",
       "      <td>Tuesday</td>\n",
       "      <td>February</td>\n",
       "    </tr>\n",
       "    <tr>\n",
       "      <th>8603</th>\n",
       "      <td>2012-01-13 13:00:00</td>\n",
       "      <td>Spring</td>\n",
       "      <td>0</td>\n",
       "      <td>1</td>\n",
       "      <td>Clear + Few clouds</td>\n",
       "      <td>10.66</td>\n",
       "      <td>10.605</td>\n",
       "      <td>33</td>\n",
       "      <td>35.0008</td>\n",
       "      <td>154</td>\n",
       "      <td>13</td>\n",
       "      <td>Friday</td>\n",
       "      <td>January</td>\n",
       "    </tr>\n",
       "    <tr>\n",
       "      <th>8640</th>\n",
       "      <td>2011-12-07 19:00:00</td>\n",
       "      <td>Winter</td>\n",
       "      <td>0</td>\n",
       "      <td>1</td>\n",
       "      <td>Light Snow, Light Rain</td>\n",
       "      <td>13.94</td>\n",
       "      <td>14.395</td>\n",
       "      <td>87</td>\n",
       "      <td>43.0006</td>\n",
       "      <td>33</td>\n",
       "      <td>19</td>\n",
       "      <td>Wednesday</td>\n",
       "      <td>December</td>\n",
       "    </tr>\n",
       "  </tbody>\n",
       "</table>\n",
       "<p>112 rows × 13 columns</p>\n",
       "</div>"
      ],
      "text/plain": [
       "                datetime  season  holiday  workingday  \\\n",
       "105  2012-09-18 08:00:00    Fall        0           1   \n",
       "182  2012-01-18 06:00:00  Spring        0           1   \n",
       "279  2012-04-09 12:00:00  Summer        0           1   \n",
       "288  2011-02-19 10:00:00  Spring        0           0   \n",
       "316  2012-01-18 04:00:00  Spring        0           1   \n",
       "...                  ...     ...      ...         ...   \n",
       "8460 2012-04-09 14:00:00  Summer        0           1   \n",
       "8468 2011-02-19 21:00:00  Spring        0           0   \n",
       "8555 2011-02-08 10:00:00  Spring        0           1   \n",
       "8603 2012-01-13 13:00:00  Spring        0           1   \n",
       "8640 2011-12-07 19:00:00  Winter        0           1   \n",
       "\n",
       "                      weather   temp   atemp  humidity  windspeed  \\\n",
       "105            Mist + Cloudy   27.06  30.305        83    36.9974   \n",
       "182        Clear + Few clouds  13.94  14.395        36    35.0008   \n",
       "279        Clear + Few clouds  22.14  25.760        28    47.9988   \n",
       "288        Clear + Few clouds  17.22  21.210        16    39.0007   \n",
       "316        Clear + Few clouds  13.94  14.395        46    35.0008   \n",
       "...                       ...    ...     ...       ...        ...   \n",
       "8460       Clear + Few clouds  22.96  26.515        28    36.9974   \n",
       "8468       Clear + Few clouds  13.12  13.635        26    36.9974   \n",
       "8555       Clear + Few clouds   9.02   9.090        47    36.9974   \n",
       "8603       Clear + Few clouds  10.66  10.605        33    35.0008   \n",
       "8640   Light Snow, Light Rain  13.94  14.395        87    43.0006   \n",
       "\n",
       "      Total_booking  Hour    Weekday      Month  \n",
       "105             672     8    Tuesday  September  \n",
       "182              88     6  Wednesday    January  \n",
       "279             280    12     Monday      April  \n",
       "288             106    10   Saturday   February  \n",
       "316               1     4  Wednesday    January  \n",
       "...             ...   ...        ...        ...  \n",
       "8460            218    14     Monday      April  \n",
       "8468             33    21   Saturday   February  \n",
       "8555             48    10    Tuesday   February  \n",
       "8603            154    13     Friday    January  \n",
       "8640             33    19  Wednesday   December  \n",
       "\n",
       "[112 rows x 13 columns]"
      ]
     },
     "execution_count": 159,
     "metadata": {},
     "output_type": "execute_result"
    }
   ],
   "source": [
    "#here we are able to see some outliers in windspeed column\n",
    "\n",
    "cab_train_01[cab_train_01['windspeed']>35]"
   ]
  },
  {
   "cell_type": "code",
   "execution_count": 160,
   "metadata": {},
   "outputs": [
    {
     "name": "stdout",
     "output_type": "stream",
     "text": [
      "56.9969\n",
      "0.0\n"
     ]
    },
    {
     "data": {
      "text/plain": [
       "12.84466703448298"
      ]
     },
     "execution_count": 160,
     "metadata": {},
     "output_type": "execute_result"
    }
   ],
   "source": [
    "print(cab_train_01['windspeed'].max())\n",
    "print(cab_train_01['windspeed'].min())\n",
    "cab_train_01['windspeed'].mean()"
   ]
  },
  {
   "cell_type": "code",
   "execution_count": 161,
   "metadata": {},
   "outputs": [
    {
     "data": {
      "image/png": "[encoded data removed]",
      "text/plain": [
       "<Figure size 1296x720 with 1 Axes>"
      ]
     },
     "metadata": {
      "needs_background": "light"
     },
     "output_type": "display_data"
    }
   ],
   "source": [
    "## scatter plot between Total_booking and windspeed\n",
    "\n",
    "# Scatter plot\n",
    "fig, ax = plt.subplots(figsize = (18,10))\n",
    "ax.scatter(cab_train_01['Total_booking'],cab_train_01['windspeed'])\n",
    "\n",
    "# x-axis label\n",
    "ax.set_xlabel('Total_booking')\n",
    "\n",
    "# y-axis label\n",
    "ax.set_ylabel('windspeed')\n",
    "plt.show()"
   ]
  },
  {
   "cell_type": "code",
   "execution_count": 162,
   "metadata": {},
   "outputs": [
    {
     "data": {
      "text/plain": [
       "26"
      ]
     },
     "execution_count": 162,
     "metadata": {},
     "output_type": "execute_result"
    }
   ],
   "source": [
    "len(cab_train_01[cab_train_01['windspeed']>40])"
   ]
  },
  {
   "cell_type": "code",
   "execution_count": 239,
   "metadata": {},
   "outputs": [
    {
     "name": "stdout",
     "output_type": "stream",
     "text": [
      "(8674, 13)\n",
      "(8708, 13)\n"
     ]
    }
   ],
   "source": [
    "cab_train_02= cab_train_01[cab_train_01['windspeed']<40]\n",
    "print(cab_train_02.shape)\n",
    "print(cab_train.shape)\n"
   ]
  },
  {
   "cell_type": "code",
   "execution_count": 164,
   "metadata": {},
   "outputs": [
    {
     "data": {
      "image/png": "[encoded data removed]",
      "text/plain": [
       "<Figure size 1296x720 with 1 Axes>"
      ]
     },
     "metadata": {
      "needs_background": "light"
     },
     "output_type": "display_data"
    }
   ],
   "source": [
    "## scatter plot between Total_booking and windspeed\n",
    "\n",
    "# Scatter plot\n",
    "fig, ax = plt.subplots(figsize = (18,10))\n",
    "ax.scatter(cab_train_02['Total_booking'],cab_train_02['windspeed'])\n",
    "\n",
    "# x-axis label\n",
    "ax.set_xlabel('Total_booking')\n",
    "\n",
    "# y-axis label\n",
    "ax.set_ylabel('windspeed')\n",
    "plt.show()"
   ]
  },
  {
   "cell_type": "code",
   "execution_count": null,
   "metadata": {},
   "outputs": [],
   "source": [
    "#now data looks quite okay to me."
   ]
  },
  {
   "cell_type": "markdown",
   "metadata": {},
   "source": [
    "#### Task 3 Collinearity\n",
    "\n",
    "##### 3.1) Multicollinearity (collinearity among features)"
   ]
  },
  {
   "cell_type": "code",
   "execution_count": 240,
   "metadata": {},
   "outputs": [
    {
     "data": {
      "text/plain": [
       "-0.2502666530200263"
      ]
     },
     "execution_count": 240,
     "metadata": {},
     "output_type": "execute_result"
    }
   ],
   "source": [
    "##correlation index\n",
    "\n",
    "cab_train_02['holiday'].corr(cab_train_02['workingday'])\n",
    "\n"
   ]
  },
  {
   "cell_type": "code",
   "execution_count": 241,
   "metadata": {},
   "outputs": [],
   "source": [
    "## negative correlation means , when one quantity increases, other will decrease\n",
    "\n",
    "##here when holiday is 1 i.e it can't be a working day (i.e it will be 0). so both columns giving same values.\n",
    "#so we will keep only working day column and will remove holiday column\n",
    "\n",
    "cab_train_03=cab_train_02\n",
    "\n",
    "del cab_train_03['holiday']\n",
    "del cab_test['holiday']"
   ]
  },
  {
   "cell_type": "code",
   "execution_count": 167,
   "metadata": {},
   "outputs": [
    {
     "data": {
      "text/plain": [
       "Index(['datetime', 'season', 'workingday', 'weather', 'temp', 'atemp',\n",
       "       'humidity', 'windspeed', 'Total_booking', 'Hour', 'Weekday', 'Month'],\n",
       "      dtype='object')"
      ]
     },
     "execution_count": 167,
     "metadata": {},
     "output_type": "execute_result"
    }
   ],
   "source": [
    "cab_train_03.columns"
   ]
  },
  {
   "cell_type": "code",
   "execution_count": 242,
   "metadata": {},
   "outputs": [],
   "source": [
    "#again datetime is no more useful to us, as we have Hour, weekday, month\n",
    "\n",
    "del cab_train_03['datetime']\n",
    "del cab_test['datetime']"
   ]
  },
  {
   "cell_type": "code",
   "execution_count": 168,
   "metadata": {},
   "outputs": [
    {
     "data": {
      "text/plain": [
       "Index(['datetime', 'season', 'workingday', 'weather', 'temp', 'atemp',\n",
       "       'humidity', 'windspeed', 'Total_booking', 'Hour', 'Weekday', 'Month'],\n",
       "      dtype='object')"
      ]
     },
     "execution_count": 168,
     "metadata": {},
     "output_type": "execute_result"
    }
   ],
   "source": [
    "cab_train_03.columns"
   ]
  },
  {
   "cell_type": "code",
   "execution_count": 169,
   "metadata": {},
   "outputs": [
    {
     "data": {
      "text/plain": [
       "0.9840697468229332"
      ]
     },
     "execution_count": 169,
     "metadata": {},
     "output_type": "execute_result"
    }
   ],
   "source": [
    "# correlation index between temp and atemp\n",
    "\n",
    "cab_train_03['temp'].corr(cab_train_03['atemp'])"
   ]
  },
  {
   "cell_type": "code",
   "execution_count": 243,
   "metadata": {},
   "outputs": [
    {
     "data": {
      "text/plain": [
       "Index(['season', 'workingday', 'weather', 'temp', 'humidity', 'windspeed',\n",
       "       'Total_booking', 'Hour', 'Weekday', 'Month'],\n",
       "      dtype='object')"
      ]
     },
     "execution_count": 243,
     "metadata": {},
     "output_type": "execute_result"
    }
   ],
   "source": [
    "## as it's almost close to 1 i.e these two columns are positively correlated , so we will keep just temp col and not atemp\n",
    "\n",
    "del cab_train_03['atemp']\n",
    "del cab_test['atemp']\n",
    "cab_train_03.columns"
   ]
  },
  {
   "cell_type": "markdown",
   "metadata": {},
   "source": [
    "#### 3.2) Correlation among feature and label"
   ]
  },
  {
   "cell_type": "code",
   "execution_count": 173,
   "metadata": {},
   "outputs": [
    {
     "data": {
      "image/png": "[encoded data removed]",
      "text/plain": [
       "<Figure size 1296x720 with 1 Axes>"
      ]
     },
     "metadata": {
      "needs_background": "light"
     },
     "output_type": "display_data"
    },
    {
     "data": {
      "text/plain": [
       "0.39708808543084"
      ]
     },
     "execution_count": 173,
     "metadata": {},
     "output_type": "execute_result"
    }
   ],
   "source": [
    "# correlation index between temp and Total_booking\n",
    "\n",
    "# Scatter plot\n",
    "fig, ax = plt.subplots(figsize = (18,10))\n",
    "ax.scatter(cab_train_03['temp'],cab_train_03['Total_booking'])\n",
    "\n",
    "# x-axis label\n",
    "ax.set_ylabel('Total_booking')\n",
    "\n",
    "# y-axis label\n",
    "ax.set_xlabel('temp')\n",
    "plt.show()\n",
    "\n",
    "cab_train_03['temp'].corr(cab_train_03['Total_booking'])"
   ]
  },
  {
   "cell_type": "code",
   "execution_count": 174,
   "metadata": {},
   "outputs": [
    {
     "data": {
      "image/png": "[encoded data removed]",
      "text/plain": [
       "<Figure size 1296x720 with 1 Axes>"
      ]
     },
     "metadata": {
      "needs_background": "light"
     },
     "output_type": "display_data"
    },
    {
     "data": {
      "text/plain": [
       "-0.3079190511320103"
      ]
     },
     "execution_count": 174,
     "metadata": {},
     "output_type": "execute_result"
    }
   ],
   "source": [
    "# correlation index between humidity and Total_booking\n",
    "\n",
    "# Scatter plot\n",
    "fig, ax = plt.subplots(figsize = (18,10))\n",
    "ax.scatter(cab_train_03['humidity'],cab_train_03['Total_booking'])\n",
    "\n",
    "# x-axis label\n",
    "ax.set_ylabel('Total_booking')\n",
    "\n",
    "# y-axis label\n",
    "ax.set_xlabel('humidity')\n",
    "plt.show()\n",
    "\n",
    "cab_train_03['humidity'].corr(cab_train_03['Total_booking'])"
   ]
  },
  {
   "cell_type": "code",
   "execution_count": 175,
   "metadata": {},
   "outputs": [
    {
     "data": {
      "image/png": "[encoded data removed]",
      "text/plain": [
       "<Figure size 1296x720 with 1 Axes>"
      ]
     },
     "metadata": {
      "needs_background": "light"
     },
     "output_type": "display_data"
    },
    {
     "data": {
      "text/plain": [
       "0.0985232492035808"
      ]
     },
     "execution_count": 175,
     "metadata": {},
     "output_type": "execute_result"
    }
   ],
   "source": [
    "# correlation index between windspeed and Total_booking\n",
    "\n",
    "# Scatter plot\n",
    "fig, ax = plt.subplots(figsize = (18,10))\n",
    "ax.scatter(cab_train_03['windspeed'],cab_train_03['Total_booking'])\n",
    "\n",
    "# x-axis label\n",
    "ax.set_ylabel('Total_booking')\n",
    "\n",
    "# y-axis label\n",
    "ax.set_xlabel('windspeed')\n",
    "plt.show()\n",
    "\n",
    "cab_train_03['windspeed'].corr(cab_train_03['Total_booking'])"
   ]
  },
  {
   "cell_type": "code",
   "execution_count": 176,
   "metadata": {},
   "outputs": [],
   "source": [
    "## this shows , windspeed is more strongly correlated to Total booking as compared to humidity and temperature."
   ]
  },
  {
   "cell_type": "code",
   "execution_count": 178,
   "metadata": {},
   "outputs": [
    {
     "data": {
      "image/png": "[encoded data removed]",
      "text/plain": [
       "<Figure size 1296x720 with 1 Axes>"
      ]
     },
     "metadata": {
      "needs_background": "light"
     },
     "output_type": "display_data"
    },
    {
     "data": {
      "text/plain": [
       "0.4004198837791952"
      ]
     },
     "execution_count": 178,
     "metadata": {},
     "output_type": "execute_result"
    }
   ],
   "source": [
    "# correlation index between hour and Total_booking\n",
    "\n",
    "# Scatter plot\n",
    "fig, ax = plt.subplots(figsize = (18,10))\n",
    "ax.scatter(cab_train_03['Hour'],cab_train_03['Total_booking'])\n",
    "\n",
    "# x-axis label\n",
    "ax.set_ylabel('Total_booking')\n",
    "\n",
    "# y-axis label\n",
    "ax.set_xlabel('Hour')\n",
    "plt.show()\n",
    "\n",
    "cab_train_03['Hour'].corr(cab_train_03['Total_booking'])"
   ]
  },
  {
   "cell_type": "code",
   "execution_count": 180,
   "metadata": {},
   "outputs": [
    {
     "data": {
      "image/png": "[encoded data removed]",
      "text/plain": [
       "<Figure size 1296x720 with 1 Axes>"
      ]
     },
     "metadata": {
      "needs_background": "light"
     },
     "output_type": "display_data"
    }
   ],
   "source": [
    "# correlation index between Month and Total_booking\n",
    "\n",
    "# Scatter plot\n",
    "fig, ax = plt.subplots(figsize = (18,10))\n",
    "ax.scatter(cab_train_03['Month'],cab_train_03['Total_booking'])\n",
    "\n",
    "# x-axis label\n",
    "ax.set_ylabel('Total_booking')\n",
    "\n",
    "# y-axis label\n",
    "ax.set_xlabel('Month')\n",
    "plt.show()\n",
    "\n",
    "# cab_train_03['Month'].corr(cab_train_03['Total_booking'])"
   ]
  },
  {
   "cell_type": "markdown",
   "metadata": {},
   "source": [
    "#### Task 4) Normalization"
   ]
  },
  {
   "cell_type": "code",
   "execution_count": 185,
   "metadata": {},
   "outputs": [
    {
     "data": {
      "text/html": [
       "<div>\n",
       "<style scoped>\n",
       "    .dataframe tbody tr th:only-of-type {\n",
       "        vertical-align: middle;\n",
       "    }\n",
       "\n",
       "    .dataframe tbody tr th {\n",
       "        vertical-align: top;\n",
       "    }\n",
       "\n",
       "    .dataframe thead th {\n",
       "        text-align: right;\n",
       "    }\n",
       "</style>\n",
       "<table border=\"1\" class=\"dataframe\">\n",
       "  <thead>\n",
       "    <tr style=\"text-align: right;\">\n",
       "      <th></th>\n",
       "      <th>workingday</th>\n",
       "      <th>temp</th>\n",
       "      <th>humidity</th>\n",
       "      <th>windspeed</th>\n",
       "      <th>Total_booking</th>\n",
       "      <th>Hour</th>\n",
       "    </tr>\n",
       "  </thead>\n",
       "  <tbody>\n",
       "    <tr>\n",
       "      <th>count</th>\n",
       "      <td>8674.000000</td>\n",
       "      <td>8674.000000</td>\n",
       "      <td>8674.000000</td>\n",
       "      <td>8674.000000</td>\n",
       "      <td>8674.000000</td>\n",
       "      <td>8674.000000</td>\n",
       "    </tr>\n",
       "    <tr>\n",
       "      <th>mean</th>\n",
       "      <td>0.680309</td>\n",
       "      <td>20.250427</td>\n",
       "      <td>61.719737</td>\n",
       "      <td>12.748976</td>\n",
       "      <td>192.456076</td>\n",
       "      <td>11.570556</td>\n",
       "    </tr>\n",
       "    <tr>\n",
       "      <th>std</th>\n",
       "      <td>0.466384</td>\n",
       "      <td>7.813076</td>\n",
       "      <td>19.163661</td>\n",
       "      <td>8.011673</td>\n",
       "      <td>180.288375</td>\n",
       "      <td>6.892725</td>\n",
       "    </tr>\n",
       "    <tr>\n",
       "      <th>min</th>\n",
       "      <td>0.000000</td>\n",
       "      <td>0.820000</td>\n",
       "      <td>0.000000</td>\n",
       "      <td>0.000000</td>\n",
       "      <td>1.000000</td>\n",
       "      <td>0.000000</td>\n",
       "    </tr>\n",
       "    <tr>\n",
       "      <th>25%</th>\n",
       "      <td>0.000000</td>\n",
       "      <td>13.940000</td>\n",
       "      <td>47.000000</td>\n",
       "      <td>7.001500</td>\n",
       "      <td>43.000000</td>\n",
       "      <td>6.000000</td>\n",
       "    </tr>\n",
       "    <tr>\n",
       "      <th>50%</th>\n",
       "      <td>1.000000</td>\n",
       "      <td>20.500000</td>\n",
       "      <td>62.000000</td>\n",
       "      <td>12.998000</td>\n",
       "      <td>148.000000</td>\n",
       "      <td>12.000000</td>\n",
       "    </tr>\n",
       "    <tr>\n",
       "      <th>75%</th>\n",
       "      <td>1.000000</td>\n",
       "      <td>26.240000</td>\n",
       "      <td>77.000000</td>\n",
       "      <td>16.997900</td>\n",
       "      <td>286.000000</td>\n",
       "      <td>18.000000</td>\n",
       "    </tr>\n",
       "    <tr>\n",
       "      <th>max</th>\n",
       "      <td>1.000000</td>\n",
       "      <td>41.000000</td>\n",
       "      <td>100.000000</td>\n",
       "      <td>39.000700</td>\n",
       "      <td>897.000000</td>\n",
       "      <td>23.000000</td>\n",
       "    </tr>\n",
       "  </tbody>\n",
       "</table>\n",
       "</div>"
      ],
      "text/plain": [
       "        workingday         temp     humidity    windspeed  Total_booking  \\\n",
       "count  8674.000000  8674.000000  8674.000000  8674.000000    8674.000000   \n",
       "mean      0.680309    20.250427    61.719737    12.748976     192.456076   \n",
       "std       0.466384     7.813076    19.163661     8.011673     180.288375   \n",
       "min       0.000000     0.820000     0.000000     0.000000       1.000000   \n",
       "25%       0.000000    13.940000    47.000000     7.001500      43.000000   \n",
       "50%       1.000000    20.500000    62.000000    12.998000     148.000000   \n",
       "75%       1.000000    26.240000    77.000000    16.997900     286.000000   \n",
       "max       1.000000    41.000000   100.000000    39.000700     897.000000   \n",
       "\n",
       "              Hour  \n",
       "count  8674.000000  \n",
       "mean     11.570556  \n",
       "std       6.892725  \n",
       "min       0.000000  \n",
       "25%       6.000000  \n",
       "50%      12.000000  \n",
       "75%      18.000000  \n",
       "max      23.000000  "
      ]
     },
     "execution_count": 185,
     "metadata": {},
     "output_type": "execute_result"
    }
   ],
   "source": [
    "#check whether Normalization is needed\n",
    "cab_train_03.describe()"
   ]
  },
  {
   "cell_type": "code",
   "execution_count": 189,
   "metadata": {},
   "outputs": [
    {
     "data": {
      "text/plain": [
       "Index(['datetime', 'season', 'workingday', 'weather', 'temp', 'humidity',\n",
       "       'windspeed', 'Total_booking', 'Hour', 'Weekday', 'Month'],\n",
       "      dtype='object')"
      ]
     },
     "execution_count": 189,
     "metadata": {},
     "output_type": "execute_result"
    }
   ],
   "source": [
    "#The different variables present different value ranges, therefore different magnitudes.\n",
    "#Not only the minimum and maximum values are different, but they also spread over ranges of different widths.\n",
    "\n",
    "#so let's Normalize the data\n",
    "\n",
    "cab_train_03.columns"
   ]
  },
  {
   "cell_type": "code",
   "execution_count": 244,
   "metadata": {},
   "outputs": [
    {
     "name": "stdout",
     "output_type": "stream",
     "text": [
      "Normalized Data =  [[0.26332695 0.91581639 0.20216825 0.22598067]\n",
      " [0.33269385 0.91577751 0.2202642  0.04636848]\n",
      " [0.10312554 0.89830607 0.39530498 0.16169509]\n",
      " ...\n",
      " [0.38619704 0.90946318 0.14613287 0.04872124]\n",
      " [0.17836069 0.94773539 0.26409035 0.01553665]\n",
      " [0.10422715 0.90790202 0.36315173 0.1815804 ]]\n"
     ]
    }
   ],
   "source": [
    "#we can keep only numerical features for normalization - so we hav to remove date column, cat columns and labeled column\n",
    "cab_train_04 =cab_train_03[['temp','humidity','windspeed','Hour']]\n",
    "\n",
    "# normalize the data attributes\n",
    "normalized = preprocessing.normalize(cab_train_04)\n",
    "print(\"Normalized Data = \", normalized)"
   ]
  },
  {
   "cell_type": "code",
   "execution_count": 245,
   "metadata": {},
   "outputs": [
    {
     "name": "stdout",
     "output_type": "stream",
     "text": [
      "Normalized Data =  [[0.3327759  0.74921403 0.54631438 0.17169488]\n",
      " [0.34469164 0.92768146 0.1014869  0.10146516]\n",
      " [0.10791957 0.94006591 0.26321187 0.18801318]\n",
      " ...\n",
      " [0.27449815 0.85871638 0.29108302 0.32019933]\n",
      " [0.17915649 0.97797389 0.09361603 0.05201989]\n",
      " [0.39764929 0.86502481 0.2227819  0.20970299]]\n"
     ]
    }
   ],
   "source": [
    "# similarly for test data\n",
    "\n",
    "#we can keep only numerical features for normalization - so we hav to remove date column, cat columns and labeled column\n",
    "cab_test_02 =cab_test[['temp','humidity','windspeed','Hour']]\n",
    "\n",
    "# normalize the data attributes\n",
    "normalized1 = preprocessing.normalize(cab_test_02)\n",
    "print(\"Normalized Data = \", normalized1)"
   ]
  },
  {
   "cell_type": "code",
   "execution_count": 247,
   "metadata": {},
   "outputs": [
    {
     "name": "stdout",
     "output_type": "stream",
     "text": [
      "   season  workingday              weather  Total_booking    Weekday  \\\n",
      "0  Summer           1   Clear + Few clouds            504  Wednesday   \n",
      "1    Fall           1   Clear + Few clouds              5  Wednesday   \n",
      "2  Spring           1   Clear + Few clouds            139   Thursday   \n",
      "3  Winter           1   Clear + Few clouds            209     Friday   \n",
      "4    Fall           1   Clear + Few clouds            184    Tuesday   \n",
      "\n",
      "       Month   temp  humidity  windspeed  Hour  \n",
      "0        May  22.14        77    16.9979    19  \n",
      "1  September  28.70        79    19.0012     4  \n",
      "2    January   5.74        50    22.0028     9  \n",
      "3   November  13.94        29     8.9981    16  \n",
      "4  September  30.34        51    19.0012    13  \n",
      "Index(['season', 'workingday', 'weather', 'Total_booking', 'Weekday', 'Month',\n",
      "       'temp', 'humidity', 'windspeed', 'Hour'],\n",
      "      dtype='object')\n"
     ]
    }
   ],
   "source": [
    "cab_train_05 =cab_train_03[[ 'season', 'workingday', 'weather','Total_booking','Weekday', 'Month']]\n",
    "\n",
    "## merging numerical and non numerical df\n",
    "\n",
    "cab_train_06 = pd.concat([cab_train_05,cab_train_04], axis=1)\n",
    "\n",
    "print(cab_train_06.head())\n",
    "print(cab_train_06.columns)\n"
   ]
  },
  {
   "cell_type": "code",
   "execution_count": 249,
   "metadata": {},
   "outputs": [
    {
     "name": "stdout",
     "output_type": "stream",
     "text": [
      "   season  workingday                  weather   Weekday    Month   temp  \\\n",
      "0  Summer           1       Clear + Few clouds  Thursday      May  21.32   \n",
      "1  Summer           0       Clear + Few clouds  Saturday     June  23.78   \n",
      "2  Spring           0   Light Snow, Light Rain    Sunday    March  11.48   \n",
      "3  Winter           1           Mist + Cloudy   Thursday  October  25.42   \n",
      "4  Summer           0       Clear + Few clouds  Saturday     June  25.42   \n",
      "\n",
      "   humidity  windspeed  Hour  \n",
      "0        48    35.0008    11  \n",
      "1        64     7.0015     7  \n",
      "2       100    27.9993    20  \n",
      "3        83     0.0000    11  \n",
      "4        43    23.9994    12  \n",
      "Index(['season', 'workingday', 'weather', 'Weekday', 'Month', 'temp',\n",
      "       'humidity', 'windspeed', 'Hour'],\n",
      "      dtype='object')\n"
     ]
    }
   ],
   "source": [
    "## test data\n",
    "\n",
    "cab_test_03 =cab_test[[ 'season', 'workingday', 'weather','Weekday', 'Month']]\n",
    "\n",
    "## merging numerical and non numerical df\n",
    "\n",
    "cab_test_04 = pd.concat([cab_test_03,cab_test_02], axis=1)\n",
    "\n",
    "print(cab_test_04.head())\n",
    "print(cab_test_04.columns)\n"
   ]
  },
  {
   "cell_type": "markdown",
   "metadata": {},
   "source": [
    "#### Task 5) Set Categorical columns as 'categorical' -season, holiday, working day, weather\n",
    "\n",
    "#### 5.1 verify if above columns are categorical columns"
   ]
  },
  {
   "cell_type": "code",
   "execution_count": 250,
   "metadata": {},
   "outputs": [
    {
     "name": "stdout",
     "output_type": "stream",
     "text": [
      "['season', 'workingday', 'weather']\n"
     ]
    }
   ],
   "source": [
    "#### 5.1 verify if above columns are categorical columns\n",
    "\n",
    "cat_col_unique_val= {'season':4, 'workingday':2, 'weather':4}\n",
    "\n",
    "cat_Col=[col for col in cat_col_unique_val.keys() if len(cab_train_06[col]. unique()) ==cat_col_unique_val[col] ]\n",
    "print(cat_Col)"
   ]
  },
  {
   "cell_type": "code",
   "execution_count": 251,
   "metadata": {},
   "outputs": [
    {
     "name": "stdout",
     "output_type": "stream",
     "text": [
      "['Summer' 'Fall' 'Spring' 'Winter']\n",
      "[1 0]\n",
      "[' Clear + Few clouds' ' Light Snow, Light Rain' ' Mist + Cloudy '\n",
      " ' Heavy Rain + Thunderstorm ']\n"
     ]
    }
   ],
   "source": [
    "#this also confirms - above cat columns doesn't have null values\n",
    "\n",
    "print(cab_train_06['season'].unique())\n",
    "# print(cab_train['holiday'].unique())\n",
    "print(cab_train_06['workingday'].unique())\n",
    "print(cab_train_06['weather'].unique())"
   ]
  },
  {
   "cell_type": "markdown",
   "metadata": {},
   "source": [
    "#### 5.2) # now we will set these categorical columns as 'categorical'"
   ]
  },
  {
   "cell_type": "code",
   "execution_count": 252,
   "metadata": {},
   "outputs": [
    {
     "name": "stdout",
     "output_type": "stream",
     "text": [
      "season            object\n",
      "workingday         int64\n",
      "weather           object\n",
      "Total_booking      int64\n",
      "Weekday           object\n",
      "Month             object\n",
      "temp             float64\n",
      "humidity           int64\n",
      "windspeed        float64\n",
      "Hour               int64\n",
      "dtype: object\n",
      "season           category\n",
      "workingday       category\n",
      "weather          category\n",
      "Total_booking       int64\n",
      "Weekday            object\n",
      "Month              object\n",
      "temp              float64\n",
      "humidity            int64\n",
      "windspeed         float64\n",
      "Hour                int64\n",
      "dtype: object\n"
     ]
    }
   ],
   "source": [
    "# now we will set these categorical columns as 'categorical'\n",
    "\n",
    "print(cab_train_06.dtypes)\n",
    "\n",
    "cab_train_06['season']=pd.Categorical(cab_train_03['season'])\n",
    "# cab_train['holiday']=pd.Categorical(cab_train['holiday'])\n",
    "cab_train_06['workingday']=cab_train_06['workingday'].astype('category')\n",
    "cab_train_06['weather']=cab_train_06['weather'].astype('category')\n",
    "\n",
    "print(cab_train_06.dtypes)\n",
    "\n",
    "\n",
    "### test data\n",
    "\n",
    "cab_test_04['season']=pd.Categorical(cab_test_04['season'])\n",
    "# cab_train['holiday']=pd.Categorical(cab_train['holiday'])\n",
    "cab_test_04['workingday']=cab_test_04['workingday'].astype('category')\n",
    "cab_test_04['weather']=cab_test_04['weather'].astype('category')\n"
   ]
  },
  {
   "cell_type": "markdown",
   "metadata": {},
   "source": [
    "#### 5.3) Label Encoding"
   ]
  },
  {
   "cell_type": "code",
   "execution_count": 265,
   "metadata": {},
   "outputs": [
    {
     "data": {
      "text/html": [
       "<div>\n",
       "<style scoped>\n",
       "    .dataframe tbody tr th:only-of-type {\n",
       "        vertical-align: middle;\n",
       "    }\n",
       "\n",
       "    .dataframe tbody tr th {\n",
       "        vertical-align: top;\n",
       "    }\n",
       "\n",
       "    .dataframe thead th {\n",
       "        text-align: right;\n",
       "    }\n",
       "</style>\n",
       "<table border=\"1\" class=\"dataframe\">\n",
       "  <thead>\n",
       "    <tr style=\"text-align: right;\">\n",
       "      <th></th>\n",
       "      <th>workingday</th>\n",
       "      <th>Total_booking</th>\n",
       "      <th>Month</th>\n",
       "      <th>temp</th>\n",
       "      <th>humidity</th>\n",
       "      <th>windspeed</th>\n",
       "      <th>Hour</th>\n",
       "      <th>season_N</th>\n",
       "      <th>weather_N</th>\n",
       "      <th>Weekday_N</th>\n",
       "      <th>Month_N</th>\n",
       "    </tr>\n",
       "  </thead>\n",
       "  <tbody>\n",
       "    <tr>\n",
       "      <th>0</th>\n",
       "      <td>1</td>\n",
       "      <td>504</td>\n",
       "      <td>May</td>\n",
       "      <td>22.14</td>\n",
       "      <td>77</td>\n",
       "      <td>16.9979</td>\n",
       "      <td>19</td>\n",
       "      <td>2</td>\n",
       "      <td>0</td>\n",
       "      <td>6</td>\n",
       "      <td>8</td>\n",
       "    </tr>\n",
       "    <tr>\n",
       "      <th>1</th>\n",
       "      <td>1</td>\n",
       "      <td>5</td>\n",
       "      <td>September</td>\n",
       "      <td>28.70</td>\n",
       "      <td>79</td>\n",
       "      <td>19.0012</td>\n",
       "      <td>4</td>\n",
       "      <td>0</td>\n",
       "      <td>0</td>\n",
       "      <td>6</td>\n",
       "      <td>11</td>\n",
       "    </tr>\n",
       "    <tr>\n",
       "      <th>2</th>\n",
       "      <td>1</td>\n",
       "      <td>139</td>\n",
       "      <td>January</td>\n",
       "      <td>5.74</td>\n",
       "      <td>50</td>\n",
       "      <td>22.0028</td>\n",
       "      <td>9</td>\n",
       "      <td>1</td>\n",
       "      <td>0</td>\n",
       "      <td>4</td>\n",
       "      <td>4</td>\n",
       "    </tr>\n",
       "    <tr>\n",
       "      <th>3</th>\n",
       "      <td>1</td>\n",
       "      <td>209</td>\n",
       "      <td>November</td>\n",
       "      <td>13.94</td>\n",
       "      <td>29</td>\n",
       "      <td>8.9981</td>\n",
       "      <td>16</td>\n",
       "      <td>3</td>\n",
       "      <td>0</td>\n",
       "      <td>0</td>\n",
       "      <td>9</td>\n",
       "    </tr>\n",
       "    <tr>\n",
       "      <th>4</th>\n",
       "      <td>1</td>\n",
       "      <td>184</td>\n",
       "      <td>September</td>\n",
       "      <td>30.34</td>\n",
       "      <td>51</td>\n",
       "      <td>19.0012</td>\n",
       "      <td>13</td>\n",
       "      <td>0</td>\n",
       "      <td>0</td>\n",
       "      <td>5</td>\n",
       "      <td>11</td>\n",
       "    </tr>\n",
       "  </tbody>\n",
       "</table>\n",
       "</div>"
      ],
      "text/plain": [
       "  workingday  Total_booking      Month   temp  humidity  windspeed  Hour  \\\n",
       "0          1            504        May  22.14        77    16.9979    19   \n",
       "1          1              5  September  28.70        79    19.0012     4   \n",
       "2          1            139    January   5.74        50    22.0028     9   \n",
       "3          1            209   November  13.94        29     8.9981    16   \n",
       "4          1            184  September  30.34        51    19.0012    13   \n",
       "\n",
       "   season_N  weather_N  Weekday_N  Month_N  \n",
       "0         2          0          6        8  \n",
       "1         0          0          6       11  \n",
       "2         1          0          4        4  \n",
       "3         3          0          0        9  \n",
       "4         0          0          5       11  "
      ]
     },
     "execution_count": 265,
     "metadata": {},
     "output_type": "execute_result"
    }
   ],
   "source": [
    "#creating an instance of label encoder\n",
    "label_encoder=LabelEncoder()\n",
    "\n",
    "# Assigning numerical values and storing it in another column called season_N\n",
    "cab_train_06['season_N']=label_encoder.fit_transform(cab_train_06['season'])\n",
    "\n",
    "#Assigning numerical values and storing it in another column called weather_N\n",
    "cab_train_06['weather_N']=label_encoder.fit_transform(cab_train_06['weather'])\n",
    "\n",
    "#Assigning numerical values and storing it in another column called Weekday_N\n",
    "cab_train_06['Weekday_N']=label_encoder.fit_transform(cab_train_06['Weekday'])\n",
    "\n",
    "#Assigning numerical values and storing it in another column called Month_N\n",
    "cab_train_06['Month_N']=label_encoder.fit_transform(cab_train_06['Month'])\n",
    "\n",
    "cab_train_06.head()\n"
   ]
  },
  {
   "cell_type": "code",
   "execution_count": 266,
   "metadata": {},
   "outputs": [
    {
     "data": {
      "text/html": [
       "<div>\n",
       "<style scoped>\n",
       "    .dataframe tbody tr th:only-of-type {\n",
       "        vertical-align: middle;\n",
       "    }\n",
       "\n",
       "    .dataframe tbody tr th {\n",
       "        vertical-align: top;\n",
       "    }\n",
       "\n",
       "    .dataframe thead th {\n",
       "        text-align: right;\n",
       "    }\n",
       "</style>\n",
       "<table border=\"1\" class=\"dataframe\">\n",
       "  <thead>\n",
       "    <tr style=\"text-align: right;\">\n",
       "      <th></th>\n",
       "      <th>workingday</th>\n",
       "      <th>Month</th>\n",
       "      <th>temp</th>\n",
       "      <th>humidity</th>\n",
       "      <th>windspeed</th>\n",
       "      <th>Hour</th>\n",
       "      <th>season_N</th>\n",
       "      <th>weather_N</th>\n",
       "      <th>Weekday_N</th>\n",
       "      <th>Month_N</th>\n",
       "    </tr>\n",
       "  </thead>\n",
       "  <tbody>\n",
       "    <tr>\n",
       "      <th>0</th>\n",
       "      <td>1</td>\n",
       "      <td>May</td>\n",
       "      <td>21.32</td>\n",
       "      <td>48</td>\n",
       "      <td>35.0008</td>\n",
       "      <td>11</td>\n",
       "      <td>2</td>\n",
       "      <td>0</td>\n",
       "      <td>4</td>\n",
       "      <td>8</td>\n",
       "    </tr>\n",
       "    <tr>\n",
       "      <th>1</th>\n",
       "      <td>0</td>\n",
       "      <td>June</td>\n",
       "      <td>23.78</td>\n",
       "      <td>64</td>\n",
       "      <td>7.0015</td>\n",
       "      <td>7</td>\n",
       "      <td>2</td>\n",
       "      <td>0</td>\n",
       "      <td>2</td>\n",
       "      <td>6</td>\n",
       "    </tr>\n",
       "    <tr>\n",
       "      <th>2</th>\n",
       "      <td>0</td>\n",
       "      <td>March</td>\n",
       "      <td>11.48</td>\n",
       "      <td>100</td>\n",
       "      <td>27.9993</td>\n",
       "      <td>20</td>\n",
       "      <td>1</td>\n",
       "      <td>1</td>\n",
       "      <td>3</td>\n",
       "      <td>7</td>\n",
       "    </tr>\n",
       "    <tr>\n",
       "      <th>3</th>\n",
       "      <td>1</td>\n",
       "      <td>October</td>\n",
       "      <td>25.42</td>\n",
       "      <td>83</td>\n",
       "      <td>0.0000</td>\n",
       "      <td>11</td>\n",
       "      <td>3</td>\n",
       "      <td>2</td>\n",
       "      <td>4</td>\n",
       "      <td>10</td>\n",
       "    </tr>\n",
       "    <tr>\n",
       "      <th>4</th>\n",
       "      <td>0</td>\n",
       "      <td>June</td>\n",
       "      <td>25.42</td>\n",
       "      <td>43</td>\n",
       "      <td>23.9994</td>\n",
       "      <td>12</td>\n",
       "      <td>2</td>\n",
       "      <td>0</td>\n",
       "      <td>2</td>\n",
       "      <td>6</td>\n",
       "    </tr>\n",
       "  </tbody>\n",
       "</table>\n",
       "</div>"
      ],
      "text/plain": [
       "  workingday    Month   temp  humidity  windspeed  Hour  season_N  weather_N  \\\n",
       "0          1      May  21.32        48    35.0008    11         2          0   \n",
       "1          0     June  23.78        64     7.0015     7         2          0   \n",
       "2          0    March  11.48       100    27.9993    20         1          1   \n",
       "3          1  October  25.42        83     0.0000    11         3          2   \n",
       "4          0     June  25.42        43    23.9994    12         2          0   \n",
       "\n",
       "   Weekday_N  Month_N  \n",
       "0          4        8  \n",
       "1          2        6  \n",
       "2          3        7  \n",
       "3          4       10  \n",
       "4          2        6  "
      ]
     },
     "execution_count": 266,
     "metadata": {},
     "output_type": "execute_result"
    }
   ],
   "source": [
    "##test data\n",
    "\n",
    "#creating an instance of label encoder\n",
    "label_encoder1=LabelEncoder()\n",
    "\n",
    "#Assigning numerical values and storing it in another column called season_N\n",
    "cab_test_04['season_N']=label_encoder1.fit_transform(cab_test_04['season'])\n",
    "\n",
    "#Assigning numerical values and storing it in another column called weather_N\n",
    "cab_test_04['weather_N']=label_encoder1.fit_transform(cab_test_04['weather'])\n",
    "\n",
    "#Assigning numerical values and storing it in another column called Weekday_N\n",
    "cab_test_04['Weekday_N']=label_encoder.fit_transform(cab_test_04['Weekday'])\n",
    "\n",
    "#Assigning numerical values and storing it in another column called Month_N\n",
    "cab_test_04['Month_N']=label_encoder.fit_transform(cab_test_04['Month'])\n",
    "\n",
    "cab_test_04.head()\n"
   ]
  },
  {
   "cell_type": "markdown",
   "metadata": {},
   "source": [
    "##### 5.4) Remove original columns, whose equivalent cat columns have been created"
   ]
  },
  {
   "cell_type": "code",
   "execution_count": 267,
   "metadata": {},
   "outputs": [
    {
     "data": {
      "text/plain": [
       "Index(['workingday', 'Total_booking', 'temp', 'humidity', 'windspeed', 'Hour',\n",
       "       'season_N', 'weather_N', 'Weekday_N', 'Month_N'],\n",
       "      dtype='object')"
      ]
     },
     "execution_count": 267,
     "metadata": {},
     "output_type": "execute_result"
    }
   ],
   "source": [
    "del cab_train_06['season']\n",
    "del cab_train_06['weather']\n",
    "del cab_train_06['Weekday']\n",
    "del cab_train_06['Month']\n",
    "\n",
    "\n",
    "cab_train_06.columns"
   ]
  },
  {
   "cell_type": "code",
   "execution_count": 268,
   "metadata": {},
   "outputs": [
    {
     "data": {
      "text/plain": [
       "Index(['workingday', 'temp', 'humidity', 'windspeed', 'Hour', 'season_N',\n",
       "       'weather_N', 'Weekday_N', 'Month_N'],\n",
       "      dtype='object')"
      ]
     },
     "execution_count": 268,
     "metadata": {},
     "output_type": "execute_result"
    }
   ],
   "source": [
    "#test data\n",
    "\n",
    "del cab_test_04['season']\n",
    "del cab_test_04['weather']\n",
    "del cab_test_04['Weekday']\n",
    "del cab_test_04['Month']\n",
    "\n",
    "cab_test_04.columns"
   ]
  },
  {
   "cell_type": "code",
   "execution_count": null,
   "metadata": {},
   "outputs": [],
   "source": [
    "### now our training and test data us ready for ML algorithms"
   ]
  },
  {
   "cell_type": "markdown",
   "metadata": {},
   "source": [
    "#### Task 06 - Regression ML algorothims\n",
    "\n",
    "\n",
    "#### 6.1) Linear Regression"
   ]
  },
  {
   "cell_type": "code",
   "execution_count": 283,
   "metadata": {},
   "outputs": [
    {
     "name": "stdout",
     "output_type": "stream",
     "text": [
      "coefficient of determination: 0.3407322262453174\n",
      "intercept: [4.37361877]\n",
      "slope: [[-1.65392004 -0.50767986  2.94187768  9.03436076 -2.14279029  0.02507441\n",
      "   7.37247532 23.60161884  2.92965604]]\n"
     ]
    }
   ],
   "source": [
    "X=cab_train_06[['workingday','Weekday_N','Month_N','temp','humidity','windspeed','Hour','season_N','weather_N']]\n",
    "Y=cab_train_06[['Total_booking']]\n",
    "\n",
    "#Create a model and fit it\n",
    "\n",
    "model = LinearRegression().fit(X, Y)\n",
    "\n",
    "#Get results\n",
    "\n",
    "r_sq = model.score(X, Y)\n",
    "print('coefficient of determination:', r_sq)\n",
    "print('intercept:', model.intercept_)\n",
    "print('slope:', model.coef_)\n"
   ]
  },
  {
   "cell_type": "code",
   "execution_count": 292,
   "metadata": {},
   "outputs": [
    {
     "name": "stdout",
     "output_type": "stream",
     "text": [
      "predicted response:\n",
      "[[243.1607286 ]\n",
      " [197.69416848]\n",
      " [ 87.56200225]\n",
      " ...\n",
      " [250.52773139]\n",
      " [ 62.66464162]\n",
      " [265.44717134]]\n"
     ]
    }
   ],
   "source": [
    "#Predict response\n",
    "\n",
    "X_test=cab_test_04[['workingday','Weekday_N','Month_N','temp','humidity','windspeed','Hour','season_N','weather_N']]\n",
    "Y_test=cab_test_label\n",
    "\n",
    "Y_pred = model.predict(X_test)\n",
    "print('predicted response:',Y_pred, sep='\\n')"
   ]
  },
  {
   "cell_type": "code",
   "execution_count": 294,
   "metadata": {},
   "outputs": [
    {
     "name": "stdout",
     "output_type": "stream",
     "text": [
      "(2178, 9)\n",
      "(2178, 1)\n"
     ]
    }
   ],
   "source": [
    "print(X_test.shape)\n",
    "print(Y_test.shape)"
   ]
  },
  {
   "cell_type": "code",
   "execution_count": 293,
   "metadata": {},
   "outputs": [
    {
     "name": "stdout",
     "output_type": "stream",
     "text": [
      "106.52375154904266\n",
      "20831.1384563453\n",
      "144.32996382021753\n"
     ]
    }
   ],
   "source": [
    "#model evaluation\n",
    "\n",
    "print(metrics.mean_absolute_error(Y_test,Y_pred))\n",
    "print(metrics.mean_squared_error(Y_test,Y_pred))\n",
    "print(np.sqrt(metrics.mean_squared_error(Y_test,Y_pred)))"
   ]
  },
  {
   "cell_type": "markdown",
   "metadata": {},
   "source": [
    "#### 6.2) Random Forest"
   ]
  },
  {
   "cell_type": "code",
   "execution_count": 299,
   "metadata": {},
   "outputs": [
    {
     "name": "stderr",
     "output_type": "stream",
     "text": [
      "<ipython-input-299-a4aed9650aa7>:7: DataConversionWarning: A column-vector y was passed when a 1d array was expected. Please change the shape of y to (n_samples,), for example using ravel().\n",
      "  regressor.fit(X, Y)\n"
     ]
    },
    {
     "name": "stdout",
     "output_type": "stream",
     "text": [
      "43.516505127027855\n",
      "4428.075530199279\n",
      "66.54378656342963\n"
     ]
    }
   ],
   "source": [
    "# Fitting Random Forest Regression to the dataset\n",
    "  \n",
    " # create regressor object\n",
    "regressor = RandomForestRegressor(n_estimators = 100, random_state = 0)\n",
    "  \n",
    "# fit the regressor with x and y data\n",
    "regressor.fit(X, Y) \n",
    "\n",
    "#Predicting a new result\n",
    "Y_pred1 = regressor.predict(X_test)\n",
    "\n",
    "#model evaluation\n",
    "\n",
    "print(metrics.mean_absolute_error(Y_test,Y_pred1))\n",
    "print(metrics.mean_squared_error(Y_test,Y_pred1))\n",
    "print(np.sqrt(metrics.mean_squared_error(Y_test,Y_pred1)))"
   ]
  },
  {
   "cell_type": "markdown",
   "metadata": {},
   "source": [
    "#### 6.3) Adaboost"
   ]
  },
  {
   "cell_type": "code",
   "execution_count": 305,
   "metadata": {},
   "outputs": [
    {
     "name": "stderr",
     "output_type": "stream",
     "text": [
      "C:\\Users\\YOGITA\\anaconda3\\lib\\site-packages\\sklearn\\utils\\validation.py:73: DataConversionWarning: A column-vector y was passed when a 1d array was expected. Please change the shape of y to (n_samples, ), for example using ravel().\n",
      "  return f(**kwargs)\n"
     ]
    },
    {
     "name": "stdout",
     "output_type": "stream",
     "text": [
      "Prediction: 338\n",
      "88.77338825871075\n",
      "13982.82687832315\n",
      "118.24900370964295\n"
     ]
    }
   ],
   "source": [
    "\n",
    "# define the model\n",
    "model = AdaBoostRegressor()\n",
    "# fit the model on the whole dataset\n",
    "model.fit(X, Y)\n",
    "\n",
    "#predict\n",
    "Y_pred2 = model.predict(X_test)\n",
    "print('Prediction: %d' % Y_pred2[0])\n",
    "\n",
    "#model evaluation\n",
    "\n",
    "print(metrics.mean_absolute_error(Y_test,Y_pred2))\n",
    "print(metrics.mean_squared_error(Y_test,Y_pred2))\n",
    "print(np.sqrt(metrics.mean_squared_error(Y_test,Y_pred2)))"
   ]
  },
  {
   "cell_type": "markdown",
   "metadata": {},
   "source": [
    "#### 6.4) Support Vector Regression"
   ]
  },
  {
   "cell_type": "code",
   "execution_count": 308,
   "metadata": {},
   "outputs": [
    {
     "name": "stderr",
     "output_type": "stream",
     "text": [
      "C:\\Users\\YOGITA\\anaconda3\\lib\\site-packages\\sklearn\\utils\\validation.py:73: DataConversionWarning: A column-vector y was passed when a 1d array was expected. Please change the shape of y to (n_samples, ), for example using ravel().\n",
      "  return f(**kwargs)\n"
     ]
    },
    {
     "name": "stdout",
     "output_type": "stream",
     "text": [
      "103.47897391721409\n",
      "23818.10058671056\n",
      "154.33113939419536\n"
     ]
    }
   ],
   "source": [
    "# Choose regression method and set hyperparameter\n",
    "svr_rbf=SVR(C=1.0, epsilon=0.2, kernel='rbf')\n",
    "\n",
    "# Training of the regression model\n",
    "svr_rbf.fit(X,Y)\n",
    "Y_pred3 = svr_rbf.predict(X_test)\n",
    "\n",
    "#model evaluation\n",
    "\n",
    "print(metrics.mean_absolute_error(Y_test,Y_pred3))\n",
    "print(metrics.mean_squared_error(Y_test,Y_pred3))\n",
    "print(np.sqrt(metrics.mean_squared_error(Y_test,Y_pred3)))"
   ]
  },
  {
   "cell_type": "code",
   "execution_count": null,
   "metadata": {},
   "outputs": [],
   "source": [
    "## as we can see the Random Forest is best model for this dataset as it gives the minimum error."
   ]
  }
 ],
 "metadata": {
  "kernelspec": {
   "display_name": "Python 3",
   "language": "python",
   "name": "python3"
  },
  "language_info": {
   "codemirror_mode": {
    "name": "ipython",
    "version": 3
   },
   "file_extension": ".py",
   "mimetype": "text/x-python",
   "name": "python",
   "nbconvert_exporter": "python",
   "pygments_lexer": "ipython3",
   "version": "3.8.3"
  }
 },
 "nbformat": 4,
 "nbformat_minor": 4
}
