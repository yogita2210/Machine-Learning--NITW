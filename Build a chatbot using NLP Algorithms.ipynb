{
 "cells": [
  {
   "cell_type": "markdown",
   "metadata": {
    "id": "fo63jLVAvuwy"
   },
   "source": [
    "#load imp libraries"
   ]
  },
  {
   "cell_type": "code",
   "execution_count": 1,
   "metadata": {
    "executionInfo": {
     "elapsed": 8871,
     "status": "ok",
     "timestamp": 1632057908180,
     "user": {
      "displayName": "Yogita Sharma",
      "photoUrl": "https://lh3.googleusercontent.com/a/default-user=s64",
      "userId": "11331555932313695412"
     },
     "user_tz": -330
    },
    "id": "f6djno6SvUoA"
   },
   "outputs": [],
   "source": [
    "import numpy as np\n",
    "import matplotlib.pylab as plt\n",
    "import re\n",
    "from collections import Counter\n",
    "from tensorflow.keras.models import Model\n",
    "from tensorflow.keras.layers import LSTM\n",
    "from tensorflow.keras.layers import Dense, Input, Embedding\n",
    "from tensorflow.keras.preprocessing.sequence import pad_sequences\n",
    "from sklearn.model_selection import train_test_split\n",
    "import os"
   ]
  },
  {
   "cell_type": "markdown",
   "metadata": {
    "id": "vxjsuWGAzCB3"
   },
   "source": [
    "#Download data\n",
    "\n",
    "Download the glove model available at https://nlp.stanford.edu/projects/glove/Specification:  Twitter  (2B  tweets,  27B  tokens,  1.2M  vocab,  uncased,  25d,  50d,  100d,  & 200d vectors, 1.42 GB download): glove.twitter.27B.zip"
   ]
  },
  {
   "cell_type": "code",
   "execution_count": 2,
   "metadata": {
    "colab": {
     "base_uri": "https://localhost:8080/",
     "height": 35
    },
    "executionInfo": {
     "elapsed": 22,
     "status": "ok",
     "timestamp": 1632057908181,
     "user": {
      "displayName": "Yogita Sharma",
      "photoUrl": "https://lh3.googleusercontent.com/a/default-user=s64",
      "userId": "11331555932313695412"
     },
     "user_tz": -330
    },
    "id": "_IoWkO4AwKEm",
    "outputId": "1aec7269-549a-4ba8-f151-e25ff5314675"
   },
   "outputs": [
    {
     "data": {
      "application/vnd.google.colaboratory.intrinsic+json": {
       "type": "string"
      },
      "text/plain": [
       "'/content'"
      ]
     },
     "execution_count": 2,
     "metadata": {},
     "output_type": "execute_result"
    }
   ],
   "source": [
    "%pwd"
   ]
  },
  {
   "cell_type": "code",
   "execution_count": 3,
   "metadata": {
    "colab": {
     "base_uri": "https://localhost:8080/"
    },
    "executionInfo": {
     "elapsed": 21,
     "status": "ok",
     "timestamp": 1632057908182,
     "user": {
      "displayName": "Yogita Sharma",
      "photoUrl": "https://lh3.googleusercontent.com/a/default-user=s64",
      "userId": "11331555932313695412"
     },
     "user_tz": -330
    },
    "id": "WgGuyftDXmoA",
    "outputId": "ddda5eef-8cd5-44b0-b201-a43459242928"
   },
   "outputs": [
    {
     "name": "stdout",
     "output_type": "stream",
     "text": [
      "Drive already mounted at /content/drive; to attempt to forcibly remount, call drive.mount(\"/content/drive\", force_remount=True).\n"
     ]
    }
   ],
   "source": [
    "from google.colab import drive\n",
    "drive.mount('/content/drive')"
   ]
  },
  {
   "cell_type": "code",
   "execution_count": 4,
   "metadata": {
    "executionInfo": {
     "elapsed": 16,
     "status": "ok",
     "timestamp": 1632057908182,
     "user": {
      "displayName": "Yogita Sharma",
      "photoUrl": "https://lh3.googleusercontent.com/a/default-user=s64",
      "userId": "11331555932313695412"
     },
     "user_tz": -330
    },
    "id": "YSEPcbWhhNxy"
   },
   "outputs": [],
   "source": [
    "#change the working directory to drive \n",
    "import os\n",
    "os.chdir('/content/drive/MyDrive/NITW/Final project/')"
   ]
  },
  {
   "cell_type": "code",
   "execution_count": 5,
   "metadata": {
    "colab": {
     "base_uri": "https://localhost:8080/",
     "height": 35
    },
    "executionInfo": {
     "elapsed": 17,
     "status": "ok",
     "timestamp": 1632057908183,
     "user": {
      "displayName": "Yogita Sharma",
      "photoUrl": "https://lh3.googleusercontent.com/a/default-user=s64",
      "userId": "11331555932313695412"
     },
     "user_tz": -330
    },
    "id": "5OKMy6zRKJ4H",
    "outputId": "ae92c1c4-4084-4226-f87b-0bdc2ef1e3f4"
   },
   "outputs": [
    {
     "data": {
      "application/vnd.google.colaboratory.intrinsic+json": {
       "type": "string"
      },
      "text/plain": [
       "'/content/drive/MyDrive/NITW/Final project'"
      ]
     },
     "execution_count": 5,
     "metadata": {},
     "output_type": "execute_result"
    }
   ],
   "source": [
    "%pwd"
   ]
  },
  {
   "cell_type": "code",
   "execution_count": 6,
   "metadata": {
    "colab": {
     "base_uri": "https://localhost:8080/"
    },
    "executionInfo": {
     "elapsed": 299732,
     "status": "ok",
     "timestamp": 1632058207899,
     "user": {
      "displayName": "Yogita Sharma",
      "photoUrl": "https://lh3.googleusercontent.com/a/default-user=s64",
      "userId": "11331555932313695412"
     },
     "user_tz": -330
    },
    "id": "jVcn2DzDyKc3",
    "outputId": "03dae264-74eb-405b-db1a-befe0fedc43f"
   },
   "outputs": [
    {
     "name": "stdout",
     "output_type": "stream",
     "text": [
      "  % Total    % Received % Xferd  Average Speed   Time    Time     Time  Current\n",
      "                                 Dload  Upload   Total   Spent    Left  Speed\n",
      "100 1449M  100 1449M    0     0  4960k      0  0:04:59  0:04:59 --:--:-- 5734k\n"
     ]
    }
   ],
   "source": [
    "! curl -O http://downloads.cs.stanford.edu/nlp/data/glove.twitter.27B.zip"
   ]
  },
  {
   "cell_type": "code",
   "execution_count": 7,
   "metadata": {
    "colab": {
     "base_uri": "https://localhost:8080/"
    },
    "executionInfo": {
     "elapsed": 6946,
     "status": "ok",
     "timestamp": 1632058214840,
     "user": {
      "displayName": "Yogita Sharma",
      "photoUrl": "https://lh3.googleusercontent.com/a/default-user=s64",
      "userId": "11331555932313695412"
     },
     "user_tz": -330
    },
    "id": "_Lc22ZhsywEm",
    "outputId": "7f895c13-4ee9-4354-e3df-36d9de6fbc3f"
   },
   "outputs": [
    {
     "name": "stdout",
     "output_type": "stream",
     "text": [
      "replace embedding_data/glove.twitter.27B.25d.txt? [y]es, [n]o, [A]ll, [N]one, [r]ename: "
     ]
    }
   ],
   "source": [
    "!unzip -q glove.twitter.27B.zip -d embedding_data"
   ]
  },
  {
   "cell_type": "code",
   "execution_count": 8,
   "metadata": {
    "colab": {
     "base_uri": "https://localhost:8080/",
     "height": 35
    },
    "executionInfo": {
     "elapsed": 14,
     "status": "ok",
     "timestamp": 1632058214841,
     "user": {
      "displayName": "Yogita Sharma",
      "photoUrl": "https://lh3.googleusercontent.com/a/default-user=s64",
      "userId": "11331555932313695412"
     },
     "user_tz": -330
    },
    "id": "LRSjBS9yMn_m",
    "outputId": "9d70b98f-0c60-4b2e-d609-88f941010698"
   },
   "outputs": [
    {
     "data": {
      "application/vnd.google.colaboratory.intrinsic+json": {
       "type": "string"
      },
      "text/plain": [
       "'/content'"
      ]
     },
     "execution_count": 8,
     "metadata": {},
     "output_type": "execute_result"
    }
   ],
   "source": [
    "os.chdir('/content')\n",
    "%pwd"
   ]
  },
  {
   "cell_type": "markdown",
   "metadata": {
    "id": "HkeMfbmxzyQM"
   },
   "source": [
    "#Load the glove word embedding into a dictionary where the key is a unique word tokenand the value is a ddimension vector\n",
    "\n",
    ">Here we can see inside embedding_data, we have 4 files having 100dimension, 200 dimesnion, 25d and 50d vectors.\n",
    "\n",
    ">For our task, let's use the 50 dimesnion vectors i.e. \"glove.twitter.27B.50d.txt\""
   ]
  },
  {
   "cell_type": "code",
   "execution_count": 9,
   "metadata": {
    "colab": {
     "base_uri": "https://localhost:8080/"
    },
    "executionInfo": {
     "elapsed": 14,
     "status": "ok",
     "timestamp": 1632058214842,
     "user": {
      "displayName": "Yogita Sharma",
      "photoUrl": "https://lh3.googleusercontent.com/a/default-user=s64",
      "userId": "11331555932313695412"
     },
     "user_tz": -330
    },
    "id": "vo51vr_n1Zfb",
    "outputId": "3e3b855e-2375-478e-db37-8a73a3d59e90"
   },
   "outputs": [
    {
     "name": "stdout",
     "output_type": "stream",
     "text": [
      "Drive already mounted at /content/drive; to attempt to forcibly remount, call drive.mount(\"/content/drive\", force_remount=True).\n"
     ]
    }
   ],
   "source": [
    "##Download and Preprocess the Data\n",
    "# #mount Google drive\n",
    "from google.colab import drive\n",
    "drive.mount('/content/drive')"
   ]
  },
  {
   "cell_type": "code",
   "execution_count": 10,
   "metadata": {
    "executionInfo": {
     "elapsed": 71991,
     "status": "ok",
     "timestamp": 1632058286824,
     "user": {
      "displayName": "Yogita Sharma",
      "photoUrl": "https://lh3.googleusercontent.com/a/default-user=s64",
      "userId": "11331555932313695412"
     },
     "user_tz": -330
    },
    "id": "FJaBf2Wqz5kV"
   },
   "outputs": [],
   "source": [
    "word_embedding_dict = {} # empty dictionary\n",
    "\n",
    "with open(\"/content/drive/MyDrive/NITW/Final project/embedding_data/glove.twitter.27B.200d.txt\", 'r', encoding=\"utf-8\") as glove_file:\n",
    "    for line in glove_file:\n",
    "        values = line.split()\n",
    "        word = values[0]\n",
    "        vector = np.asarray(values[1:], \"float32\")\n",
    "        word_embedding_dict[word] = vector"
   ]
  },
  {
   "cell_type": "code",
   "execution_count": 11,
   "metadata": {
    "colab": {
     "base_uri": "https://localhost:8080/"
    },
    "executionInfo": {
     "elapsed": 32,
     "status": "ok",
     "timestamp": 1632058286828,
     "user": {
      "displayName": "Yogita Sharma",
      "photoUrl": "https://lh3.googleusercontent.com/a/default-user=s64",
      "userId": "11331555932313695412"
     },
     "user_tz": -330
    },
    "id": "F8zZ1gtC1GAh",
    "outputId": "0f293031-23e2-4c00-a933-4a1335b95745"
   },
   "outputs": [
    {
     "data": {
      "text/plain": [
       "1193514"
      ]
     },
     "execution_count": 11,
     "metadata": {},
     "output_type": "execute_result"
    }
   ],
   "source": [
    "len(word_embedding_dict)"
   ]
  },
  {
   "cell_type": "code",
   "execution_count": 12,
   "metadata": {
    "colab": {
     "base_uri": "https://localhost:8080/"
    },
    "executionInfo": {
     "elapsed": 27,
     "status": "ok",
     "timestamp": 1632058286829,
     "user": {
      "displayName": "Yogita Sharma",
      "photoUrl": "https://lh3.googleusercontent.com/a/default-user=s64",
      "userId": "11331555932313695412"
     },
     "user_tz": -330
    },
    "id": "CjfiW3zX7tJU",
    "outputId": "ab6b2816-ea2e-4f9a-cd1f-ddd78827a85d"
   },
   "outputs": [
    {
     "name": "stdout",
     "output_type": "stream",
     "text": [
      "[ 3.4683e-01 -1.9612e-01 -3.4923e-01 -2.8158e-01 -7.5627e-01 -4.0035e-02\n",
      "  5.3422e-01  1.5327e-03 -2.1963e-01 -5.6708e-01 -7.5112e-02  3.9074e-01\n",
      "  1.9201e-01  4.8046e-02 -1.6801e-01 -1.9140e-01  1.2162e-01 -2.2513e-01\n",
      "  2.2276e-02 -2.7632e-01  1.0721e-01 -5.8191e-02 -1.7654e-01 -2.0620e-02\n",
      " -3.9768e-02  1.2619e-01  1.8927e-01  1.7017e-01 -2.3453e-02 -4.2349e-01\n",
      " -4.2640e-02 -2.8101e-01 -3.2461e-01  3.0870e-01  9.4529e-02  1.3559e-01\n",
      " -5.0249e-01  3.0072e-01  1.5805e-01  5.5079e-01 -3.7005e-01 -2.1721e-01\n",
      " -7.1162e-01  4.2975e-01 -1.2451e-02 -2.4275e-01 -6.2902e-02  4.3755e-02\n",
      "  5.9098e-02  2.1553e-01  3.4048e-02 -1.5735e-01 -4.4731e-02 -1.2719e-01\n",
      "  3.3347e-01  2.2386e-01  3.9716e-01  8.4382e-02 -4.7057e-02 -1.4943e-01\n",
      "  2.0140e-02 -5.1345e-02 -1.7782e-02 -4.8558e-01 -4.4077e-02  3.8690e-01\n",
      " -3.5139e-01  8.8997e-01  6.6970e-01 -4.4012e-02  4.2673e-01 -1.9671e-01\n",
      " -5.8553e-02  1.0207e-01 -3.7026e-01  2.9633e-01  4.6047e-01  3.5699e-01\n",
      " -2.1564e-01  5.0676e-01  4.0541e-01  4.1538e-01  5.3481e-01  2.2050e-01\n",
      "  1.5578e-01 -5.7095e-01 -5.5002e-01  5.3877e-01  3.3419e-01 -3.3200e-01\n",
      " -2.0211e-01 -3.7219e-01 -1.1030e-01  8.9529e-01 -2.1052e-01 -1.3012e-01\n",
      " -2.4234e-01 -3.0347e-02  2.2557e-01  2.4603e-01 -4.7092e-01  6.5719e-02\n",
      " -7.6551e-02 -2.3749e-01 -2.7815e-01  2.2050e-01  2.0567e-01  5.3484e-01\n",
      " -1.1766e-01  8.3034e-02 -5.7123e-02 -1.7614e-01 -4.9715e-01  1.2829e-01\n",
      " -1.5242e-01 -7.7388e-01 -7.8140e-01 -4.3172e-01  6.7606e-01  2.9269e-01\n",
      "  1.9671e-01  5.0553e-01 -1.8921e-01 -1.8900e-01  7.1015e-02 -3.9347e-01\n",
      "  7.7432e-03 -7.6330e-01 -4.1828e-01  4.3882e-01  8.9947e-01 -2.4067e-01\n",
      "  1.3863e-01  2.5331e-01 -1.0869e-02 -1.0134e-01 -3.4365e-01  7.1961e-01\n",
      "  1.6856e-01  9.6054e-02 -1.7235e-01 -5.2650e-01  1.9650e-01 -9.1190e-02\n",
      " -1.7657e-01  1.4870e-01 -2.3176e-02  9.7574e-01  7.6538e-01 -2.8794e-01\n",
      "  3.5776e-01  1.4321e-02 -3.8378e+00 -1.7849e-01 -4.8907e-01  4.2256e-02\n",
      " -6.9440e-01 -3.7929e-01 -4.3389e-02 -1.5656e-01  7.4036e-01 -3.7037e-01\n",
      " -3.3502e-01 -5.3957e-02 -1.7478e-01 -6.7377e-02  4.2054e-01 -5.8659e-02\n",
      " -2.4218e-01 -8.4078e-02 -3.0372e-01  1.3549e-01  2.7088e-01  4.7949e-01\n",
      "  3.3393e-02  7.0947e-01 -2.8812e-01  2.9627e-01 -4.1006e-01 -2.7669e-01\n",
      " -1.7046e-01  3.8448e-02 -1.0742e-02  3.8250e-01  8.6832e-02 -1.7835e-02\n",
      " -7.0390e-01  1.9614e-02  8.2758e-03  3.2030e-01  3.5051e-03  3.3130e-01\n",
      "  1.5326e-01 -2.2007e-01 -4.5701e-01 -1.7719e-02 -6.1997e-01 -5.2073e-01\n",
      "  8.2294e-02 -5.4478e-01]\n"
     ]
    },
    {
     "data": {
      "text/plain": [
       "(200,)"
      ]
     },
     "execution_count": 12,
     "metadata": {},
     "output_type": "execute_result"
    }
   ],
   "source": [
    "#So the dictionary has more than a million entries. Lets see a few of them\n",
    "\n",
    "print(word_embedding_dict['hello'])\n",
    "word_embedding_dict['hello'].shape"
   ]
  },
  {
   "cell_type": "code",
   "execution_count": 13,
   "metadata": {
    "colab": {
     "base_uri": "https://localhost:8080/"
    },
    "executionInfo": {
     "elapsed": 23,
     "status": "ok",
     "timestamp": 1632058286829,
     "user": {
      "displayName": "Yogita Sharma",
      "photoUrl": "https://lh3.googleusercontent.com/a/default-user=s64",
      "userId": "11331555932313695412"
     },
     "user_tz": -330
    },
    "id": "09akUNlC76MI",
    "outputId": "b4a8190b-109c-4c5f-a256-be88b6071f7a"
   },
   "outputs": [
    {
     "name": "stdout",
     "output_type": "stream",
     "text": [
      "[ 1.7513e-01 -3.5645e-02 -1.5280e-01  1.2789e-01 -8.1739e-02  3.9544e-03\n",
      "  4.9699e-02  4.9327e-02 -2.0036e-01 -9.7087e-01  1.3116e-01 -2.9954e-01\n",
      " -1.0630e-01  1.4835e-01 -2.8138e-01 -5.0671e-01  9.0577e-02 -1.5514e-01\n",
      " -2.2512e-01  1.5974e-01  3.5446e-01  3.0933e-01 -6.4611e-02  1.8449e-01\n",
      "  3.9034e-01  1.2109e+00 -5.0995e-01  7.4940e-02  2.3574e-01 -5.6834e-01\n",
      " -4.0619e-01 -2.0566e-01 -2.8768e-02  4.3720e-01  2.3840e-01  3.5266e-01\n",
      " -7.0234e-01  6.5225e-01  2.6356e-01  5.3510e-01 -3.2218e-02  2.0903e-01\n",
      "  7.3437e-02  4.9300e-01  4.8715e-01 -1.4673e-01  7.1360e-03  1.5482e-01\n",
      " -2.8260e-01 -1.0312e-02 -1.3765e-01 -3.4539e-01 -3.5003e-02 -4.4507e-03\n",
      "  1.9730e-01  5.9487e-01 -4.7780e-02 -1.2509e-01  6.3074e-01  1.4180e-01\n",
      " -2.9888e-01 -4.3087e-01 -5.0525e-01  1.2222e-01  2.1973e-01 -4.9185e-01\n",
      "  9.8437e-02  5.2103e-02  3.0569e-01 -2.2386e-01 -3.8399e-02  8.4654e-03\n",
      "  2.6320e-02 -3.4285e-01  2.8355e-01  4.3037e-01  1.4519e-01 -1.6492e-01\n",
      " -2.8264e-01  5.3949e-01  2.6535e-01 -1.0983e-01  5.0509e-01  8.3905e-01\n",
      "  1.1371e-01  6.1366e-01 -1.9796e-01  2.5279e-01  6.3524e-01 -5.1851e-01\n",
      " -2.3945e-01 -3.1334e-02  1.2974e-01  6.3618e-01  2.1022e-01 -2.8958e-01\n",
      "  1.6855e-01  3.2738e-01  1.5145e-01  6.8250e-02 -4.2610e-01 -2.6518e-01\n",
      "  5.3868e-02 -2.6678e-01 -5.4553e-01 -1.5624e-01  2.6699e-01 -2.0493e-01\n",
      "  9.5795e-02  5.5002e-02  9.2998e-03 -1.6874e-01 -3.5225e-01  9.4162e-01\n",
      " -3.9331e-01 -4.7721e-01 -5.6619e-01 -9.3770e-01  4.0431e-01  1.1091e-01\n",
      "  2.5929e-01  1.2574e-01 -6.3417e-02  2.3161e-01  1.5476e-01  1.6530e-01\n",
      "  6.6014e-02 -6.2479e-01 -4.9649e-01  2.2612e-01  9.3374e-01 -6.2023e-01\n",
      "  1.1348e-01  4.6949e-01 -2.3179e-01 -3.2964e-01 -1.5217e-01  5.4731e-01\n",
      " -2.3302e-01  7.2832e-01 -2.9886e-01  2.8189e-02 -6.5521e-02  2.5763e-01\n",
      " -2.2927e-01 -3.7020e-02 -1.0265e-01  2.0080e-01  2.6515e-01 -4.3906e-01\n",
      "  5.5784e-02  3.9368e-02 -4.9448e+00  1.7991e-01 -4.1086e-01 -7.3805e-01\n",
      " -5.0763e-01 -5.6236e-02  6.5506e-01  3.9351e-01  3.2724e-01 -4.8221e-01\n",
      "  6.0827e-02  5.2288e-01  9.4437e-02  2.4360e-01 -2.1763e-01  1.5166e-01\n",
      "  2.4997e-01 -4.1357e-02 -6.1864e-01  1.5905e-01  6.9240e-02  3.9784e-01\n",
      " -5.9814e-01  2.3337e-01 -2.2466e-01  1.3659e-02  2.4710e-01  2.9519e-01\n",
      " -2.2707e-01  5.2895e-01  2.7598e-01  6.3040e-01 -4.5438e-01 -5.7313e-01\n",
      " -6.0348e-01 -2.5204e-01 -3.4638e-01 -5.5030e-02  1.9542e-01 -2.1092e-03\n",
      "  1.2852e+00 -4.7185e-02 -2.3576e-02  4.1204e-01 -4.0940e-01 -2.4818e-01\n",
      " -6.5680e-02 -1.0838e-02]\n"
     ]
    },
    {
     "data": {
      "text/plain": [
       "(200,)"
      ]
     },
     "execution_count": 13,
     "metadata": {},
     "output_type": "execute_result"
    }
   ],
   "source": [
    "print(word_embedding_dict['morning'])\n",
    "word_embedding_dict['morning'].shape"
   ]
  },
  {
   "cell_type": "markdown",
   "metadata": {
    "id": "jgYgLL9k8FFG"
   },
   "source": [
    "As we can see from the above examples, words such as 'hello' and 'morning' have now been represented as a 50 dimension vector"
   ]
  },
  {
   "cell_type": "markdown",
   "metadata": {
    "id": "1inMROWI8aHw"
   },
   "source": [
    "# Data Loading - Movie dialogs\n",
    "\n",
    "The only two files we need for our activity is the movie_lines.txt and the movie_conversations.txt. Lets look at these two files and understand the data and their relationship"
   ]
  },
  {
   "cell_type": "code",
   "execution_count": 14,
   "metadata": {
    "colab": {
     "base_uri": "https://localhost:8080/"
    },
    "executionInfo": {
     "elapsed": 181476,
     "status": "ok",
     "timestamp": 1632058468286,
     "user": {
      "displayName": "Yogita Sharma",
      "photoUrl": "https://lh3.googleusercontent.com/a/default-user=s64",
      "userId": "11331555932313695412"
     },
     "user_tz": -330
    },
    "id": "uSOGTIuO9en3",
    "outputId": "858208d5-5eaf-476a-9037-1ac16e73c919"
   },
   "outputs": [
    {
     "name": "stdout",
     "output_type": "stream",
     "text": [
      "replace /content/drive/MyDrive/NITW/Final project/dataset/cornell movie-dialogs corpus/.DS_Store? [y]es, [n]o, [A]ll, [N]one, [r]ename: "
     ]
    }
   ],
   "source": [
    "!unzip -q \"/content/drive/MyDrive/NITW/Final project/cornell_movie_dialogs_corpus.zip\" -d \"/content/drive/MyDrive/NITW/Final project/dataset\""
   ]
  },
  {
   "cell_type": "code",
   "execution_count": 15,
   "metadata": {
    "executionInfo": {
     "elapsed": 735,
     "status": "ok",
     "timestamp": 1632058469017,
     "user": {
      "displayName": "Yogita Sharma",
      "photoUrl": "https://lh3.googleusercontent.com/a/default-user=s64",
      "userId": "11331555932313695412"
     },
     "user_tz": -330
    },
    "id": "HPgHVv4cAvQA"
   },
   "outputs": [],
   "source": [
    "movie_lines = open('/content/drive/MyDrive/NITW/Final project/dataset/cornell movie-dialogs corpus/movie_lines.txt', encoding='utf-8', errors='ignore').read().split('\\n')"
   ]
  },
  {
   "cell_type": "code",
   "execution_count": 16,
   "metadata": {
    "colab": {
     "base_uri": "https://localhost:8080/"
    },
    "executionInfo": {
     "elapsed": 16,
     "status": "ok",
     "timestamp": 1632058469018,
     "user": {
      "displayName": "Yogita Sharma",
      "photoUrl": "https://lh3.googleusercontent.com/a/default-user=s64",
      "userId": "11331555932313695412"
     },
     "user_tz": -330
    },
    "id": "SaqXLAvU8Khc",
    "outputId": "fc78bc57-2dd0-41ca-d8f1-f3b974e0485b"
   },
   "outputs": [
    {
     "name": "stdout",
     "output_type": "stream",
     "text": [
      "L1045 +++$+++ u0 +++$+++ m0 +++$+++ BIANCA +++$+++ They do not!\n",
      "L394 +++$+++ u4 +++$+++ m0 +++$+++ JOEY +++$+++ It's more\n"
     ]
    },
    {
     "data": {
      "text/plain": [
       "(304714, list)"
      ]
     },
     "execution_count": 16,
     "metadata": {},
     "output_type": "execute_result"
    }
   ],
   "source": [
    "print(movie_lines[0])\n",
    "print(movie_lines[100])\n",
    "len(movie_lines), type(movie_lines)"
   ]
  },
  {
   "cell_type": "code",
   "execution_count": 17,
   "metadata": {
    "colab": {
     "base_uri": "https://localhost:8080/"
    },
    "executionInfo": {
     "elapsed": 653,
     "status": "ok",
     "timestamp": 1632058469666,
     "user": {
      "displayName": "Yogita Sharma",
      "photoUrl": "https://lh3.googleusercontent.com/a/default-user=s64",
      "userId": "11331555932313695412"
     },
     "user_tz": -330
    },
    "id": "d_Gxe5Z7Bp9c",
    "outputId": "1f7e8dc8-9e00-4f6a-b046-1962d4028413"
   },
   "outputs": [
    {
     "data": {
      "text/plain": [
       "(83098, list)"
      ]
     },
     "execution_count": 17,
     "metadata": {},
     "output_type": "execute_result"
    }
   ],
   "source": [
    "# movie_conversations = open('/content/drive/MyDrive/A6.1 - Point of Sale Data/movie_conversations.txt', encoding='utf-8', errors='ignore').read().split('\\n')\n",
    "movie_conversations = open('/content/drive/MyDrive/NITW/Final project/dataset/cornell movie-dialogs corpus/movie_conversations.txt', encoding='utf-8', errors='ignore').read().split('\\n')\n",
    "len(movie_conversations), type(movie_conversations)"
   ]
  },
  {
   "cell_type": "code",
   "execution_count": 18,
   "metadata": {
    "colab": {
     "base_uri": "https://localhost:8080/"
    },
    "executionInfo": {
     "elapsed": 15,
     "status": "ok",
     "timestamp": 1632058469667,
     "user": {
      "displayName": "Yogita Sharma",
      "photoUrl": "https://lh3.googleusercontent.com/a/default-user=s64",
      "userId": "11331555932313695412"
     },
     "user_tz": -330
    },
    "id": "gU5Y9xQgB7zb",
    "outputId": "76784cc0-5393-468f-d7ba-d28bbc70c6a9"
   },
   "outputs": [
    {
     "name": "stdout",
     "output_type": "stream",
     "text": [
      "u0 +++$+++ u2 +++$+++ m0 +++$+++ ['L367', 'L368']\n",
      "u0 +++$+++ u5 +++$+++ m0 +++$+++ ['L904', 'L905', 'L906', 'L907', 'L908']\n"
     ]
    }
   ],
   "source": [
    "print(movie_conversations[10])\n",
    "print(movie_conversations[50])"
   ]
  },
  {
   "cell_type": "markdown",
   "metadata": {
    "id": "1mGUdWTmCBlW"
   },
   "source": [
    "##Observation from above 2 files:\n",
    "\n",
    "From the above data samples, we understand the following\n",
    "\n",
    "* Each line in both files uses \" +++$+++ \" as a field separator\n",
    "* In the 'conversation' file, for each line, the last field is a list of Line IDs. The other fields can be ignored\n",
    "* In the 'lines' file, the first field is the Line ID and the last field is the actual text. The other fields can be ignored\n",
    "\n",
    "With this knowledge, lets read the two files and extract only the information that will be useful for our activity."
   ]
  },
  {
   "cell_type": "code",
   "execution_count": 19,
   "metadata": {
    "colab": {
     "base_uri": "https://localhost:8080/"
    },
    "executionInfo": {
     "elapsed": 11,
     "status": "ok",
     "timestamp": 1632058469668,
     "user": {
      "displayName": "Yogita Sharma",
      "photoUrl": "https://lh3.googleusercontent.com/a/default-user=s64",
      "userId": "11331555932313695412"
     },
     "user_tz": -330
    },
    "id": "eVSKIll_B756",
    "outputId": "2d879508-d643-43fa-a03b-e6ab3509fe81"
   },
   "outputs": [
    {
     "data": {
      "text/plain": [
       "304714"
      ]
     },
     "execution_count": 19,
     "metadata": {},
     "output_type": "execute_result"
    }
   ],
   "source": [
    "lines_dict = {} # empty dictionary\n",
    "for movie_line in movie_lines:\n",
    "  fields = movie_line.split(' +++$+++ ')\n",
    "  lines_dict[fields[0]] = fields[-1]\n",
    "\n",
    "len(lines_dict)"
   ]
  },
  {
   "cell_type": "code",
   "execution_count": 20,
   "metadata": {
    "colab": {
     "base_uri": "https://localhost:8080/"
    },
    "executionInfo": {
     "elapsed": 8,
     "status": "ok",
     "timestamp": 1632058469669,
     "user": {
      "displayName": "Yogita Sharma",
      "photoUrl": "https://lh3.googleusercontent.com/a/default-user=s64",
      "userId": "11331555932313695412"
     },
     "user_tz": -330
    },
    "id": "EJSX9QjpCUyw",
    "outputId": "9c076df0-098d-43ee-f9d6-63c0171d3983"
   },
   "outputs": [
    {
     "name": "stdout",
     "output_type": "stream",
     "text": [
      "Expressing my opinion is not a terrorist action.\n",
      "Will Bogey get bent?\n"
     ]
    }
   ],
   "source": [
    "print(lines_dict['L104'])\n",
    "print(lines_dict['L390'])"
   ]
  },
  {
   "cell_type": "markdown",
   "metadata": {
    "id": "Mu5rlaLxCgUy"
   },
   "source": [
    "The lines dictionary has 304714 entries which matches the size of \"movie_lines.txt\" file we saw above. The 'key' for the dictionary is the LineID and the value is the actual text.\n",
    "\n",
    "### Now lets look at the data from \"movie_conversations.txt\" file"
   ]
  },
  {
   "cell_type": "code",
   "execution_count": 21,
   "metadata": {
    "colab": {
     "base_uri": "https://localhost:8080/"
    },
    "executionInfo": {
     "elapsed": 686,
     "status": "ok",
     "timestamp": 1632058470350,
     "user": {
      "displayName": "Yogita Sharma",
      "photoUrl": "https://lh3.googleusercontent.com/a/default-user=s64",
      "userId": "11331555932313695412"
     },
     "user_tz": -330
    },
    "id": "hQapMtRXCiwK",
    "outputId": "be22c2f4-9592-4225-cd36-fb48dece9b06"
   },
   "outputs": [
    {
     "name": "stdout",
     "output_type": "stream",
     "text": [
      "83098\n",
      "['L904', 'L905', 'L906', 'L907', 'L908']\n"
     ]
    }
   ],
   "source": [
    "conv_list = [] # empty list\n",
    "\n",
    "for conv in movie_conversations:\n",
    "  fields = conv.split(' +++$+++ ')\n",
    "  lines_in_conv = fields[-1]\n",
    "  lines_in_conv = lines_in_conv.replace(\"'\",\"\")   #remove single quotes\n",
    "  lines_in_conv = lines_in_conv.replace(\",\",\"\")   #remove commas\n",
    "  lines_in_conv = lines_in_conv.replace(\"[\",\"\")   #remove square brackets\n",
    "  lines_in_conv = lines_in_conv.replace(\"]\",\"\")   #remove square brackets\n",
    "  lines_in_conv_list = lines_in_conv.split()\n",
    "  conv_list.append(lines_in_conv_list)\n",
    "\n",
    "print(len(conv_list))\n",
    "print(conv_list[50])"
   ]
  },
  {
   "cell_type": "markdown",
   "metadata": {
    "id": "A8xfujIFCqqU"
   },
   "source": [
    "The conversation list has 83908 elements which matches the size of \"movie_conversations.txt\" we saw earlier. Each element is, in turn, a list of Line IDs. So it is a list of lists"
   ]
  },
  {
   "cell_type": "markdown",
   "metadata": {
    "id": "zAwBt7GFETI1"
   },
   "source": [
    "## Data Preperation"
   ]
  },
  {
   "cell_type": "code",
   "execution_count": 22,
   "metadata": {
    "executionInfo": {
     "elapsed": 3,
     "status": "ok",
     "timestamp": 1632058470351,
     "user": {
      "displayName": "Yogita Sharma",
      "photoUrl": "https://lh3.googleusercontent.com/a/default-user=s64",
      "userId": "11331555932313695412"
     },
     "user_tz": -330
    },
    "id": "e8Tfbth8EUqi"
   },
   "outputs": [],
   "source": [
    "# Lets first get an idea of the number of words in each line. \n",
    "# Some may have only one word such as \"Hello\", \n",
    "# but others will have a lot more.\n",
    "\n",
    "word_len_dict = {}\n",
    "for key, value in lines_dict.items():\n",
    "  word_len = len(value.split())\n",
    "  if word_len not in word_len_dict:\n",
    "    word_len_dict[word_len] = 1\n",
    "  else:\n",
    "    word_len_dict[word_len] += 1"
   ]
  },
  {
   "cell_type": "code",
   "execution_count": 23,
   "metadata": {
    "colab": {
     "base_uri": "https://localhost:8080/",
     "height": 265
    },
    "executionInfo": {
     "elapsed": 863,
     "status": "ok",
     "timestamp": 1632058471211,
     "user": {
      "displayName": "Yogita Sharma",
      "photoUrl": "https://lh3.googleusercontent.com/a/default-user=s64",
      "userId": "11331555932313695412"
     },
     "user_tz": -330
    },
    "id": "4Tii6haTEX4l",
    "outputId": "500c0946-5e8f-4cb1-91a9-266c4754d392"
   },
   "outputs": [
    {
     "data": {
      "image/png": "[encoded data removed]",
      "text/plain": [
       "<Figure size 432x288 with 1 Axes>"
      ]
     },
     "metadata": {
      "needs_background": "light"
     },
     "output_type": "display_data"
    }
   ],
   "source": [
    "# Lets plot the various lengths and see how they are distributed.\n",
    "my_lists = sorted(word_len_dict.items()) # sorted by key, return a list of tuples\n",
    "\n",
    "x, y = zip(*my_lists) # unpack a list of pairs into two tuples\n",
    "\n",
    "plt.plot(x, y)\n",
    "plt.show()"
   ]
  },
  {
   "cell_type": "markdown",
   "metadata": {
    "id": "MjOyHaZGEgeS"
   },
   "source": [
    "From the above graph it looks like word lengths of more than 30 or 40 are fairly uncommon. So lets select a MAX_WORD_COUNT = 25. This means any line with more than 25 words will be ignored from our processing"
   ]
  },
  {
   "cell_type": "code",
   "execution_count": 24,
   "metadata": {
    "executionInfo": {
     "elapsed": 9,
     "status": "ok",
     "timestamp": 1632058471212,
     "user": {
      "displayName": "Yogita Sharma",
      "photoUrl": "https://lh3.googleusercontent.com/a/default-user=s64",
      "userId": "11331555932313695412"
     },
     "user_tz": -330
    },
    "id": "WcXtweb4EhGR"
   },
   "outputs": [],
   "source": [
    "MAX_WORD_COUNT = 16 # this is what we will use for our processing"
   ]
  },
  {
   "cell_type": "code",
   "execution_count": 25,
   "metadata": {
    "executionInfo": {
     "elapsed": 10,
     "status": "ok",
     "timestamp": 1632058471213,
     "user": {
      "displayName": "Yogita Sharma",
      "photoUrl": "https://lh3.googleusercontent.com/a/default-user=s64",
      "userId": "11331555932313695412"
     },
     "user_tz": -330
    },
    "id": "beLokyhSEk8O"
   },
   "outputs": [],
   "source": [
    "# Utility function to remove any punctuations from the sentences and \n",
    "# also to standardize certain short forms such as \"that's\" and convert it to \n",
    "# its full form \"that is\". Another example could be to convet \"I'll\" to \"I will\"\n",
    "# It will also convert everything to lower case\n",
    "def cleanse_text(mytext):\n",
    "   mytext = mytext.lower()\n",
    "   mytext = re.sub(r\"he's\", \"he is\", mytext)\n",
    "   mytext = re.sub(r\"she's\", \"she is\", mytext)\n",
    "   mytext = re.sub(r\"won't\", \"will not\", mytext)\n",
    "   mytext = re.sub(r\"can't\", \"can not\", mytext)   \n",
    "   mytext = re.sub(r\"\\'ll\", \" will\", mytext)\n",
    "   mytext = re.sub(r\"\\'ve\", \" have\", mytext)\n",
    "   mytext = re.sub(r\"\\'re\", \" are\", mytext)\n",
    "   mytext = re.sub(r\"\\'d\", \" would\", mytext)\n",
    "   mytext = re.sub(r\"i'm\", \"i am\", mytext)\n",
    "   mytext = re.sub(r\"that's\", \"that is\", mytext)\n",
    "   mytext = re.sub(r\"what's\", \"what is\", mytext)\n",
    "   mytext = re.sub(r\"where's\", \"where is\", mytext)\n",
    "   mytext = re.sub(r\"[^\\w\\s]\", \"\", mytext)   #this will remove any punctuations\n",
    "   return mytext"
   ]
  },
  {
   "cell_type": "code",
   "execution_count": 26,
   "metadata": {
    "colab": {
     "base_uri": "https://localhost:8080/"
    },
    "executionInfo": {
     "elapsed": 9,
     "status": "ok",
     "timestamp": 1632058471213,
     "user": {
      "displayName": "Yogita Sharma",
      "photoUrl": "https://lh3.googleusercontent.com/a/default-user=s64",
      "userId": "11331555932313695412"
     },
     "user_tz": -330
    },
    "id": "JFgYb8e1Eoq5",
    "outputId": "5d504867-dc94-4a87-f4c9-0628793fdf87"
   },
   "outputs": [
    {
     "name": "stdout",
     "output_type": "stream",
     "text": [
      "where are the students\n",
      "what is the time we will have a lot of time \n"
     ]
    }
   ],
   "source": [
    "# Lets test the cleanse function a couple of times\n",
    "\n",
    "print(cleanse_text(\"Where're the students???\"))\n",
    "\n",
    "print(cleanse_text(\"What's the time? We'll have a lot of time. \"))"
   ]
  },
  {
   "cell_type": "markdown",
   "metadata": {
    "id": "VRNKQ1HHEst7"
   },
   "source": [
    "Now lets use the movie corpus and create a list of cleansed \"inputs\" and their cleansed \"responses\""
   ]
  },
  {
   "cell_type": "code",
   "execution_count": 27,
   "metadata": {
    "executionInfo": {
     "elapsed": 7584,
     "status": "ok",
     "timestamp": 1632058478791,
     "user": {
      "displayName": "Yogita Sharma",
      "photoUrl": "https://lh3.googleusercontent.com/a/default-user=s64",
      "userId": "11331555932313695412"
     },
     "user_tz": -330
    },
    "id": "BUWgSt36EthB"
   },
   "outputs": [],
   "source": [
    "input_sentences = []\n",
    "response_sentences = []\n",
    "\n",
    "for conv_item in conv_list:\n",
    "  for ctr in range(len(conv_item)-1):\n",
    "    input_sentences.append(cleanse_text(lines_dict[conv_item[ctr]]))\n",
    "    response_sentences.append(cleanse_text(lines_dict[conv_item[ctr+1]]))"
   ]
  },
  {
   "cell_type": "markdown",
   "metadata": {
    "id": "c9niqsWbFH6k"
   },
   "source": [
    "Lets see how our lists are looking"
   ]
  },
  {
   "cell_type": "code",
   "execution_count": 28,
   "metadata": {
    "colab": {
     "base_uri": "https://localhost:8080/"
    },
    "executionInfo": {
     "elapsed": 33,
     "status": "ok",
     "timestamp": 1632058478794,
     "user": {
      "displayName": "Yogita Sharma",
      "photoUrl": "https://lh3.googleusercontent.com/a/default-user=s64",
      "userId": "11331555932313695412"
     },
     "user_tz": -330
    },
    "id": "BzKtbVIZFKaa",
    "outputId": "51df802f-a911-4087-98a3-ee4a4dc714fc"
   },
   "outputs": [
    {
     "data": {
      "text/plain": [
       "(221616, 221616)"
      ]
     },
     "execution_count": 28,
     "metadata": {},
     "output_type": "execute_result"
    }
   ],
   "source": [
    "len(input_sentences), len(response_sentences) # lengths should be equal"
   ]
  },
  {
   "cell_type": "code",
   "execution_count": 29,
   "metadata": {
    "colab": {
     "base_uri": "https://localhost:8080/"
    },
    "executionInfo": {
     "elapsed": 29,
     "status": "ok",
     "timestamp": 1632058478795,
     "user": {
      "displayName": "Yogita Sharma",
      "photoUrl": "https://lh3.googleusercontent.com/a/default-user=s64",
      "userId": "11331555932313695412"
     },
     "user_tz": -330
    },
    "id": "rhnQGVLLFOrR",
    "outputId": "9df31e78-ebb8-4f82-ccfe-237084dfb096"
   },
   "outputs": [
    {
     "name": "stdout",
     "output_type": "stream",
     "text": [
      "after that i swore i would never do anything just because everyone else was doing it  and i havent since except for bogeys party and my stunning gastrointestinal display \n",
      "why didnt you tell me\n"
     ]
    }
   ],
   "source": [
    "# Lets see a input-response pair\n",
    "\n",
    "print(input_sentences[90])\n",
    "print(response_sentences[90])"
   ]
  },
  {
   "cell_type": "code",
   "execution_count": 30,
   "metadata": {
    "colab": {
     "base_uri": "https://localhost:8080/"
    },
    "executionInfo": {
     "elapsed": 24,
     "status": "ok",
     "timestamp": 1632058478795,
     "user": {
      "displayName": "Yogita Sharma",
      "photoUrl": "https://lh3.googleusercontent.com/a/default-user=s64",
      "userId": "11331555932313695412"
     },
     "user_tz": -330
    },
    "id": "cyw9bI6CFc49",
    "outputId": "7b809ab6-c4c3-44a2-b252-33fb35f41741"
   },
   "outputs": [
    {
     "name": "stdout",
     "output_type": "stream",
     "text": [
      "fire department  firemen dont carry guns\n",
      "oh yeah  guess again\n"
     ]
    }
   ],
   "source": [
    "# Lets see another input-response pair\n",
    "\n",
    "print(input_sentences[1090])\n",
    "print(response_sentences[1090])"
   ]
  },
  {
   "cell_type": "markdown",
   "metadata": {
    "id": "h5v3W5mpFvNN"
   },
   "source": [
    "So as you can see from the above examples, you can see a basic \"dialog\" dataset that is taking shape\n",
    "\n",
    "Next lets filter out all those conversations where either the input or the response has more than 25 words"
   ]
  },
  {
   "cell_type": "code",
   "execution_count": 31,
   "metadata": {
    "executionInfo": {
     "elapsed": 21,
     "status": "ok",
     "timestamp": 1632058478796,
     "user": {
      "displayName": "Yogita Sharma",
      "photoUrl": "https://lh3.googleusercontent.com/a/default-user=s64",
      "userId": "11331555932313695412"
     },
     "user_tz": -330
    },
    "id": "wOoOV5HUFuvp"
   },
   "outputs": [],
   "source": [
    "input_sentences_filtered = []\n",
    "response_sentences_filtered = []"
   ]
  },
  {
   "cell_type": "code",
   "execution_count": 32,
   "metadata": {
    "executionInfo": {
     "elapsed": 21,
     "status": "ok",
     "timestamp": 1632058478796,
     "user": {
      "displayName": "Yogita Sharma",
      "photoUrl": "https://lh3.googleusercontent.com/a/default-user=s64",
      "userId": "11331555932313695412"
     },
     "user_tz": -330
    },
    "id": "IW7ktztWF0cj"
   },
   "outputs": [],
   "source": [
    "MAX_WORD_COUNT_NEW = MAX_WORD_COUNT - 2 \n",
    "# since we will be adding <start> and <end> tags\n",
    "# to each sentence to mark the start end and of each sentence\n",
    "\n",
    "for i in range(len(input_sentences)):\n",
    "  if len(input_sentences[i].split()) <= MAX_WORD_COUNT_NEW and len(response_sentences[i].split()) <= MAX_WORD_COUNT_NEW:\n",
    "    input_sentences_filtered.append(input_sentences[i])\n",
    "    response_sentences_filtered.append(response_sentences[i])"
   ]
  },
  {
   "cell_type": "code",
   "execution_count": 33,
   "metadata": {
    "colab": {
     "base_uri": "https://localhost:8080/"
    },
    "executionInfo": {
     "elapsed": 20,
     "status": "ok",
     "timestamp": 1632058478796,
     "user": {
      "displayName": "Yogita Sharma",
      "photoUrl": "https://lh3.googleusercontent.com/a/default-user=s64",
      "userId": "11331555932313695412"
     },
     "user_tz": -330
    },
    "id": "qmzE0yY-F5BI",
    "outputId": "b42b9932-ffd5-4cf9-bc0c-973c2094b4ce"
   },
   "outputs": [
    {
     "data": {
      "text/plain": [
       "(134186, 134186)"
      ]
     },
     "execution_count": 33,
     "metadata": {},
     "output_type": "execute_result"
    }
   ],
   "source": [
    "len(input_sentences_filtered), len(response_sentences_filtered) # lengths should still be equal"
   ]
  },
  {
   "cell_type": "markdown",
   "metadata": {
    "id": "qf7rc7WCF8vj"
   },
   "source": [
    "So we still have around 180k dialog pairs (out of the original 221k pairs) where both input and response are within the 23 word length limit\n",
    "\n",
    "Lets now add < start > and < end > to each sentence so that the training model can identify the start and end of each sentence "
   ]
  },
  {
   "cell_type": "code",
   "execution_count": 34,
   "metadata": {
    "executionInfo": {
     "elapsed": 18,
     "status": "ok",
     "timestamp": 1632058478797,
     "user": {
      "displayName": "Yogita Sharma",
      "photoUrl": "https://lh3.googleusercontent.com/a/default-user=s64",
      "userId": "11331555932313695412"
     },
     "user_tz": -330
    },
    "id": "qJmKIp_BF_Ih"
   },
   "outputs": [],
   "source": [
    "input_sentences_with_start_end = []\n",
    "response_sentences_with_start_end = []\n",
    "\n",
    "for i in range(len(input_sentences_filtered)):\n",
    "  input_sentences_with_start_end.append('<start> ' + input_sentences_filtered[i] + ' <end>')\n",
    "  response_sentences_with_start_end.append('<start> ' + response_sentences_filtered[i] + ' <end>')"
   ]
  },
  {
   "cell_type": "code",
   "execution_count": 35,
   "metadata": {
    "colab": {
     "base_uri": "https://localhost:8080/"
    },
    "executionInfo": {
     "elapsed": 1047,
     "status": "ok",
     "timestamp": 1632058479826,
     "user": {
      "displayName": "Yogita Sharma",
      "photoUrl": "https://lh3.googleusercontent.com/a/default-user=s64",
      "userId": "11331555932313695412"
     },
     "user_tz": -330
    },
    "id": "NsqMHEo1GBqM",
    "outputId": "504a50b9-fa8f-4464-b441-8686fbacdb3e"
   },
   "outputs": [
    {
     "data": {
      "text/plain": [
       "(134186, 134186)"
      ]
     },
     "execution_count": 35,
     "metadata": {},
     "output_type": "execute_result"
    }
   ],
   "source": [
    "len(input_sentences_with_start_end), len(response_sentences_with_start_end) \n",
    "# lengths should still be equal, and should still be same as what we saw before\n",
    "# i.e. 180353 "
   ]
  },
  {
   "cell_type": "code",
   "execution_count": 36,
   "metadata": {
    "colab": {
     "base_uri": "https://localhost:8080/"
    },
    "executionInfo": {
     "elapsed": 47,
     "status": "ok",
     "timestamp": 1632058479826,
     "user": {
      "displayName": "Yogita Sharma",
      "photoUrl": "https://lh3.googleusercontent.com/a/default-user=s64",
      "userId": "11331555932313695412"
     },
     "user_tz": -330
    },
    "id": "67DzSOPfGF7G",
    "outputId": "155b396e-1715-4082-b63f-459dc852524e"
   },
   "outputs": [
    {
     "name": "stdout",
     "output_type": "stream",
     "text": [
      "<start> you are hopeless <end>\n",
      "<start> that is the way i see it too <end>\n"
     ]
    }
   ],
   "source": [
    "#  Lets see a input-response pair and make sure it still has the same dialog\n",
    "# structure as earlier - just with the extra start and end tags\n",
    "\n",
    "print(input_sentences_with_start_end[1000])\n",
    "print(response_sentences_with_start_end[1000])"
   ]
  },
  {
   "cell_type": "markdown",
   "metadata": {
    "id": "a52Wecq0GM5w"
   },
   "source": [
    "# One Hot Encoding"
   ]
  },
  {
   "cell_type": "code",
   "execution_count": 37,
   "metadata": {
    "colab": {
     "base_uri": "https://localhost:8080/"
    },
    "executionInfo": {
     "elapsed": 43,
     "status": "ok",
     "timestamp": 1632058479827,
     "user": {
      "displayName": "Yogita Sharma",
      "photoUrl": "https://lh3.googleusercontent.com/a/default-user=s64",
      "userId": "11331555932313695412"
     },
     "user_tz": -330
    },
    "id": "VRvJ3k_1GOgX",
    "outputId": "8ed64795-4605-48f0-d413-567a6a32430e"
   },
   "outputs": [
    {
     "data": {
      "text/plain": [
       "30184"
      ]
     },
     "execution_count": 37,
     "metadata": {},
     "output_type": "execute_result"
    }
   ],
   "source": [
    "response_counter = Counter()\n",
    "\n",
    "for sentence in response_sentences_with_start_end:\n",
    "  for word in sentence.split():\n",
    "    response_counter[word] += 1\n",
    "len(response_counter)"
   ]
  },
  {
   "cell_type": "markdown",
   "metadata": {
    "id": "9-bWTMnyGV_W"
   },
   "source": [
    "We need to also include the first input sentence into this vocabulary since it was not part of the response dataset. So lets do it separately"
   ]
  },
  {
   "cell_type": "code",
   "execution_count": 38,
   "metadata": {
    "executionInfo": {
     "elapsed": 39,
     "status": "ok",
     "timestamp": 1632058479828,
     "user": {
      "displayName": "Yogita Sharma",
      "photoUrl": "https://lh3.googleusercontent.com/a/default-user=s64",
      "userId": "11331555932313695412"
     },
     "user_tz": -330
    },
    "id": "15pltqU0GYDQ"
   },
   "outputs": [],
   "source": [
    "for word in input_sentences_with_start_end[0].split():\n",
    "    response_counter[word] += 1"
   ]
  },
  {
   "cell_type": "code",
   "execution_count": 39,
   "metadata": {
    "colab": {
     "base_uri": "https://localhost:8080/"
    },
    "executionInfo": {
     "elapsed": 41,
     "status": "ok",
     "timestamp": 1632058479830,
     "user": {
      "displayName": "Yogita Sharma",
      "photoUrl": "https://lh3.googleusercontent.com/a/default-user=s64",
      "userId": "11331555932313695412"
     },
     "user_tz": -330
    },
    "id": "nhxErDecGbc4",
    "outputId": "fb6d15e3-d07a-4a12-fc75-2b8bf1a4f0fb"
   },
   "outputs": [
    {
     "data": {
      "text/plain": [
       "30185"
      ]
     },
     "execution_count": 39,
     "metadata": {},
     "output_type": "execute_result"
    }
   ],
   "source": [
    "len(response_counter)"
   ]
  },
  {
   "cell_type": "markdown",
   "metadata": {
    "id": "xETGS84EGenE"
   },
   "source": [
    "So our vocabulary has 40755 words, lets see the top 20 most commonly occuring words"
   ]
  },
  {
   "cell_type": "code",
   "execution_count": 40,
   "metadata": {
    "colab": {
     "base_uri": "https://localhost:8080/"
    },
    "executionInfo": {
     "elapsed": 39,
     "status": "ok",
     "timestamp": 1632058479831,
     "user": {
      "displayName": "Yogita Sharma",
      "photoUrl": "https://lh3.googleusercontent.com/a/default-user=s64",
      "userId": "11331555932313695412"
     },
     "user_tz": -330
    },
    "id": "95SGg4MsGgNL",
    "outputId": "e59b7e7a-a6fc-4493-9ffa-7bcaec90ee2c"
   },
   "outputs": [
    {
     "data": {
      "text/plain": [
       "[('<start>', 134187),\n",
       " ('<end>', 134187),\n",
       " ('you', 39719),\n",
       " ('i', 37652),\n",
       " ('the', 19555),\n",
       " ('to', 15992),\n",
       " ('a', 15254),\n",
       " ('is', 14707),\n",
       " ('it', 12682),\n",
       " ('what', 12595),\n",
       " ('that', 11167),\n",
       " ('are', 10120),\n",
       " ('me', 8372),\n",
       " ('not', 8235),\n",
       " ('no', 7681),\n",
       " ('dont', 7539),\n",
       " ('am', 7466),\n",
       " ('have', 7326),\n",
       " ('of', 7012),\n",
       " ('do', 6813)]"
      ]
     },
     "execution_count": 40,
     "metadata": {},
     "output_type": "execute_result"
    }
   ],
   "source": [
    "response_counter.most_common(20)"
   ]
  },
  {
   "cell_type": "markdown",
   "metadata": {
    "id": "q5QhA2uBHE8S"
   },
   "source": [
    "As expected, the start and end tags are part of every single sentence and hence are at the top of our list. Other commonly used words (such as articles) are also very common. \n",
    "\n",
    "As an approximation, lets only include those words in our vocabulary which at least occur in 0.1% of our sentences. Since our total sentence count is around 180k, lets go with 180 as our cut-off"
   ]
  },
  {
   "cell_type": "code",
   "execution_count": 41,
   "metadata": {
    "colab": {
     "base_uri": "https://localhost:8080/"
    },
    "executionInfo": {
     "elapsed": 35,
     "status": "ok",
     "timestamp": 1632058479831,
     "user": {
      "displayName": "Yogita Sharma",
      "photoUrl": "https://lh3.googleusercontent.com/a/default-user=s64",
      "userId": "11331555932313695412"
     },
     "user_tz": -330
    },
    "id": "Pbof8OMOHFuU",
    "outputId": "32cdfedc-86af-4733-9fc2-1c5db409b069"
   },
   "outputs": [
    {
     "data": {
      "text/plain": [
       "431"
      ]
     },
     "execution_count": 41,
     "metadata": {},
     "output_type": "execute_result"
    }
   ],
   "source": [
    "ctr = 0\n",
    "for x in response_counter.values():\n",
    "  if x > 180:\n",
    "    ctr += 1\n",
    "\n",
    "ctr "
   ]
  },
  {
   "cell_type": "markdown",
   "metadata": {
    "id": "cYpr2LRPHIx2"
   },
   "source": [
    "So there are 641 words that we can consider as part of our vocabulary. Any words outisde of this list will be treated as 'unknown'. This assumption will let us train our model in a reasonable time, but it might come at the cost of 'intellignce' for our Chatbot\n",
    "\n",
    "# Vocabulary Creation"
   ]
  },
  {
   "cell_type": "code",
   "execution_count": 42,
   "metadata": {
    "executionInfo": {
     "elapsed": 32,
     "status": "ok",
     "timestamp": 1632058479831,
     "user": {
      "displayName": "Yogita Sharma",
      "photoUrl": "https://lh3.googleusercontent.com/a/default-user=s64",
      "userId": "11331555932313695412"
     },
     "user_tz": -330
    },
    "id": "NQ2NYqxKLl49"
   },
   "outputs": [],
   "source": [
    "target_word2id = dict()\n",
    "\n",
    "for idx, word in enumerate(response_counter.most_common(641)):\n",
    "    target_word2id[word[0]] = idx + 1 \n",
    "\n",
    "if 'unknown' not in target_word2id:\n",
    "    target_word2id['unknown'] = 0\n",
    "target_id2word = dict([(idx, word) for word, idx in target_word2id.items()])\n",
    "num_decoder_tokens = len(target_id2word)+1\n",
    "np.save('/word-glove-target-word2idx.npy', target_word2id)\n",
    "np.save('/word-glove-target-idx2word.npy', target_id2word)"
   ]
  },
  {
   "cell_type": "code",
   "execution_count": 43,
   "metadata": {
    "executionInfo": {
     "elapsed": 32,
     "status": "ok",
     "timestamp": 1632058479832,
     "user": {
      "displayName": "Yogita Sharma",
      "photoUrl": "https://lh3.googleusercontent.com/a/default-user=s64",
      "userId": "11331555932313695412"
     },
     "user_tz": -330
    },
    "id": "YO-0OxCIHJii"
   },
   "outputs": [],
   "source": [
    "target_word2id = dict()\n",
    "\n",
    "for idx, word in enumerate(response_counter.most_common(641)):\n",
    "    target_word2id[word[0]] = idx + 1 # we are starting with index = 1 because we want to use index 0 for our 'padding' sequence."
   ]
  },
  {
   "cell_type": "code",
   "execution_count": 44,
   "metadata": {
    "colab": {
     "base_uri": "https://localhost:8080/"
    },
    "executionInfo": {
     "elapsed": 32,
     "status": "ok",
     "timestamp": 1632058479832,
     "user": {
      "displayName": "Yogita Sharma",
      "photoUrl": "https://lh3.googleusercontent.com/a/default-user=s64",
      "userId": "11331555932313695412"
     },
     "user_tz": -330
    },
    "id": "AHw-v21gHPoS",
    "outputId": "11cf0409-be36-4ff6-8674-b02154a66a1e"
   },
   "outputs": [
    {
     "data": {
      "text/plain": [
       "641"
      ]
     },
     "execution_count": 44,
     "metadata": {},
     "output_type": "execute_result"
    }
   ],
   "source": [
    "len(target_word2id.values())"
   ]
  },
  {
   "cell_type": "code",
   "execution_count": 45,
   "metadata": {
    "colab": {
     "base_uri": "https://localhost:8080/"
    },
    "executionInfo": {
     "elapsed": 29,
     "status": "ok",
     "timestamp": 1632058479833,
     "user": {
      "displayName": "Yogita Sharma",
      "photoUrl": "https://lh3.googleusercontent.com/a/default-user=s64",
      "userId": "11331555932313695412"
     },
     "user_tz": -330
    },
    "id": "T4iJMD_JHSOJ",
    "outputId": "ab8c3b78-0ef6-4348-b95d-bbb8925c93f7"
   },
   "outputs": [
    {
     "data": {
      "text/plain": [
       "dict_values([1, 2, 3, 4, 5, 6, 7, 8, 9, 10, 11, 12, 13, 14, 15, 16, 17, 18, 19, 20, 21, 22, 23, 24, 25, 26, 27, 28, 29, 30, 31, 32, 33, 34, 35, 36, 37, 38, 39, 40, 41, 42, 43, 44, 45, 46, 47, 48, 49, 50, 51, 52, 53, 54, 55, 56, 57, 58, 59, 60, 61, 62, 63, 64, 65, 66, 67, 68, 69, 70, 71, 72, 73, 74, 75, 76, 77, 78, 79, 80, 81, 82, 83, 84, 85, 86, 87, 88, 89, 90, 91, 92, 93, 94, 95, 96, 97, 98, 99, 100, 101, 102, 103, 104, 105, 106, 107, 108, 109, 110, 111, 112, 113, 114, 115, 116, 117, 118, 119, 120, 121, 122, 123, 124, 125, 126, 127, 128, 129, 130, 131, 132, 133, 134, 135, 136, 137, 138, 139, 140, 141, 142, 143, 144, 145, 146, 147, 148, 149, 150, 151, 152, 153, 154, 155, 156, 157, 158, 159, 160, 161, 162, 163, 164, 165, 166, 167, 168, 169, 170, 171, 172, 173, 174, 175, 176, 177, 178, 179, 180, 181, 182, 183, 184, 185, 186, 187, 188, 189, 190, 191, 192, 193, 194, 195, 196, 197, 198, 199, 200, 201, 202, 203, 204, 205, 206, 207, 208, 209, 210, 211, 212, 213, 214, 215, 216, 217, 218, 219, 220, 221, 222, 223, 224, 225, 226, 227, 228, 229, 230, 231, 232, 233, 234, 235, 236, 237, 238, 239, 240, 241, 242, 243, 244, 245, 246, 247, 248, 249, 250, 251, 252, 253, 254, 255, 256, 257, 258, 259, 260, 261, 262, 263, 264, 265, 266, 267, 268, 269, 270, 271, 272, 273, 274, 275, 276, 277, 278, 279, 280, 281, 282, 283, 284, 285, 286, 287, 288, 289, 290, 291, 292, 293, 294, 295, 296, 297, 298, 299, 300, 301, 302, 303, 304, 305, 306, 307, 308, 309, 310, 311, 312, 313, 314, 315, 316, 317, 318, 319, 320, 321, 322, 323, 324, 325, 326, 327, 328, 329, 330, 331, 332, 333, 334, 335, 336, 337, 338, 339, 340, 341, 342, 343, 344, 345, 346, 347, 348, 349, 350, 351, 352, 353, 354, 355, 356, 357, 358, 359, 360, 361, 362, 363, 364, 365, 366, 367, 368, 369, 370, 371, 372, 373, 374, 375, 376, 377, 378, 379, 380, 381, 382, 383, 384, 385, 386, 387, 388, 389, 390, 391, 392, 393, 394, 395, 396, 397, 398, 399, 400, 401, 402, 403, 404, 405, 406, 407, 408, 409, 410, 411, 412, 413, 414, 415, 416, 417, 418, 419, 420, 421, 422, 423, 424, 425, 426, 427, 428, 429, 430, 431, 432, 433, 434, 435, 436, 437, 438, 439, 440, 441, 442, 443, 444, 445, 446, 447, 448, 449, 450, 451, 452, 453, 454, 455, 456, 457, 458, 459, 460, 461, 462, 463, 464, 465, 466, 467, 468, 469, 470, 471, 472, 473, 474, 475, 476, 477, 478, 479, 480, 481, 482, 483, 484, 485, 486, 487, 488, 489, 490, 491, 492, 493, 494, 495, 496, 497, 498, 499, 500, 501, 502, 503, 504, 505, 506, 507, 508, 509, 510, 511, 512, 513, 514, 515, 516, 517, 518, 519, 520, 521, 522, 523, 524, 525, 526, 527, 528, 529, 530, 531, 532, 533, 534, 535, 536, 537, 538, 539, 540, 541, 542, 543, 544, 545, 546, 547, 548, 549, 550, 551, 552, 553, 554, 555, 556, 557, 558, 559, 560, 561, 562, 563, 564, 565, 566, 567, 568, 569, 570, 571, 572, 573, 574, 575, 576, 577, 578, 579, 580, 581, 582, 583, 584, 585, 586, 587, 588, 589, 590, 591, 592, 593, 594, 595, 596, 597, 598, 599, 600, 601, 602, 603, 604, 605, 606, 607, 608, 609, 610, 611, 612, 613, 614, 615, 616, 617, 618, 619, 620, 621, 622, 623, 624, 625, 626, 627, 628, 629, 630, 631, 632, 633, 634, 635, 636, 637, 638, 639, 640, 641])"
      ]
     },
     "execution_count": 45,
     "metadata": {},
     "output_type": "execute_result"
    }
   ],
   "source": [
    "target_word2id.values()"
   ]
  },
  {
   "cell_type": "code",
   "execution_count": 46,
   "metadata": {
    "colab": {
     "base_uri": "https://localhost:8080/"
    },
    "executionInfo": {
     "elapsed": 26,
     "status": "ok",
     "timestamp": 1632058479833,
     "user": {
      "displayName": "Yogita Sharma",
      "photoUrl": "https://lh3.googleusercontent.com/a/default-user=s64",
      "userId": "11331555932313695412"
     },
     "user_tz": -330
    },
    "id": "vo4m9zOSHXRD",
    "outputId": "6b9db604-d097-4b78-f16a-d073f9070073"
   },
   "outputs": [
    {
     "data": {
      "text/plain": [
       "643"
      ]
     },
     "execution_count": 46,
     "metadata": {},
     "output_type": "execute_result"
    }
   ],
   "source": [
    "# Lets include a 'padding' sequence and an 'unknown' sequence to our dict\n",
    "target_word2id['<pad>'] = 0\n",
    "target_word2id['<unk>'] = 642\n",
    "\n",
    "len(target_word2id.values())"
   ]
  },
  {
   "cell_type": "markdown",
   "metadata": {
    "id": "jYIlaGRGHa4x"
   },
   "source": [
    "Lets see what our one hot encoded vocabulary can be used for"
   ]
  },
  {
   "cell_type": "code",
   "execution_count": 47,
   "metadata": {
    "colab": {
     "base_uri": "https://localhost:8080/"
    },
    "executionInfo": {
     "elapsed": 23,
     "status": "ok",
     "timestamp": 1632058479834,
     "user": {
      "displayName": "Yogita Sharma",
      "photoUrl": "https://lh3.googleusercontent.com/a/default-user=s64",
      "userId": "11331555932313695412"
     },
     "user_tz": -330
    },
    "id": "jt248l2IHdHB",
    "outputId": "f1731498-2a63-4b27-82bd-29be09211ff4"
   },
   "outputs": [
    {
     "data": {
      "text/plain": [
       "(48, 12, 3)"
      ]
     },
     "execution_count": 47,
     "metadata": {},
     "output_type": "execute_result"
    }
   ],
   "source": [
    "target_word2id['how'], target_word2id['are'], target_word2id['you']"
   ]
  },
  {
   "cell_type": "markdown",
   "metadata": {
    "id": "Qcsbd_CAHgwA"
   },
   "source": [
    "So 'how are you' can be represented as (57, 12 3) in a one hot encoded space of 643 dimensions\n",
    "\n",
    "Lets also create a 'transpose' of this vocabulary object - one which can be used to map an id to a word (and not the other way around)"
   ]
  },
  {
   "cell_type": "code",
   "execution_count": 48,
   "metadata": {
    "colab": {
     "base_uri": "https://localhost:8080/"
    },
    "executionInfo": {
     "elapsed": 20,
     "status": "ok",
     "timestamp": 1632058479834,
     "user": {
      "displayName": "Yogita Sharma",
      "photoUrl": "https://lh3.googleusercontent.com/a/default-user=s64",
      "userId": "11331555932313695412"
     },
     "user_tz": -330
    },
    "id": "mFKj48dAHin0",
    "outputId": "f7b8682d-01f0-48f0-8bbd-6078b22f8e10"
   },
   "outputs": [
    {
     "data": {
      "text/plain": [
       "643"
      ]
     },
     "execution_count": 48,
     "metadata": {},
     "output_type": "execute_result"
    }
   ],
   "source": [
    "target_id2word =  dict([(idx, word) for word, idx in target_word2id.items()])\n",
    "len(target_id2word)"
   ]
  },
  {
   "cell_type": "code",
   "execution_count": 49,
   "metadata": {
    "colab": {
     "base_uri": "https://localhost:8080/",
     "height": 35
    },
    "executionInfo": {
     "elapsed": 17,
     "status": "ok",
     "timestamp": 1632058479835,
     "user": {
      "displayName": "Yogita Sharma",
      "photoUrl": "https://lh3.googleusercontent.com/a/default-user=s64",
      "userId": "11331555932313695412"
     },
     "user_tz": -330
    },
    "id": "Gd5ZiZTRHnjH",
    "outputId": "7c34b7ab-a744-4dc6-9ebf-ddb19c815695"
   },
   "outputs": [
    {
     "data": {
      "application/vnd.google.colaboratory.intrinsic+json": {
       "type": "string"
      },
      "text/plain": [
       "'did are you'"
      ]
     },
     "execution_count": 49,
     "metadata": {},
     "output_type": "execute_result"
    }
   ],
   "source": [
    "target_id2word[57] + ' ' + target_id2word[12] + ' ' + target_id2word[3]"
   ]
  },
  {
   "cell_type": "markdown",
   "metadata": {
    "id": "Ht2OsjTGHsBc"
   },
   "source": [
    "So as you can see, our vocabulary of size 643 is ready. And we have dictionaries that can help us map a word to an id and vice versa. \n",
    "\n",
    "Lets save these two dictionaries as numpy files"
   ]
  },
  {
   "cell_type": "code",
   "execution_count": 50,
   "metadata": {
    "executionInfo": {
     "elapsed": 16,
     "status": "ok",
     "timestamp": 1632058479835,
     "user": {
      "displayName": "Yogita Sharma",
      "photoUrl": "https://lh3.googleusercontent.com/a/default-user=s64",
      "userId": "11331555932313695412"
     },
     "user_tz": -330
    },
    "id": "9sUXLWY7Hst_"
   },
   "outputs": [],
   "source": [
    "np.save('target_word2id.npy', target_id2word)\n",
    "np.save('target_id2word.npy', target_word2id)"
   ]
  },
  {
   "cell_type": "markdown",
   "metadata": {
    "id": "riNwpbv0Hyyz"
   },
   "source": [
    "# Model Creation"
   ]
  },
  {
   "cell_type": "code",
   "execution_count": 51,
   "metadata": {
    "executionInfo": {
     "elapsed": 17,
     "status": "ok",
     "timestamp": 1632058479836,
     "user": {
      "displayName": "Yogita Sharma",
      "photoUrl": "https://lh3.googleusercontent.com/a/default-user=s64",
      "userId": "11331555932313695412"
     },
     "user_tz": -330
    },
    "id": "vnrLbMagwOPz"
   },
   "outputs": [],
   "source": [
    "num_encoder_tokens = len(target_id2word)\n",
    "num_decoder_tokens = len(target_id2word)"
   ]
  },
  {
   "cell_type": "code",
   "execution_count": 52,
   "metadata": {
    "executionInfo": {
     "elapsed": 8699,
     "status": "ok",
     "timestamp": 1632058488518,
     "user": {
      "displayName": "Yogita Sharma",
      "photoUrl": "https://lh3.googleusercontent.com/a/default-user=s64",
      "userId": "11331555932313695412"
     },
     "user_tz": -330
    },
    "id": "8vgu_ojjKxWQ"
   },
   "outputs": [],
   "source": [
    "import tensorflow as tf\n",
    "encoder_inputs = tf.keras.layers.Input(shape=( None , ))\n",
    "encoder_embedding = tf.keras.layers.Embedding( num_decoder_tokens, 50 , mask_zero=True) (encoder_inputs)\n",
    "encoder_outputs , state_h , state_c = tf.keras.layers.LSTM( 50 , return_state=True )( encoder_embedding )\n",
    "encoder_states = [ state_h , state_c ]\n",
    "\n",
    "decoder_inputs = tf.keras.layers.Input(shape=( None ,  ))\n",
    "decoder_embedding = tf.keras.layers.Embedding( num_decoder_tokens, 50 , mask_zero=True) (decoder_inputs)\n",
    "decoder_lstm = tf.keras.layers.LSTM( 50 , return_state=True , return_sequences=True )\n",
    "decoder_outputs , _ , _ = decoder_lstm ( decoder_embedding , initial_state=encoder_states )\n",
    "decoder_dense = tf.keras.layers.Dense( num_decoder_tokens , activation=tf.keras.activations.softmax ) \n",
    "output = decoder_dense ( decoder_outputs )\n",
    "\n"
   ]
  },
  {
   "cell_type": "code",
   "execution_count": 53,
   "metadata": {
    "executionInfo": {
     "elapsed": 24,
     "status": "ok",
     "timestamp": 1632058488529,
     "user": {
      "displayName": "Yogita Sharma",
      "photoUrl": "https://lh3.googleusercontent.com/a/default-user=s64",
      "userId": "11331555932313695412"
     },
     "user_tz": -330
    },
    "id": "VD-qXlTiE4Cj"
   },
   "outputs": [],
   "source": [
    "model = Model([encoder_inputs, decoder_inputs], decoder_outputs)"
   ]
  },
  {
   "cell_type": "code",
   "execution_count": 54,
   "metadata": {
    "executionInfo": {
     "elapsed": 25,
     "status": "ok",
     "timestamp": 1632058488530,
     "user": {
      "displayName": "Yogita Sharma",
      "photoUrl": "https://lh3.googleusercontent.com/a/default-user=s64",
      "userId": "11331555932313695412"
     },
     "user_tz": -330
    },
    "id": "F0d8mKZqFEm4"
   },
   "outputs": [],
   "source": [
    "model.compile(loss='categorical_crossentropy', optimizer='rmsprop')"
   ]
  },
  {
   "cell_type": "code",
   "execution_count": 55,
   "metadata": {
    "colab": {
     "base_uri": "https://localhost:8080/"
    },
    "executionInfo": {
     "elapsed": 24,
     "status": "ok",
     "timestamp": 1632058488530,
     "user": {
      "displayName": "Yogita Sharma",
      "photoUrl": "https://lh3.googleusercontent.com/a/default-user=s64",
      "userId": "11331555932313695412"
     },
     "user_tz": -330
    },
    "id": "6zkr20xSFGT2",
    "outputId": "23f54755-af8f-49e5-ecdf-38cfc1f0a675"
   },
   "outputs": [
    {
     "data": {
      "text/plain": [
       "3541"
      ]
     },
     "execution_count": 55,
     "metadata": {},
     "output_type": "execute_result"
    }
   ],
   "source": [
    "model_arch = model.to_json()\n",
    "open('model-architecture.json', 'w').write(model_arch)"
   ]
  },
  {
   "cell_type": "code",
   "execution_count": 56,
   "metadata": {
    "colab": {
     "base_uri": "https://localhost:8080/"
    },
    "executionInfo": {
     "elapsed": 20,
     "status": "ok",
     "timestamp": 1632058488531,
     "user": {
      "displayName": "Yogita Sharma",
      "photoUrl": "https://lh3.googleusercontent.com/a/default-user=s64",
      "userId": "11331555932313695412"
     },
     "user_tz": -330
    },
    "id": "NMkBNHzpFI9M",
    "outputId": "ca2d4458-f10c-4a2e-8f49-38c314de2a8b"
   },
   "outputs": [
    {
     "name": "stdout",
     "output_type": "stream",
     "text": [
      "Model: \"model\"\n",
      "__________________________________________________________________________________________________\n",
      "Layer (type)                    Output Shape         Param #     Connected to                     \n",
      "==================================================================================================\n",
      "input_1 (InputLayer)            [(None, None)]       0                                            \n",
      "__________________________________________________________________________________________________\n",
      "input_2 (InputLayer)            [(None, None)]       0                                            \n",
      "__________________________________________________________________________________________________\n",
      "embedding (Embedding)           (None, None, 50)     32150       input_1[0][0]                    \n",
      "__________________________________________________________________________________________________\n",
      "embedding_1 (Embedding)         (None, None, 50)     32150       input_2[0][0]                    \n",
      "__________________________________________________________________________________________________\n",
      "lstm (LSTM)                     [(None, 50), (None,  20200       embedding[0][0]                  \n",
      "__________________________________________________________________________________________________\n",
      "lstm_1 (LSTM)                   [(None, None, 50), ( 20200       embedding_1[0][0]                \n",
      "                                                                 lstm[0][1]                       \n",
      "                                                                 lstm[0][2]                       \n",
      "==================================================================================================\n",
      "Total params: 104,700\n",
      "Trainable params: 104,700\n",
      "Non-trainable params: 0\n",
      "__________________________________________________________________________________________________\n"
     ]
    }
   ],
   "source": [
    "model.summary()"
   ]
  },
  {
   "cell_type": "code",
   "execution_count": 57,
   "metadata": {
    "executionInfo": {
     "elapsed": 5037,
     "status": "ok",
     "timestamp": 1632058493553,
     "user": {
      "displayName": "Yogita Sharma",
      "photoUrl": "https://lh3.googleusercontent.com/a/default-user=s64",
      "userId": "11331555932313695412"
     },
     "user_tz": -330
    },
    "id": "K9EscyNRMfib"
   },
   "outputs": [],
   "source": [
    "encoder_input_data = np.zeros((len(input_sentences_with_start_end), 25), dtype='float32')\n",
    "decoder_input_data = np.zeros((len(response_sentences_with_start_end), 25), dtype='float32')\n",
    "decoder_target_data = np.zeros((len(response_sentences_with_start_end), 25, num_decoder_tokens), dtype='float32')"
   ]
  },
  {
   "cell_type": "code",
   "execution_count": 58,
   "metadata": {
    "executionInfo": {
     "elapsed": 28,
     "status": "ok",
     "timestamp": 1632058493559,
     "user": {
      "displayName": "Yogita Sharma",
      "photoUrl": "https://lh3.googleusercontent.com/a/default-user=s64",
      "userId": "11331555932313695412"
     },
     "user_tz": -330
    },
    "id": "MfceaCKFMZRC"
   },
   "outputs": [],
   "source": [
    "model.fit([encoder_input_data, decoder_input_data], decoder_target_data,\n",
    "          batch_size=128,\n",
    "          epochs=10,\n",
    "          validation_split=0.20)"
   ]
  },
  {
   "cell_type": "code",
   "execution_count": 59,
   "metadata": {
    "executionInfo": {
     "elapsed": 27,
     "status": "ok",
     "timestamp": 1632058493559,
     "user": {
      "displayName": "Yogita Sharma",
      "photoUrl": "https://lh3.googleusercontent.com/a/default-user=s64",
      "userId": "11331555932313695412"
     },
     "user_tz": -330
    },
    "id": "mCBR6WOxODhj"
   },
   "outputs": [],
   "source": [
    "model.save_weights('model-weights.h5')\n",
    "#\n",
    "# # print(\"Model weights saved to disk\")"
   ]
  },
  {
   "cell_type": "code",
   "execution_count": 60,
   "metadata": {
    "colab": {
     "base_uri": "https://localhost:8080/"
    },
    "executionInfo": {
     "elapsed": 26,
     "status": "ok",
     "timestamp": 1632058493559,
     "user": {
      "displayName": "Yogita Sharma",
      "photoUrl": "https://lh3.googleusercontent.com/a/default-user=s64",
      "userId": "11331555932313695412"
     },
     "user_tz": -330
    },
    "id": "8gdKgn6VOKOI",
    "outputId": "cc5661d9-63c5-4dac-91d9-25316100bf49"
   },
   "outputs": [
    {
     "name": "stdout",
     "output_type": "stream",
     "text": [
      "Model: \"model_1\"\n",
      "_________________________________________________________________\n",
      "Layer (type)                 Output Shape              Param #   \n",
      "=================================================================\n",
      "input_1 (InputLayer)         [(None, None)]            0         \n",
      "_________________________________________________________________\n",
      "embedding (Embedding)        (None, None, 50)          32150     \n",
      "_________________________________________________________________\n",
      "lstm (LSTM)                  [(None, 50), (None, 50),  20200     \n",
      "=================================================================\n",
      "Total params: 52,350\n",
      "Trainable params: 52,350\n",
      "Non-trainable params: 0\n",
      "_________________________________________________________________\n",
      "Model: \"model_2\"\n",
      "_________________________________________________________________\n",
      "Layer (type)                 Output Shape              Param #   \n",
      "=================================================================\n",
      "input_1 (InputLayer)         [(None, None)]            0         \n",
      "_________________________________________________________________\n",
      "embedding (Embedding)        (None, None, 50)          32150     \n",
      "_________________________________________________________________\n",
      "lstm (LSTM)                  [(None, 50), (None, 50),  20200     \n",
      "=================================================================\n",
      "Total params: 52,350\n",
      "Trainable params: 52,350\n",
      "Non-trainable params: 0\n",
      "_________________________________________________________________\n"
     ]
    }
   ],
   "source": [
    "# Predictions\n",
    "# define the encoder model \n",
    "encoder_model = Model(encoder_inputs, encoder_states)\n",
    "encoder_model.summary()\n",
    "# define the encoder model \n",
    "encoder_model = Model(encoder_inputs, encoder_states)\n",
    "encoder_model.summary()"
   ]
  },
  {
   "cell_type": "code",
   "execution_count": 61,
   "metadata": {
    "executionInfo": {
     "elapsed": 25,
     "status": "ok",
     "timestamp": 1632058493560,
     "user": {
      "displayName": "Yogita Sharma",
      "photoUrl": "https://lh3.googleusercontent.com/a/default-user=s64",
      "userId": "11331555932313695412"
     },
     "user_tz": -330
    },
    "id": "Wa5FwdohJCqg"
   },
   "outputs": [],
   "source": [
    "# Redefine the decoder model with decoder will be getting below inputs from encoder while in prediction\n",
    "decoder_state_input_h = Input(shape=(50,))\n",
    "decoder_state_input_c = Input(shape=(50,))\n",
    "decoder_states_inputs = [decoder_state_input_h, decoder_state_input_c]"
   ]
  },
  {
   "cell_type": "code",
   "execution_count": 62,
   "metadata": {
    "executionInfo": {
     "elapsed": 24,
     "status": "ok",
     "timestamp": 1632058493560,
     "user": {
      "displayName": "Yogita Sharma",
      "photoUrl": "https://lh3.googleusercontent.com/a/default-user=s64",
      "userId": "11331555932313695412"
     },
     "user_tz": -330
    },
    "id": "_SX3N5MKJPGP"
   },
   "outputs": [],
   "source": [
    "embedding_size = 50\n",
    "embed2 =  Embedding(num_decoder_tokens, embedding_size)\n",
    "final_dex= embed2(decoder_inputs)"
   ]
  },
  {
   "cell_type": "code",
   "execution_count": 63,
   "metadata": {
    "executionInfo": {
     "elapsed": 25,
     "status": "ok",
     "timestamp": 1632058493561,
     "user": {
      "displayName": "Yogita Sharma",
      "photoUrl": "https://lh3.googleusercontent.com/a/default-user=s64",
      "userId": "11331555932313695412"
     },
     "user_tz": -330
    },
    "id": "49be8AtfI-f3"
   },
   "outputs": [],
   "source": [
    "final_dex2= embed2(decoder_inputs)\n",
    "decoder_outputs2, state_h2, state_c2 = decoder_lstm(final_dex2, initial_state=decoder_states_inputs)\n",
    "decoder_states2 = [state_h2, state_c2]\n",
    "decoder_outputs2 = decoder_dense(decoder_outputs2)"
   ]
  },
  {
   "cell_type": "code",
   "execution_count": 64,
   "metadata": {
    "executionInfo": {
     "elapsed": 24,
     "status": "ok",
     "timestamp": 1632058493561,
     "user": {
      "displayName": "Yogita Sharma",
      "photoUrl": "https://lh3.googleusercontent.com/a/default-user=s64",
      "userId": "11331555932313695412"
     },
     "user_tz": -330
    },
    "id": "vBhUMAO5I3_x"
   },
   "outputs": [],
   "source": [
    "# sampling model will take encoder states and decoder_input(seed initially) and output the predictions(response word index) We dont care about decoder_states2\n",
    "decoder_model = Model(\n",
    "    [decoder_inputs] + decoder_states_inputs,\n",
    "    [decoder_outputs2] + decoder_states2)"
   ]
  },
  {
   "cell_type": "code",
   "execution_count": 65,
   "metadata": {
    "executionInfo": {
     "elapsed": 22,
     "status": "ok",
     "timestamp": 1632058493561,
     "user": {
      "displayName": "Yogita Sharma",
      "photoUrl": "https://lh3.googleusercontent.com/a/default-user=s64",
      "userId": "11331555932313695412"
     },
     "user_tz": -330
    },
    "id": "LihBLwUHIuyQ"
   },
   "outputs": [],
   "source": [
    "def decode_sequence(input_seq):\n",
    "    # Encode the input as state vectors.\n",
    "    states_value = encoder_model.predict(input_seq)\n",
    "    # Generate empty target sequence of length 1.\n",
    "    target_seq = np.zeros((1,1))\n",
    "    # Populate the first character of target sequence with the start character.\n",
    "    target_seq[0, 0] = target_word2id['<start>']\n",
    "    # Sampling loop for a batch of sequences\n",
    "    # (to simplify, here we assume a batch of size 1).\n",
    "    stop_condition = False\n",
    "    decoded_sentence = ''\n",
    "    while not stop_condition:\n",
    "        output_tokens, h, c = decoder_model.predict([target_seq] + states_value)\n",
    "        # Sample a token\n",
    "        sampled_token_index = np.argmax(output_tokens[0, -1, :])\n",
    "        sampled_char = target_id2word[sampled_token_index]\n",
    "        decoded_sentence += ' '+sampled_char\n",
    "        # Exit condition: either hit max length\n",
    "        # or find stop character.\n",
    "        if (sampled_char == '<end>' or\n",
    "           len(decoded_sentence) > 25):\n",
    "            stop_condition = True\n",
    "        # Update the target sequence (of length 1).\n",
    "        target_seq = np.zeros((1,1))\n",
    "        target_seq[0, 0] = sampled_token_index\n",
    "        # Update states\n",
    "        states_value = [h, c]\n",
    "    return decoded_sentence"
   ]
  },
  {
   "cell_type": "markdown",
   "metadata": {
    "id": "fS7KEQk6Rs9q"
   },
   "source": [
    "# Test the chatbot"
   ]
  },
  {
   "cell_type": "code",
   "execution_count": 66,
   "metadata": {
    "executionInfo": {
     "elapsed": 23,
     "status": "ok",
     "timestamp": 1632058493562,
     "user": {
      "displayName": "Yogita Sharma",
      "photoUrl": "https://lh3.googleusercontent.com/a/default-user=s64",
      "userId": "11331555932313695412"
     },
     "user_tz": -330
    },
    "id": "aucqJ92qIaD9"
   },
   "outputs": [],
   "source": [
    "def determineChatBotResponse(my_input_text):\n",
    "    input_words = my_input_text.split()\n",
    "    print('Length of input ', len(input_words))\n",
    "    if len(input_words) > 24:\n",
    "        print('Truncating the question to 25 words')\n",
    "        input_words = input_words[0:25]        \n",
    "    else:\n",
    "        padding_required = 25 - len(input_words)\n",
    "        for i in range(padding_required):\n",
    "            input_words.append('<unk>')    \n",
    "    \n",
    "    print(\"Adjusting length to 25\")\n",
    "    input_outer_list = []\n",
    "    input_inner_list = []\n",
    "    for word in input_words:\n",
    "        if word in target_word2id:\n",
    "            input_inner_list.append(target_word2id[word])\n",
    "        else:\n",
    "            input_inner_list.append(642)\n",
    "    input_outer_list.append(input_inner_list)\n",
    "    decoded_sentence =  decode_sequence(input_outer_list)\n",
    "    print(\"Bot Response = \", decoded_sentence)"
   ]
  },
  {
   "cell_type": "code",
   "execution_count": 67,
   "metadata": {
    "colab": {
     "base_uri": "https://localhost:8080/"
    },
    "executionInfo": {
     "elapsed": 7210,
     "status": "ok",
     "timestamp": 1632058500750,
     "user": {
      "displayName": "Yogita Sharma",
      "photoUrl": "https://lh3.googleusercontent.com/a/default-user=s64",
      "userId": "11331555932313695412"
     },
     "user_tz": -330
    },
    "id": "QBTU6xcFIkbE",
    "outputId": "2069f873-d3e4-4961-dc76-bacdf96c8912"
   },
   "outputs": [
    {
     "name": "stdout",
     "output_type": "stream",
     "text": [
      "Length of input  24\n",
      "Adjusting length to 25\n",
      "Bot Response =   certainly certainly certainly\n"
     ]
    }
   ],
   "source": [
    "determineChatBotResponse(\"He used to be really popular when he started high school then it was just like he got sick of it and stopped caring\")"
   ]
  },
  {
   "cell_type": "code",
   "execution_count": 68,
   "metadata": {
    "colab": {
     "base_uri": "https://localhost:8080/"
    },
    "executionInfo": {
     "elapsed": 23,
     "status": "ok",
     "timestamp": 1632058500750,
     "user": {
      "displayName": "Yogita Sharma",
      "photoUrl": "https://lh3.googleusercontent.com/a/default-user=s64",
      "userId": "11331555932313695412"
     },
     "user_tz": -330
    },
    "id": "cOUahC96L4s_",
    "outputId": "c00b2a8a-5807-43aa-c516-c42f058f4759"
   },
   "outputs": [
    {
     "name": "stdout",
     "output_type": "stream",
     "text": [
      "Length of input  4\n",
      "Adjusting length to 25\n",
      "Bot Response =   oh been alive face been face\n"
     ]
    }
   ],
   "source": [
    "determineChatBotResponse('are you a man')"
   ]
  }
 ],
 "metadata": {
  "accelerator": "GPU",
  "colab": {
   "collapsed_sections": [],
   "name": "Final Term.ipynb",
   "provenance": []
  },
  "kernelspec": {
   "display_name": "Python 3",
   "language": "python",
   "name": "python3"
  },
  "language_info": {
   "codemirror_mode": {
    "name": "ipython",
    "version": 3
   },
   "file_extension": ".py",
   "mimetype": "text/x-python",
   "name": "python",
   "nbconvert_exporter": "python",
   "pygments_lexer": "ipython3",
   "version": "3.8.3"
  }
 },
 "nbformat": 4,
 "nbformat_minor": 1
}
